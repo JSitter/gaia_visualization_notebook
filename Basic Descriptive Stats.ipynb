{
 "cells": [
  {
   "cell_type": "code",
   "execution_count": 1,
   "metadata": {
    "collapsed": true
   },
   "outputs": [],
   "source": [
    "import pandas as pd\n",
    "import numpy as np\n",
    "import matplotlib.pyplot as plt\n",
    "%matplotlib inline"
   ]
  },
  {
   "cell_type": "code",
   "execution_count": 2,
   "metadata": {
    "collapsed": true
   },
   "outputs": [],
   "source": [
    "def read_data(filename):\n",
    "    #print(\"./unzipped-sample-data/\" + str(filename))\n",
    "    return pd.read_csv(\"./unzipped-sample-data/\" + str(filename))\n",
    "\n",
    "def stats(filename):\n",
    "    df = read_data(filename)\n",
    "    display(df.describe())\n",
    "    display(df.head())\n",
    "    return df\n",
    "\n",
    "def unique_vals(df, column_name):\n",
    "    display(\"Number of unique values for {}: {:,}\".format(column_name, len(pd.unique(df[column_name]))))"
   ]
  },
  {
   "cell_type": "code",
   "execution_count": 3,
   "metadata": {},
   "outputs": [
    {
     "data": {
      "text/html": [
       "<div>\n",
       "<style scoped>\n",
       "    .dataframe tbody tr th:only-of-type {\n",
       "        vertical-align: middle;\n",
       "    }\n",
       "\n",
       "    .dataframe tbody tr th {\n",
       "        vertical-align: top;\n",
       "    }\n",
       "\n",
       "    .dataframe thead th {\n",
       "        text-align: right;\n",
       "    }\n",
       "</style>\n",
       "<table border=\"1\" class=\"dataframe\">\n",
       "  <thead>\n",
       "    <tr style=\"text-align: right;\">\n",
       "      <th></th>\n",
       "      <th>source_id</th>\n",
       "    </tr>\n",
       "  </thead>\n",
       "  <tbody>\n",
       "    <tr>\n",
       "      <th>count</th>\n",
       "      <td>5.559340e+05</td>\n",
       "    </tr>\n",
       "    <tr>\n",
       "      <th>mean</th>\n",
       "      <td>3.340779e+18</td>\n",
       "    </tr>\n",
       "    <tr>\n",
       "      <th>std</th>\n",
       "      <td>1.966697e+18</td>\n",
       "    </tr>\n",
       "    <tr>\n",
       "      <th>min</th>\n",
       "      <td>6.459631e+12</td>\n",
       "    </tr>\n",
       "    <tr>\n",
       "      <th>25%</th>\n",
       "      <td>1.517902e+18</td>\n",
       "    </tr>\n",
       "    <tr>\n",
       "      <th>50%</th>\n",
       "      <td>3.231280e+18</td>\n",
       "    </tr>\n",
       "    <tr>\n",
       "      <th>75%</th>\n",
       "      <td>4.964837e+18</td>\n",
       "    </tr>\n",
       "    <tr>\n",
       "      <th>max</th>\n",
       "      <td>6.917505e+18</td>\n",
       "    </tr>\n",
       "  </tbody>\n",
       "</table>\n",
       "</div>"
      ],
      "text/plain": [
       "          source_id\n",
       "count  5.559340e+05\n",
       "mean   3.340779e+18\n",
       "std    1.966697e+18\n",
       "min    6.459631e+12\n",
       "25%    1.517902e+18\n",
       "50%    3.231280e+18\n",
       "75%    4.964837e+18\n",
       "max    6.917505e+18"
      ]
     },
     "metadata": {},
     "output_type": "display_data"
    },
    {
     "data": {
      "text/html": [
       "<div>\n",
       "<style scoped>\n",
       "    .dataframe tbody tr th:only-of-type {\n",
       "        vertical-align: middle;\n",
       "    }\n",
       "\n",
       "    .dataframe tbody tr th {\n",
       "        vertical-align: top;\n",
       "    }\n",
       "\n",
       "    .dataframe thead th {\n",
       "        text-align: right;\n",
       "    }\n",
       "</style>\n",
       "<table border=\"1\" class=\"dataframe\">\n",
       "  <thead>\n",
       "    <tr style=\"text-align: right;\">\n",
       "      <th></th>\n",
       "      <th>allwise_name</th>\n",
       "      <th>source_id</th>\n",
       "    </tr>\n",
       "  </thead>\n",
       "  <tbody>\n",
       "    <tr>\n",
       "      <th>0</th>\n",
       "      <td>J024707.10+082918.3</td>\n",
       "      <td>20613781436731904</td>\n",
       "    </tr>\n",
       "    <tr>\n",
       "      <th>1</th>\n",
       "      <td>J060250.61-393901.7</td>\n",
       "      <td>2882580082533882880</td>\n",
       "    </tr>\n",
       "    <tr>\n",
       "      <th>2</th>\n",
       "      <td>J151831.89-321550.5</td>\n",
       "      <td>6207547092250650240</td>\n",
       "    </tr>\n",
       "    <tr>\n",
       "      <th>3</th>\n",
       "      <td>J060156.00-110939.1</td>\n",
       "      <td>2998994350754252544</td>\n",
       "    </tr>\n",
       "    <tr>\n",
       "      <th>4</th>\n",
       "      <td>J151805.35+180554.5</td>\n",
       "      <td>1209013090298420096</td>\n",
       "    </tr>\n",
       "  </tbody>\n",
       "</table>\n",
       "</div>"
      ],
      "text/plain": [
       "          allwise_name            source_id\n",
       "0  J024707.10+082918.3    20613781436731904\n",
       "1  J060250.61-393901.7  2882580082533882880\n",
       "2  J151831.89-321550.5  6207547092250650240\n",
       "3  J060156.00-110939.1  2998994350754252544\n",
       "4  J151805.35+180554.5  1209013090298420096"
      ]
     },
     "metadata": {},
     "output_type": "display_data"
    }
   ],
   "source": [
    "df = stats(\"aux_allwise_agn_gdr2_cross_id.csv\")\n"
   ]
  },
  {
   "cell_type": "code",
   "execution_count": 4,
   "metadata": {},
   "outputs": [
    {
     "data": {
      "text/plain": [
       "'Number of records: 555,934'"
      ]
     },
     "metadata": {},
     "output_type": "display_data"
    },
    {
     "data": {
      "text/plain": [
       "'Number of unique values for allwise_name: 555,934'"
      ]
     },
     "metadata": {},
     "output_type": "display_data"
    }
   ],
   "source": [
    "display(\"Number of records: {:,}\".format(len(df)))\n",
    "unique_vals(df, 'allwise_name')"
   ]
  },
  {
   "cell_type": "code",
   "execution_count": 5,
   "metadata": {},
   "outputs": [
    {
     "data": {
      "text/html": [
       "<div>\n",
       "<style scoped>\n",
       "    .dataframe tbody tr th:only-of-type {\n",
       "        vertical-align: middle;\n",
       "    }\n",
       "\n",
       "    .dataframe tbody tr th {\n",
       "        vertical-align: top;\n",
       "    }\n",
       "\n",
       "    .dataframe thead th {\n",
       "        text-align: right;\n",
       "    }\n",
       "</style>\n",
       "<table border=\"1\" class=\"dataframe\">\n",
       "  <thead>\n",
       "    <tr style=\"text-align: right;\">\n",
       "      <th></th>\n",
       "      <th>source_id</th>\n",
       "    </tr>\n",
       "  </thead>\n",
       "  <tbody>\n",
       "    <tr>\n",
       "      <th>count</th>\n",
       "      <td>2.820000e+03</td>\n",
       "    </tr>\n",
       "    <tr>\n",
       "      <th>mean</th>\n",
       "      <td>3.136217e+18</td>\n",
       "    </tr>\n",
       "    <tr>\n",
       "      <th>std</th>\n",
       "      <td>1.933849e+18</td>\n",
       "    </tr>\n",
       "    <tr>\n",
       "      <th>min</th>\n",
       "      <td>2.395561e+14</td>\n",
       "    </tr>\n",
       "    <tr>\n",
       "      <th>25%</th>\n",
       "      <td>1.439102e+18</td>\n",
       "    </tr>\n",
       "    <tr>\n",
       "      <th>50%</th>\n",
       "      <td>2.955086e+18</td>\n",
       "    </tr>\n",
       "    <tr>\n",
       "      <th>75%</th>\n",
       "      <td>4.612704e+18</td>\n",
       "    </tr>\n",
       "    <tr>\n",
       "      <th>max</th>\n",
       "      <td>6.914053e+18</td>\n",
       "    </tr>\n",
       "  </tbody>\n",
       "</table>\n",
       "</div>"
      ],
      "text/plain": [
       "          source_id\n",
       "count  2.820000e+03\n",
       "mean   3.136217e+18\n",
       "std    1.933849e+18\n",
       "min    2.395561e+14\n",
       "25%    1.439102e+18\n",
       "50%    2.955086e+18\n",
       "75%    4.612704e+18\n",
       "max    6.914053e+18"
      ]
     },
     "metadata": {},
     "output_type": "display_data"
    },
    {
     "data": {
      "text/html": [
       "<div>\n",
       "<style scoped>\n",
       "    .dataframe tbody tr th:only-of-type {\n",
       "        vertical-align: middle;\n",
       "    }\n",
       "\n",
       "    .dataframe tbody tr th {\n",
       "        vertical-align: top;\n",
       "    }\n",
       "\n",
       "    .dataframe thead th {\n",
       "        text-align: right;\n",
       "    }\n",
       "</style>\n",
       "<table border=\"1\" class=\"dataframe\">\n",
       "  <thead>\n",
       "    <tr style=\"text-align: right;\">\n",
       "      <th></th>\n",
       "      <th>iers_name</th>\n",
       "      <th>source_id</th>\n",
       "    </tr>\n",
       "  </thead>\n",
       "  <tbody>\n",
       "    <tr>\n",
       "      <th>0</th>\n",
       "      <td>1101+384</td>\n",
       "      <td>763335402123160576</td>\n",
       "    </tr>\n",
       "    <tr>\n",
       "      <th>1</th>\n",
       "      <td>1226+023</td>\n",
       "      <td>3700386905605055360</td>\n",
       "    </tr>\n",
       "    <tr>\n",
       "      <th>2</th>\n",
       "      <td>0716+714</td>\n",
       "      <td>1111278502434316672</td>\n",
       "    </tr>\n",
       "    <tr>\n",
       "      <th>3</th>\n",
       "      <td>1254+571</td>\n",
       "      <td>1577113301057089664</td>\n",
       "    </tr>\n",
       "    <tr>\n",
       "      <th>4</th>\n",
       "      <td>2200+420</td>\n",
       "      <td>1960066225988786048</td>\n",
       "    </tr>\n",
       "  </tbody>\n",
       "</table>\n",
       "</div>"
      ],
      "text/plain": [
       "  iers_name            source_id\n",
       "0  1101+384   763335402123160576\n",
       "1  1226+023  3700386905605055360\n",
       "2  0716+714  1111278502434316672\n",
       "3  1254+571  1577113301057089664\n",
       "4  2200+420  1960066225988786048"
      ]
     },
     "metadata": {},
     "output_type": "display_data"
    },
    {
     "data": {
      "text/plain": [
       "'Number of records: 2,820'"
      ]
     },
     "metadata": {},
     "output_type": "display_data"
    },
    {
     "data": {
      "text/plain": [
       "'Number of unique values for iers_name: 2,820'"
      ]
     },
     "metadata": {},
     "output_type": "display_data"
    }
   ],
   "source": [
    "df = stats(\"aux_iers_gdr2_cross_id.csv\")\n",
    "column = 'iers_name'\n",
    "display(\"Number of records: {:,}\".format(len(df)))\n",
    "unique_vals(df, column)"
   ]
  },
  {
   "cell_type": "code",
   "execution_count": null,
   "metadata": {
    "collapsed": true
   },
   "outputs": [],
   "source": []
  },
  {
   "cell_type": "code",
   "execution_count": 6,
   "metadata": {},
   "outputs": [
    {
     "data": {
      "text/html": [
       "<div>\n",
       "<style scoped>\n",
       "    .dataframe tbody tr th:only-of-type {\n",
       "        vertical-align: middle;\n",
       "    }\n",
       "\n",
       "    .dataframe tbody tr th {\n",
       "        vertical-align: top;\n",
       "    }\n",
       "\n",
       "    .dataframe thead th {\n",
       "        text-align: right;\n",
       "    }\n",
       "</style>\n",
       "<table border=\"1\" class=\"dataframe\">\n",
       "  <thead>\n",
       "    <tr style=\"text-align: right;\">\n",
       "      <th></th>\n",
       "      <th>source_id</th>\n",
       "      <th>transit_id</th>\n",
       "      <th>observation_id</th>\n",
       "      <th>number_mp</th>\n",
       "      <th>epoch</th>\n",
       "      <th>residual_ra</th>\n",
       "      <th>residual_dec</th>\n",
       "      <th>residual_al</th>\n",
       "      <th>residual_ac</th>\n",
       "    </tr>\n",
       "  </thead>\n",
       "  <tbody>\n",
       "    <tr>\n",
       "      <th>count</th>\n",
       "      <td>1.977702e+06</td>\n",
       "      <td>1.977702e+06</td>\n",
       "      <td>1.977702e+06</td>\n",
       "      <td>1.977702e+06</td>\n",
       "      <td>1.977702e+06</td>\n",
       "      <td>1.977702e+06</td>\n",
       "      <td>1.977702e+06</td>\n",
       "      <td>1.977702e+06</td>\n",
       "      <td>1.977702e+06</td>\n",
       "    </tr>\n",
       "    <tr>\n",
       "      <th>mean</th>\n",
       "      <td>-4.284817e+09</td>\n",
       "      <td>3.421846e+16</td>\n",
       "      <td>3.421846e+17</td>\n",
       "      <td>1.507412e+04</td>\n",
       "      <td>2.015667e+03</td>\n",
       "      <td>-1.525278e+02</td>\n",
       "      <td>4.669005e+00</td>\n",
       "      <td>4.670074e-02</td>\n",
       "      <td>1.672012e+01</td>\n",
       "    </tr>\n",
       "    <tr>\n",
       "      <th>std</th>\n",
       "      <td>1.654293e+05</td>\n",
       "      <td>1.038068e+16</td>\n",
       "      <td>1.038068e+17</td>\n",
       "      <td>1.654293e+04</td>\n",
       "      <td>1.877293e+02</td>\n",
       "      <td>2.152991e+02</td>\n",
       "      <td>1.310799e+02</td>\n",
       "      <td>2.144552e+00</td>\n",
       "      <td>2.941734e+02</td>\n",
       "    </tr>\n",
       "    <tr>\n",
       "      <th>min</th>\n",
       "      <td>-4.284967e+09</td>\n",
       "      <td>1.551379e+16</td>\n",
       "      <td>1.551379e+17</td>\n",
       "      <td>8.000000e+00</td>\n",
       "      <td>1.677402e+03</td>\n",
       "      <td>-1.397984e+03</td>\n",
       "      <td>-9.690692e+02</td>\n",
       "      <td>-5.140185e+01</td>\n",
       "      <td>-1.230259e+03</td>\n",
       "    </tr>\n",
       "    <tr>\n",
       "      <th>25%</th>\n",
       "      <td>-4.284927e+09</td>\n",
       "      <td>2.512207e+16</td>\n",
       "      <td>2.512207e+17</td>\n",
       "      <td>4.021000e+03</td>\n",
       "      <td>1.851164e+03</td>\n",
       "      <td>-2.589174e+02</td>\n",
       "      <td>-5.639558e+01</td>\n",
       "      <td>-8.973596e-01</td>\n",
       "      <td>-1.530845e+02</td>\n",
       "    </tr>\n",
       "    <tr>\n",
       "      <th>50%</th>\n",
       "      <td>-4.284874e+09</td>\n",
       "      <td>3.471671e+16</td>\n",
       "      <td>3.471671e+17</td>\n",
       "      <td>9.334000e+03</td>\n",
       "      <td>2.024678e+03</td>\n",
       "      <td>-1.030045e+02</td>\n",
       "      <td>1.221477e+00</td>\n",
       "      <td>4.275479e-02</td>\n",
       "      <td>-2.645553e+00</td>\n",
       "    </tr>\n",
       "    <tr>\n",
       "      <th>75%</th>\n",
       "      <td>-4.284765e+09</td>\n",
       "      <td>4.323960e+16</td>\n",
       "      <td>4.323960e+17</td>\n",
       "      <td>2.027700e+04</td>\n",
       "      <td>2.178810e+03</td>\n",
       "      <td>-6.567419e+00</td>\n",
       "      <td>6.760609e+01</td>\n",
       "      <td>9.899460e-01</td>\n",
       "      <td>1.709983e+02</td>\n",
       "    </tr>\n",
       "    <tr>\n",
       "      <th>max</th>\n",
       "      <td>-4.283326e+09</td>\n",
       "      <td>5.184755e+16</td>\n",
       "      <td>5.184755e+17</td>\n",
       "      <td>1.641210e+05</td>\n",
       "      <td>2.334481e+03</td>\n",
       "      <td>9.878749e+02</td>\n",
       "      <td>1.088415e+03</td>\n",
       "      <td>4.401652e+01</td>\n",
       "      <td>1.407025e+03</td>\n",
       "    </tr>\n",
       "  </tbody>\n",
       "</table>\n",
       "</div>"
      ],
      "text/plain": [
       "          source_id    transit_id  observation_id     number_mp         epoch  \\\n",
       "count  1.977702e+06  1.977702e+06    1.977702e+06  1.977702e+06  1.977702e+06   \n",
       "mean  -4.284817e+09  3.421846e+16    3.421846e+17  1.507412e+04  2.015667e+03   \n",
       "std    1.654293e+05  1.038068e+16    1.038068e+17  1.654293e+04  1.877293e+02   \n",
       "min   -4.284967e+09  1.551379e+16    1.551379e+17  8.000000e+00  1.677402e+03   \n",
       "25%   -4.284927e+09  2.512207e+16    2.512207e+17  4.021000e+03  1.851164e+03   \n",
       "50%   -4.284874e+09  3.471671e+16    3.471671e+17  9.334000e+03  2.024678e+03   \n",
       "75%   -4.284765e+09  4.323960e+16    4.323960e+17  2.027700e+04  2.178810e+03   \n",
       "max   -4.283326e+09  5.184755e+16    5.184755e+17  1.641210e+05  2.334481e+03   \n",
       "\n",
       "        residual_ra  residual_dec   residual_al   residual_ac  \n",
       "count  1.977702e+06  1.977702e+06  1.977702e+06  1.977702e+06  \n",
       "mean  -1.525278e+02  4.669005e+00  4.670074e-02  1.672012e+01  \n",
       "std    2.152991e+02  1.310799e+02  2.144552e+00  2.941734e+02  \n",
       "min   -1.397984e+03 -9.690692e+02 -5.140185e+01 -1.230259e+03  \n",
       "25%   -2.589174e+02 -5.639558e+01 -8.973596e-01 -1.530845e+02  \n",
       "50%   -1.030045e+02  1.221477e+00  4.275479e-02 -2.645553e+00  \n",
       "75%   -6.567419e+00  6.760609e+01  9.899460e-01  1.709983e+02  \n",
       "max    9.878749e+02  1.088415e+03  4.401652e+01  1.407025e+03  "
      ]
     },
     "metadata": {},
     "output_type": "display_data"
    },
    {
     "data": {
      "text/html": [
       "<div>\n",
       "<style scoped>\n",
       "    .dataframe tbody tr th:only-of-type {\n",
       "        vertical-align: middle;\n",
       "    }\n",
       "\n",
       "    .dataframe tbody tr th {\n",
       "        vertical-align: top;\n",
       "    }\n",
       "\n",
       "    .dataframe thead th {\n",
       "        text-align: right;\n",
       "    }\n",
       "</style>\n",
       "<table border=\"1\" class=\"dataframe\">\n",
       "  <thead>\n",
       "    <tr style=\"text-align: right;\">\n",
       "      <th></th>\n",
       "      <th>source_id</th>\n",
       "      <th>transit_id</th>\n",
       "      <th>observation_id</th>\n",
       "      <th>number_mp</th>\n",
       "      <th>epoch</th>\n",
       "      <th>residual_ra</th>\n",
       "      <th>residual_dec</th>\n",
       "      <th>residual_al</th>\n",
       "      <th>residual_ac</th>\n",
       "      <th>selected</th>\n",
       "    </tr>\n",
       "  </thead>\n",
       "  <tbody>\n",
       "    <tr>\n",
       "      <th>0</th>\n",
       "      <td>-4284264096</td>\n",
       "      <td>44731466238325300</td>\n",
       "      <td>447314662383253006</td>\n",
       "      <td>70320</td>\n",
       "      <td>2205.789766</td>\n",
       "      <td>-496.958647</td>\n",
       "      <td>272.900143</td>\n",
       "      <td>-8.716658</td>\n",
       "      <td>-566.891881</td>\n",
       "      <td>True</td>\n",
       "    </tr>\n",
       "    <tr>\n",
       "      <th>1</th>\n",
       "      <td>-4284264096</td>\n",
       "      <td>45501824336814848</td>\n",
       "      <td>455018243368148481</td>\n",
       "      <td>70320</td>\n",
       "      <td>2219.720963</td>\n",
       "      <td>-76.617608</td>\n",
       "      <td>-50.437597</td>\n",
       "      <td>5.068819</td>\n",
       "      <td>-91.588843</td>\n",
       "      <td>True</td>\n",
       "    </tr>\n",
       "    <tr>\n",
       "      <th>2</th>\n",
       "      <td>-4284264096</td>\n",
       "      <td>45501824336814848</td>\n",
       "      <td>455018243368148482</td>\n",
       "      <td>70320</td>\n",
       "      <td>2219.721019</td>\n",
       "      <td>-17.751323</td>\n",
       "      <td>-11.301273</td>\n",
       "      <td>0.841977</td>\n",
       "      <td>-21.026634</td>\n",
       "      <td>True</td>\n",
       "    </tr>\n",
       "    <tr>\n",
       "      <th>3</th>\n",
       "      <td>-4284264096</td>\n",
       "      <td>45501824336814848</td>\n",
       "      <td>455018243368148483</td>\n",
       "      <td>70320</td>\n",
       "      <td>2219.721075</td>\n",
       "      <td>-39.161800</td>\n",
       "      <td>-20.672772</td>\n",
       "      <td>-1.824279</td>\n",
       "      <td>-44.245701</td>\n",
       "      <td>True</td>\n",
       "    </tr>\n",
       "    <tr>\n",
       "      <th>4</th>\n",
       "      <td>-4284264096</td>\n",
       "      <td>45501824336814848</td>\n",
       "      <td>455018243368148484</td>\n",
       "      <td>70320</td>\n",
       "      <td>2219.721132</td>\n",
       "      <td>-101.312187</td>\n",
       "      <td>-64.093363</td>\n",
       "      <td>4.453310</td>\n",
       "      <td>-119.801029</td>\n",
       "      <td>True</td>\n",
       "    </tr>\n",
       "  </tbody>\n",
       "</table>\n",
       "</div>"
      ],
      "text/plain": [
       "    source_id         transit_id      observation_id  number_mp        epoch  \\\n",
       "0 -4284264096  44731466238325300  447314662383253006      70320  2205.789766   \n",
       "1 -4284264096  45501824336814848  455018243368148481      70320  2219.720963   \n",
       "2 -4284264096  45501824336814848  455018243368148482      70320  2219.721019   \n",
       "3 -4284264096  45501824336814848  455018243368148483      70320  2219.721075   \n",
       "4 -4284264096  45501824336814848  455018243368148484      70320  2219.721132   \n",
       "\n",
       "   residual_ra  residual_dec  residual_al  residual_ac  selected  \n",
       "0  -496.958647    272.900143    -8.716658  -566.891881      True  \n",
       "1   -76.617608    -50.437597     5.068819   -91.588843      True  \n",
       "2   -17.751323    -11.301273     0.841977   -21.026634      True  \n",
       "3   -39.161800    -20.672772    -1.824279   -44.245701      True  \n",
       "4  -101.312187    -64.093363     4.453310  -119.801029      True  "
      ]
     },
     "metadata": {},
     "output_type": "display_data"
    },
    {
     "data": {
      "text/plain": [
       "'Number of records: 1,977,702'"
      ]
     },
     "metadata": {},
     "output_type": "display_data"
    },
    {
     "data": {
      "text/plain": [
       "'Number of unique values for epoch: 1,977,702'"
      ]
     },
     "metadata": {},
     "output_type": "display_data"
    },
    {
     "data": {
      "text/plain": [
       "'\\nExplanations of datamodel can be found at\\nhttps://gea.esac.esa.int/archive/documentation/GDR2/Gaia_archive/chap_datamodel/sec_dm_sso_tables/ssec_dm_sso_observation.html\\n'"
      ]
     },
     "execution_count": 6,
     "metadata": {},
     "output_type": "execute_result"
    }
   ],
   "source": [
    "df = stats(\"aux_sso_orbit_residuals.csv\")\n",
    "column = 'epoch'\n",
    "display(\"Number of records: {:,}\".format(len(df)))\n",
    "unique_vals(df, column)\n",
    "'''\n",
    "Explanations of datamodel can be found at\n",
    "https://gea.esac.esa.int/archive/documentation/GDR2/Gaia_archive/chap_datamodel/sec_dm_sso_tables/ssec_dm_sso_observation.html\n",
    "'''"
   ]
  },
  {
   "cell_type": "code",
   "execution_count": 7,
   "metadata": {},
   "outputs": [
    {
     "data": {
      "text/plain": [
       "'Number of records: 1,977,702'"
      ]
     },
     "metadata": {},
     "output_type": "display_data"
    },
    {
     "data": {
      "text/plain": [
       "'Number of unique values for source_id: 14,099'"
      ]
     },
     "metadata": {},
     "output_type": "display_data"
    },
    {
     "data": {
      "text/plain": [
       "'Number of unique values for transit_id: 287,904'"
      ]
     },
     "metadata": {},
     "output_type": "display_data"
    },
    {
     "data": {
      "text/plain": [
       "'Number of unique values for observation_id: 1,977,702'"
      ]
     },
     "metadata": {},
     "output_type": "display_data"
    },
    {
     "data": {
      "text/plain": [
       "'Number of unique values for number_mp: 14,099'"
      ]
     },
     "metadata": {},
     "output_type": "display_data"
    },
    {
     "data": {
      "text/plain": [
       "'Number of unique values for epoch: 1,977,702'"
      ]
     },
     "metadata": {},
     "output_type": "display_data"
    },
    {
     "data": {
      "text/plain": [
       "'Number of unique values for residual_ra: 1,977,702'"
      ]
     },
     "metadata": {},
     "output_type": "display_data"
    },
    {
     "data": {
      "text/plain": [
       "'Number of unique values for residual_dec: 1,977,666'"
      ]
     },
     "metadata": {},
     "output_type": "display_data"
    },
    {
     "data": {
      "text/plain": [
       "'Number of unique values for residual_al: 1,977,702'"
      ]
     },
     "metadata": {},
     "output_type": "display_data"
    },
    {
     "data": {
      "text/plain": [
       "'Number of unique values for residual_ac: 1,977,702'"
      ]
     },
     "metadata": {},
     "output_type": "display_data"
    },
    {
     "data": {
      "text/plain": [
       "'Number of unique values for selected: 1'"
      ]
     },
     "metadata": {},
     "output_type": "display_data"
    }
   ],
   "source": [
    "display(\"Number of records: {:,}\".format(len(df)))\n",
    "\n",
    "for column in df.columns.values:\n",
    "    unique_vals(df, column)\n"
   ]
  },
  {
   "cell_type": "code",
   "execution_count": 8,
   "metadata": {},
   "outputs": [
    {
     "data": {
      "text/plain": [
       "array([[<matplotlib.axes._subplots.AxesSubplot object at 0x114ec6358>,\n",
       "        <matplotlib.axes._subplots.AxesSubplot object at 0x11546e940>,\n",
       "        <matplotlib.axes._subplots.AxesSubplot object at 0x1103d35f8>],\n",
       "       [<matplotlib.axes._subplots.AxesSubplot object at 0x1104013c8>,\n",
       "        <matplotlib.axes._subplots.AxesSubplot object at 0x10f6653c8>,\n",
       "        <matplotlib.axes._subplots.AxesSubplot object at 0x10f665400>],\n",
       "       [<matplotlib.axes._subplots.AxesSubplot object at 0x110330908>,\n",
       "        <matplotlib.axes._subplots.AxesSubplot object at 0x110357710>,\n",
       "        <matplotlib.axes._subplots.AxesSubplot object at 0x110395e48>],\n",
       "       [<matplotlib.axes._subplots.AxesSubplot object at 0x110c6d198>,\n",
       "        <matplotlib.axes._subplots.AxesSubplot object at 0x110c81b70>,\n",
       "        <matplotlib.axes._subplots.AxesSubplot object at 0x1152da128>]], dtype=object)"
      ]
     },
     "execution_count": 8,
     "metadata": {},
     "output_type": "execute_result"
    },
    {
     "data": {
      "image/png": "[encoded data removed]",
      "text/plain": [
       "<matplotlib.figure.Figure at 0x11547a780>"
      ]
     },
     "metadata": {},
     "output_type": "display_data"
    }
   ],
   "source": [
    "df.hist(bins=150)"
   ]
  },
  {
   "cell_type": "code",
   "execution_count": null,
   "metadata": {
    "collapsed": true
   },
   "outputs": [],
   "source": []
  },
  {
   "cell_type": "code",
   "execution_count": 9,
   "metadata": {
    "scrolled": true
   },
   "outputs": [
    {
     "data": {
      "text/html": [
       "<div>\n",
       "<style scoped>\n",
       "    .dataframe tbody tr th:only-of-type {\n",
       "        vertical-align: middle;\n",
       "    }\n",
       "\n",
       "    .dataframe tbody tr th {\n",
       "        vertical-align: top;\n",
       "    }\n",
       "\n",
       "    .dataframe thead th {\n",
       "        text-align: right;\n",
       "    }\n",
       "</style>\n",
       "<table border=\"1\" class=\"dataframe\">\n",
       "  <thead>\n",
       "    <tr style=\"text-align: right;\">\n",
       "      <th></th>\n",
       "      <th>solution_id</th>\n",
       "      <th>source_id</th>\n",
       "      <th>random_index</th>\n",
       "      <th>ref_epoch</th>\n",
       "      <th>ra</th>\n",
       "      <th>ra_error</th>\n",
       "      <th>dec</th>\n",
       "      <th>dec_error</th>\n",
       "      <th>parallax</th>\n",
       "      <th>parallax_error</th>\n",
       "      <th>...</th>\n",
       "      <th>e_bp_min_rp_val</th>\n",
       "      <th>e_bp_min_rp_percentile_lower</th>\n",
       "      <th>e_bp_min_rp_percentile_upper</th>\n",
       "      <th>flame_flags</th>\n",
       "      <th>radius_val</th>\n",
       "      <th>radius_percentile_lower</th>\n",
       "      <th>radius_percentile_upper</th>\n",
       "      <th>lum_val</th>\n",
       "      <th>lum_percentile_lower</th>\n",
       "      <th>lum_percentile_upper</th>\n",
       "    </tr>\n",
       "  </thead>\n",
       "  <tbody>\n",
       "    <tr>\n",
       "      <th>count</th>\n",
       "      <td>1.000000e+06</td>\n",
       "      <td>1.000000e+06</td>\n",
       "      <td>1.000000e+06</td>\n",
       "      <td>1000000.0</td>\n",
       "      <td>1000000.000000</td>\n",
       "      <td>1000000.000000</td>\n",
       "      <td>1000000.000000</td>\n",
       "      <td>1000000.000000</td>\n",
       "      <td>992537.000000</td>\n",
       "      <td>992537.000000</td>\n",
       "      <td>...</td>\n",
       "      <td>656390.000000</td>\n",
       "      <td>656390.000000</td>\n",
       "      <td>656390.000000</td>\n",
       "      <td>1000000.000000</td>\n",
       "      <td>907748.000000</td>\n",
       "      <td>907748.000000</td>\n",
       "      <td>907748.000000</td>\n",
       "      <td>907748.000000</td>\n",
       "      <td>907748.000000</td>\n",
       "      <td>907748.000000</td>\n",
       "    </tr>\n",
       "    <tr>\n",
       "      <th>mean</th>\n",
       "      <td>1.635721e+18</td>\n",
       "      <td>6.371846e+17</td>\n",
       "      <td>8.466894e+08</td>\n",
       "      <td>2015.5</td>\n",
       "      <td>93.627699</td>\n",
       "      <td>0.049837</td>\n",
       "      <td>45.472612</td>\n",
       "      <td>0.045315</td>\n",
       "      <td>2.075408</td>\n",
       "      <td>0.051806</td>\n",
       "      <td>...</td>\n",
       "      <td>0.332444</td>\n",
       "      <td>0.235929</td>\n",
       "      <td>0.539255</td>\n",
       "      <td>181650.360028</td>\n",
       "      <td>7.201952</td>\n",
       "      <td>6.615363</td>\n",
       "      <td>7.704714</td>\n",
       "      <td>41.005397</td>\n",
       "      <td>35.303273</td>\n",
       "      <td>46.707521</td>\n",
       "    </tr>\n",
       "    <tr>\n",
       "      <th>std</th>\n",
       "      <td>0.000000e+00</td>\n",
       "      <td>4.077076e+17</td>\n",
       "      <td>4.889365e+08</td>\n",
       "      <td>0.0</td>\n",
       "      <td>70.672009</td>\n",
       "      <td>0.208098</td>\n",
       "      <td>17.468007</td>\n",
       "      <td>0.228514</td>\n",
       "      <td>2.791232</td>\n",
       "      <td>0.083328</td>\n",
       "      <td>...</td>\n",
       "      <td>0.293703</td>\n",
       "      <td>0.269628</td>\n",
       "      <td>0.362554</td>\n",
       "      <td>57908.421241</td>\n",
       "      <td>10.364509</td>\n",
       "      <td>9.446558</td>\n",
       "      <td>11.160854</td>\n",
       "      <td>153.605410</td>\n",
       "      <td>128.139296</td>\n",
       "      <td>179.749652</td>\n",
       "    </tr>\n",
       "    <tr>\n",
       "      <th>min</th>\n",
       "      <td>1.635721e+18</td>\n",
       "      <td>2.851858e+12</td>\n",
       "      <td>1.340000e+03</td>\n",
       "      <td>2015.5</td>\n",
       "      <td>0.000205</td>\n",
       "      <td>0.005679</td>\n",
       "      <td>0.071392</td>\n",
       "      <td>0.007490</td>\n",
       "      <td>-51.554149</td>\n",
       "      <td>0.009780</td>\n",
       "      <td>...</td>\n",
       "      <td>0.001300</td>\n",
       "      <td>0.000000</td>\n",
       "      <td>0.007100</td>\n",
       "      <td>0.000000</td>\n",
       "      <td>0.500028</td>\n",
       "      <td>0.308494</td>\n",
       "      <td>0.507274</td>\n",
       "      <td>0.032815</td>\n",
       "      <td>0.031059</td>\n",
       "      <td>0.033049</td>\n",
       "    </tr>\n",
       "    <tr>\n",
       "      <th>25%</th>\n",
       "      <td>1.635721e+18</td>\n",
       "      <td>3.202186e+17</td>\n",
       "      <td>4.230948e+08</td>\n",
       "      <td>2015.5</td>\n",
       "      <td>39.209898</td>\n",
       "      <td>0.020649</td>\n",
       "      <td>33.442122</td>\n",
       "      <td>0.020457</td>\n",
       "      <td>0.536055</td>\n",
       "      <td>0.028299</td>\n",
       "      <td>...</td>\n",
       "      <td>0.100725</td>\n",
       "      <td>0.031900</td>\n",
       "      <td>0.213800</td>\n",
       "      <td>200111.000000</td>\n",
       "      <td>1.337138</td>\n",
       "      <td>1.232757</td>\n",
       "      <td>1.408314</td>\n",
       "      <td>1.777930</td>\n",
       "      <td>1.728358</td>\n",
       "      <td>1.827898</td>\n",
       "    </tr>\n",
       "    <tr>\n",
       "      <th>50%</th>\n",
       "      <td>1.635721e+18</td>\n",
       "      <td>5.102722e+17</td>\n",
       "      <td>8.478640e+08</td>\n",
       "      <td>2015.5</td>\n",
       "      <td>74.757584</td>\n",
       "      <td>0.030499</td>\n",
       "      <td>45.982743</td>\n",
       "      <td>0.025702</td>\n",
       "      <td>1.358803</td>\n",
       "      <td>0.037875</td>\n",
       "      <td>...</td>\n",
       "      <td>0.244200</td>\n",
       "      <td>0.129200</td>\n",
       "      <td>0.497100</td>\n",
       "      <td>200111.000000</td>\n",
       "      <td>2.572196</td>\n",
       "      <td>2.393078</td>\n",
       "      <td>2.713714</td>\n",
       "      <td>5.595470</td>\n",
       "      <td>5.344410</td>\n",
       "      <td>5.846017</td>\n",
       "    </tr>\n",
       "    <tr>\n",
       "      <th>75%</th>\n",
       "      <td>1.635721e+18</td>\n",
       "      <td>9.618080e+17</td>\n",
       "      <td>1.269994e+09</td>\n",
       "      <td>2015.5</td>\n",
       "      <td>130.394576</td>\n",
       "      <td>0.040805</td>\n",
       "      <td>57.887549</td>\n",
       "      <td>0.034319</td>\n",
       "      <td>2.631123</td>\n",
       "      <td>0.048235</td>\n",
       "      <td>...</td>\n",
       "      <td>0.485000</td>\n",
       "      <td>0.351900</td>\n",
       "      <td>0.805100</td>\n",
       "      <td>200111.000000</td>\n",
       "      <td>10.323106</td>\n",
       "      <td>9.561411</td>\n",
       "      <td>10.955798</td>\n",
       "      <td>39.142285</td>\n",
       "      <td>34.479214</td>\n",
       "      <td>43.455112</td>\n",
       "    </tr>\n",
       "    <tr>\n",
       "      <th>max</th>\n",
       "      <td>1.635721e+18</td>\n",
       "      <td>1.584379e+18</td>\n",
       "      <td>1.692918e+09</td>\n",
       "      <td>2015.5</td>\n",
       "      <td>269.997378</td>\n",
       "      <td>71.596476</td>\n",
       "      <td>89.876170</td>\n",
       "      <td>74.879242</td>\n",
       "      <td>280.690239</td>\n",
       "      <td>1.954076</td>\n",
       "      <td>...</td>\n",
       "      <td>1.673500</td>\n",
       "      <td>1.554900</td>\n",
       "      <td>1.798500</td>\n",
       "      <td>200111.000000</td>\n",
       "      <td>491.173460</td>\n",
       "      <td>406.135650</td>\n",
       "      <td>497.321960</td>\n",
       "      <td>25964.256000</td>\n",
       "      <td>20671.613000</td>\n",
       "      <td>31256.898000</td>\n",
       "    </tr>\n",
       "  </tbody>\n",
       "</table>\n",
       "<p>8 rows × 90 columns</p>\n",
       "</div>"
      ],
      "text/plain": [
       "        solution_id     source_id  random_index  ref_epoch              ra  \\\n",
       "count  1.000000e+06  1.000000e+06  1.000000e+06  1000000.0  1000000.000000   \n",
       "mean   1.635721e+18  6.371846e+17  8.466894e+08     2015.5       93.627699   \n",
       "std    0.000000e+00  4.077076e+17  4.889365e+08        0.0       70.672009   \n",
       "min    1.635721e+18  2.851858e+12  1.340000e+03     2015.5        0.000205   \n",
       "25%    1.635721e+18  3.202186e+17  4.230948e+08     2015.5       39.209898   \n",
       "50%    1.635721e+18  5.102722e+17  8.478640e+08     2015.5       74.757584   \n",
       "75%    1.635721e+18  9.618080e+17  1.269994e+09     2015.5      130.394576   \n",
       "max    1.635721e+18  1.584379e+18  1.692918e+09     2015.5      269.997378   \n",
       "\n",
       "             ra_error             dec       dec_error       parallax  \\\n",
       "count  1000000.000000  1000000.000000  1000000.000000  992537.000000   \n",
       "mean         0.049837       45.472612        0.045315       2.075408   \n",
       "std          0.208098       17.468007        0.228514       2.791232   \n",
       "min          0.005679        0.071392        0.007490     -51.554149   \n",
       "25%          0.020649       33.442122        0.020457       0.536055   \n",
       "50%          0.030499       45.982743        0.025702       1.358803   \n",
       "75%          0.040805       57.887549        0.034319       2.631123   \n",
       "max         71.596476       89.876170       74.879242     280.690239   \n",
       "\n",
       "       parallax_error          ...           e_bp_min_rp_val  \\\n",
       "count   992537.000000          ...             656390.000000   \n",
       "mean         0.051806          ...                  0.332444   \n",
       "std          0.083328          ...                  0.293703   \n",
       "min          0.009780          ...                  0.001300   \n",
       "25%          0.028299          ...                  0.100725   \n",
       "50%          0.037875          ...                  0.244200   \n",
       "75%          0.048235          ...                  0.485000   \n",
       "max          1.954076          ...                  1.673500   \n",
       "\n",
       "       e_bp_min_rp_percentile_lower  e_bp_min_rp_percentile_upper  \\\n",
       "count                 656390.000000                 656390.000000   \n",
       "mean                       0.235929                      0.539255   \n",
       "std                        0.269628                      0.362554   \n",
       "min                        0.000000                      0.007100   \n",
       "25%                        0.031900                      0.213800   \n",
       "50%                        0.129200                      0.497100   \n",
       "75%                        0.351900                      0.805100   \n",
       "max                        1.554900                      1.798500   \n",
       "\n",
       "          flame_flags     radius_val  radius_percentile_lower  \\\n",
       "count  1000000.000000  907748.000000            907748.000000   \n",
       "mean    181650.360028       7.201952                 6.615363   \n",
       "std      57908.421241      10.364509                 9.446558   \n",
       "min          0.000000       0.500028                 0.308494   \n",
       "25%     200111.000000       1.337138                 1.232757   \n",
       "50%     200111.000000       2.572196                 2.393078   \n",
       "75%     200111.000000      10.323106                 9.561411   \n",
       "max     200111.000000     491.173460               406.135650   \n",
       "\n",
       "       radius_percentile_upper        lum_val  lum_percentile_lower  \\\n",
       "count            907748.000000  907748.000000         907748.000000   \n",
       "mean                  7.704714      41.005397             35.303273   \n",
       "std                  11.160854     153.605410            128.139296   \n",
       "min                   0.507274       0.032815              0.031059   \n",
       "25%                   1.408314       1.777930              1.728358   \n",
       "50%                   2.713714       5.595470              5.344410   \n",
       "75%                  10.955798      39.142285             34.479214   \n",
       "max                 497.321960   25964.256000          20671.613000   \n",
       "\n",
       "       lum_percentile_upper  \n",
       "count         907748.000000  \n",
       "mean              46.707521  \n",
       "std              179.749652  \n",
       "min                0.033049  \n",
       "25%                1.827898  \n",
       "50%                5.846017  \n",
       "75%               43.455112  \n",
       "max            31256.898000  \n",
       "\n",
       "[8 rows x 90 columns]"
      ]
     },
     "metadata": {},
     "output_type": "display_data"
    },
    {
     "data": {
      "text/html": [
       "<div>\n",
       "<style scoped>\n",
       "    .dataframe tbody tr th:only-of-type {\n",
       "        vertical-align: middle;\n",
       "    }\n",
       "\n",
       "    .dataframe tbody tr th {\n",
       "        vertical-align: top;\n",
       "    }\n",
       "\n",
       "    .dataframe thead th {\n",
       "        text-align: right;\n",
       "    }\n",
       "</style>\n",
       "<table border=\"1\" class=\"dataframe\">\n",
       "  <thead>\n",
       "    <tr style=\"text-align: right;\">\n",
       "      <th></th>\n",
       "      <th>solution_id</th>\n",
       "      <th>designation</th>\n",
       "      <th>source_id</th>\n",
       "      <th>random_index</th>\n",
       "      <th>ref_epoch</th>\n",
       "      <th>ra</th>\n",
       "      <th>ra_error</th>\n",
       "      <th>dec</th>\n",
       "      <th>dec_error</th>\n",
       "      <th>parallax</th>\n",
       "      <th>...</th>\n",
       "      <th>e_bp_min_rp_val</th>\n",
       "      <th>e_bp_min_rp_percentile_lower</th>\n",
       "      <th>e_bp_min_rp_percentile_upper</th>\n",
       "      <th>flame_flags</th>\n",
       "      <th>radius_val</th>\n",
       "      <th>radius_percentile_lower</th>\n",
       "      <th>radius_percentile_upper</th>\n",
       "      <th>lum_val</th>\n",
       "      <th>lum_percentile_lower</th>\n",
       "      <th>lum_percentile_upper</th>\n",
       "    </tr>\n",
       "  </thead>\n",
       "  <tbody>\n",
       "    <tr>\n",
       "      <th>0</th>\n",
       "      <td>1635721458409799680</td>\n",
       "      <td>Gaia DR2 2851858288640</td>\n",
       "      <td>2851858288640</td>\n",
       "      <td>710827874</td>\n",
       "      <td>2015.5</td>\n",
       "      <td>45.132144</td>\n",
       "      <td>0.051487</td>\n",
       "      <td>0.137851</td>\n",
       "      <td>0.039624</td>\n",
       "      <td>2.618833</td>\n",
       "      <td>...</td>\n",
       "      <td>0.0485</td>\n",
       "      <td>0.0154</td>\n",
       "      <td>0.1405</td>\n",
       "      <td>200111</td>\n",
       "      <td>1.062855</td>\n",
       "      <td>1.038464</td>\n",
       "      <td>1.090551</td>\n",
       "      <td>1.223455</td>\n",
       "      <td>1.187251</td>\n",
       "      <td>1.259659</td>\n",
       "    </tr>\n",
       "    <tr>\n",
       "      <th>1</th>\n",
       "      <td>1635721458409799680</td>\n",
       "      <td>Gaia DR2 3332894779520</td>\n",
       "      <td>3332894779520</td>\n",
       "      <td>1512134789</td>\n",
       "      <td>2015.5</td>\n",
       "      <td>45.058167</td>\n",
       "      <td>0.037937</td>\n",
       "      <td>0.127404</td>\n",
       "      <td>0.038226</td>\n",
       "      <td>1.742291</td>\n",
       "      <td>...</td>\n",
       "      <td>NaN</td>\n",
       "      <td>NaN</td>\n",
       "      <td>NaN</td>\n",
       "      <td>200111</td>\n",
       "      <td>2.423673</td>\n",
       "      <td>2.367469</td>\n",
       "      <td>2.469946</td>\n",
       "      <td>2.798626</td>\n",
       "      <td>2.689419</td>\n",
       "      <td>2.907832</td>\n",
       "    </tr>\n",
       "    <tr>\n",
       "      <th>2</th>\n",
       "      <td>1635721458409799680</td>\n",
       "      <td>Gaia DR2 7632157690368</td>\n",
       "      <td>7632157690368</td>\n",
       "      <td>830339102</td>\n",
       "      <td>2015.5</td>\n",
       "      <td>45.034337</td>\n",
       "      <td>0.053568</td>\n",
       "      <td>0.235391</td>\n",
       "      <td>0.037913</td>\n",
       "      <td>5.692796</td>\n",
       "      <td>...</td>\n",
       "      <td>NaN</td>\n",
       "      <td>NaN</td>\n",
       "      <td>NaN</td>\n",
       "      <td>200111</td>\n",
       "      <td>5.345316</td>\n",
       "      <td>5.201734</td>\n",
       "      <td>5.452383</td>\n",
       "      <td>15.383204</td>\n",
       "      <td>15.173032</td>\n",
       "      <td>15.593377</td>\n",
       "    </tr>\n",
       "    <tr>\n",
       "      <th>3</th>\n",
       "      <td>1635721458409799680</td>\n",
       "      <td>Gaia DR2 9281425163264</td>\n",
       "      <td>9281425163264</td>\n",
       "      <td>1074475725</td>\n",
       "      <td>2015.5</td>\n",
       "      <td>45.165008</td>\n",
       "      <td>0.045778</td>\n",
       "      <td>0.200060</td>\n",
       "      <td>0.040007</td>\n",
       "      <td>3.750882</td>\n",
       "      <td>...</td>\n",
       "      <td>NaN</td>\n",
       "      <td>NaN</td>\n",
       "      <td>NaN</td>\n",
       "      <td>200111</td>\n",
       "      <td>1.674627</td>\n",
       "      <td>1.288279</td>\n",
       "      <td>1.786101</td>\n",
       "      <td>2.922812</td>\n",
       "      <td>2.860702</td>\n",
       "      <td>2.984922</td>\n",
       "    </tr>\n",
       "    <tr>\n",
       "      <th>4</th>\n",
       "      <td>1635721458409799680</td>\n",
       "      <td>Gaia DR2 12545600306304</td>\n",
       "      <td>12545600306304</td>\n",
       "      <td>614396172</td>\n",
       "      <td>2015.5</td>\n",
       "      <td>45.234476</td>\n",
       "      <td>0.034646</td>\n",
       "      <td>0.318159</td>\n",
       "      <td>0.033514</td>\n",
       "      <td>4.257022</td>\n",
       "      <td>...</td>\n",
       "      <td>0.1240</td>\n",
       "      <td>0.0450</td>\n",
       "      <td>0.2015</td>\n",
       "      <td>200111</td>\n",
       "      <td>0.976732</td>\n",
       "      <td>0.930710</td>\n",
       "      <td>1.013032</td>\n",
       "      <td>0.584591</td>\n",
       "      <td>0.575970</td>\n",
       "      <td>0.593211</td>\n",
       "    </tr>\n",
       "  </tbody>\n",
       "</table>\n",
       "<p>5 rows × 94 columns</p>\n",
       "</div>"
      ],
      "text/plain": [
       "           solution_id              designation       source_id  random_index  \\\n",
       "0  1635721458409799680   Gaia DR2 2851858288640   2851858288640     710827874   \n",
       "1  1635721458409799680   Gaia DR2 3332894779520   3332894779520    1512134789   \n",
       "2  1635721458409799680   Gaia DR2 7632157690368   7632157690368     830339102   \n",
       "3  1635721458409799680   Gaia DR2 9281425163264   9281425163264    1074475725   \n",
       "4  1635721458409799680  Gaia DR2 12545600306304  12545600306304     614396172   \n",
       "\n",
       "   ref_epoch         ra  ra_error       dec  dec_error  parallax  \\\n",
       "0     2015.5  45.132144  0.051487  0.137851   0.039624  2.618833   \n",
       "1     2015.5  45.058167  0.037937  0.127404   0.038226  1.742291   \n",
       "2     2015.5  45.034337  0.053568  0.235391   0.037913  5.692796   \n",
       "3     2015.5  45.165008  0.045778  0.200060   0.040007  3.750882   \n",
       "4     2015.5  45.234476  0.034646  0.318159   0.033514  4.257022   \n",
       "\n",
       "           ...           e_bp_min_rp_val  e_bp_min_rp_percentile_lower  \\\n",
       "0          ...                    0.0485                        0.0154   \n",
       "1          ...                       NaN                           NaN   \n",
       "2          ...                       NaN                           NaN   \n",
       "3          ...                       NaN                           NaN   \n",
       "4          ...                    0.1240                        0.0450   \n",
       "\n",
       "   e_bp_min_rp_percentile_upper  flame_flags  radius_val  \\\n",
       "0                        0.1405       200111    1.062855   \n",
       "1                           NaN       200111    2.423673   \n",
       "2                           NaN       200111    5.345316   \n",
       "3                           NaN       200111    1.674627   \n",
       "4                        0.2015       200111    0.976732   \n",
       "\n",
       "   radius_percentile_lower  radius_percentile_upper    lum_val  \\\n",
       "0                 1.038464                 1.090551   1.223455   \n",
       "1                 2.367469                 2.469946   2.798626   \n",
       "2                 5.201734                 5.452383  15.383204   \n",
       "3                 1.288279                 1.786101   2.922812   \n",
       "4                 0.930710                 1.013032   0.584591   \n",
       "\n",
       "   lum_percentile_lower  lum_percentile_upper  \n",
       "0              1.187251              1.259659  \n",
       "1              2.689419              2.907832  \n",
       "2             15.173032             15.593377  \n",
       "3              2.860702              2.984922  \n",
       "4              0.575970              0.593211  \n",
       "\n",
       "[5 rows x 94 columns]"
      ]
     },
     "metadata": {},
     "output_type": "display_data"
    }
   ],
   "source": [
    "df = stats(\"GaiaSource_2851858288640_1584379458008952960.csv\")\n"
   ]
  },
  {
   "cell_type": "code",
   "execution_count": 10,
   "metadata": {},
   "outputs": [
    {
     "data": {
      "text/plain": [
       "'Number of records: 1000000'"
      ]
     },
     "metadata": {},
     "output_type": "display_data"
    },
    {
     "data": {
      "text/plain": [
       "'Number of unique values for solution_id: 1'"
      ]
     },
     "metadata": {},
     "output_type": "display_data"
    },
    {
     "data": {
      "text/plain": [
       "'Number of unique values for designation: 1,000,000'"
      ]
     },
     "metadata": {},
     "output_type": "display_data"
    },
    {
     "data": {
      "text/plain": [
       "'Number of unique values for source_id: 1,000,000'"
      ]
     },
     "metadata": {},
     "output_type": "display_data"
    },
    {
     "data": {
      "text/plain": [
       "'Number of unique values for random_index: 1,000,000'"
      ]
     },
     "metadata": {},
     "output_type": "display_data"
    },
    {
     "data": {
      "text/plain": [
       "'Number of unique values for ref_epoch: 1'"
      ]
     },
     "metadata": {},
     "output_type": "display_data"
    },
    {
     "data": {
      "text/plain": [
       "'Number of unique values for ra: 1,000,000'"
      ]
     },
     "metadata": {},
     "output_type": "display_data"
    },
    {
     "data": {
      "text/plain": [
       "'Number of unique values for ra_error: 1,000,000'"
      ]
     },
     "metadata": {},
     "output_type": "display_data"
    },
    {
     "data": {
      "text/plain": [
       "'Number of unique values for dec: 1,000,000'"
      ]
     },
     "metadata": {},
     "output_type": "display_data"
    },
    {
     "data": {
      "text/plain": [
       "'Number of unique values for dec_error: 1,000,000'"
      ]
     },
     "metadata": {},
     "output_type": "display_data"
    },
    {
     "data": {
      "text/plain": [
       "'Number of unique values for parallax: 992,538'"
      ]
     },
     "metadata": {},
     "output_type": "display_data"
    },
    {
     "data": {
      "text/plain": [
       "'Number of unique values for parallax_error: 992,538'"
      ]
     },
     "metadata": {},
     "output_type": "display_data"
    },
    {
     "data": {
      "text/plain": [
       "'Number of unique values for parallax_over_error: 981,600'"
      ]
     },
     "metadata": {},
     "output_type": "display_data"
    },
    {
     "data": {
      "text/plain": [
       "'Number of unique values for pmra: 992,538'"
      ]
     },
     "metadata": {},
     "output_type": "display_data"
    },
    {
     "data": {
      "text/plain": [
       "'Number of unique values for pmra_error: 992,538'"
      ]
     },
     "metadata": {},
     "output_type": "display_data"
    },
    {
     "data": {
      "text/plain": [
       "'Number of unique values for pmdec: 992,538'"
      ]
     },
     "metadata": {},
     "output_type": "display_data"
    },
    {
     "data": {
      "text/plain": [
       "'Number of unique values for pmdec_error: 992,538'"
      ]
     },
     "metadata": {},
     "output_type": "display_data"
    },
    {
     "data": {
      "text/plain": [
       "'Number of unique values for ra_dec_corr: 992,555'"
      ]
     },
     "metadata": {},
     "output_type": "display_data"
    },
    {
     "data": {
      "text/plain": [
       "'Number of unique values for ra_parallax_corr: 984,630'"
      ]
     },
     "metadata": {},
     "output_type": "display_data"
    },
    {
     "data": {
      "text/plain": [
       "'Number of unique values for ra_pmra_corr: 977,436'"
      ]
     },
     "metadata": {},
     "output_type": "display_data"
    },
    {
     "data": {
      "text/plain": [
       "'Number of unique values for ra_pmdec_corr: 984,595'"
      ]
     },
     "metadata": {},
     "output_type": "display_data"
    },
    {
     "data": {
      "text/plain": [
       "'Number of unique values for dec_parallax_corr: 984,084'"
      ]
     },
     "metadata": {},
     "output_type": "display_data"
    },
    {
     "data": {
      "text/plain": [
       "'Number of unique values for dec_pmra_corr: 985,966'"
      ]
     },
     "metadata": {},
     "output_type": "display_data"
    },
    {
     "data": {
      "text/plain": [
       "'Number of unique values for dec_pmdec_corr: 979,382'"
      ]
     },
     "metadata": {},
     "output_type": "display_data"
    },
    {
     "data": {
      "text/plain": [
       "'Number of unique values for parallax_pmra_corr: 984,394'"
      ]
     },
     "metadata": {},
     "output_type": "display_data"
    },
    {
     "data": {
      "text/plain": [
       "'Number of unique values for parallax_pmdec_corr: 983,991'"
      ]
     },
     "metadata": {},
     "output_type": "display_data"
    },
    {
     "data": {
      "text/plain": [
       "'Number of unique values for pmra_pmdec_corr: 985,254'"
      ]
     },
     "metadata": {},
     "output_type": "display_data"
    },
    {
     "data": {
      "text/plain": [
       "'Number of unique values for astrometric_n_obs_al: 1,019'"
      ]
     },
     "metadata": {},
     "output_type": "display_data"
    },
    {
     "data": {
      "text/plain": [
       "'Number of unique values for astrometric_n_obs_ac: 1,027'"
      ]
     },
     "metadata": {},
     "output_type": "display_data"
    },
    {
     "data": {
      "text/plain": [
       "'Number of unique values for astrometric_n_good_obs_al: 992'"
      ]
     },
     "metadata": {},
     "output_type": "display_data"
    },
    {
     "data": {
      "text/plain": [
       "'Number of unique values for astrometric_n_bad_obs_al: 166'"
      ]
     },
     "metadata": {},
     "output_type": "display_data"
    },
    {
     "data": {
      "text/plain": [
       "'Number of unique values for astrometric_gof_al: 990,093'"
      ]
     },
     "metadata": {},
     "output_type": "display_data"
    },
    {
     "data": {
      "text/plain": [
       "'Number of unique values for astrometric_chi2_al: 983,690'"
      ]
     },
     "metadata": {},
     "output_type": "display_data"
    },
    {
     "data": {
      "text/plain": [
       "'Number of unique values for astrometric_excess_noise: 196,546'"
      ]
     },
     "metadata": {},
     "output_type": "display_data"
    },
    {
     "data": {
      "text/plain": [
       "'Number of unique values for astrometric_excess_noise_sig: 214,050'"
      ]
     },
     "metadata": {},
     "output_type": "display_data"
    },
    {
     "data": {
      "text/plain": [
       "'Number of unique values for astrometric_params_solved: 2'"
      ]
     },
     "metadata": {},
     "output_type": "display_data"
    },
    {
     "data": {
      "text/plain": [
       "'Number of unique values for astrometric_primary_flag: 2'"
      ]
     },
     "metadata": {},
     "output_type": "display_data"
    },
    {
     "data": {
      "text/plain": [
       "'Number of unique values for astrometric_weight_al: 976,961'"
      ]
     },
     "metadata": {},
     "output_type": "display_data"
    },
    {
     "data": {
      "text/plain": [
       "'Number of unique values for astrometric_pseudo_colour: 993,202'"
      ]
     },
     "metadata": {},
     "output_type": "display_data"
    },
    {
     "data": {
      "text/plain": [
       "'Number of unique values for astrometric_pseudo_colour_error: 993,202'"
      ]
     },
     "metadata": {},
     "output_type": "display_data"
    },
    {
     "data": {
      "text/plain": [
       "'Number of unique values for mean_varpi_factor_al: 993,314'"
      ]
     },
     "metadata": {},
     "output_type": "display_data"
    },
    {
     "data": {
      "text/plain": [
       "'Number of unique values for astrometric_matched_observations: 126'"
      ]
     },
     "metadata": {},
     "output_type": "display_data"
    },
    {
     "data": {
      "text/plain": [
       "'Number of unique values for visibility_periods_used: 22'"
      ]
     },
     "metadata": {},
     "output_type": "display_data"
    },
    {
     "data": {
      "text/plain": [
       "'Number of unique values for astrometric_sigma5d_max: 963,843'"
      ]
     },
     "metadata": {},
     "output_type": "display_data"
    },
    {
     "data": {
      "text/plain": [
       "'Number of unique values for frame_rotator_object_type: 1'"
      ]
     },
     "metadata": {},
     "output_type": "display_data"
    },
    {
     "data": {
      "text/plain": [
       "'Number of unique values for matched_observations: 139'"
      ]
     },
     "metadata": {},
     "output_type": "display_data"
    },
    {
     "data": {
      "text/plain": [
       "'Number of unique values for duplicated_source: 2'"
      ]
     },
     "metadata": {},
     "output_type": "display_data"
    },
    {
     "data": {
      "text/plain": [
       "'Number of unique values for phot_g_n_obs: 992'"
      ]
     },
     "metadata": {},
     "output_type": "display_data"
    },
    {
     "data": {
      "text/plain": [
       "'Number of unique values for phot_g_mean_flux: 1,000,000'"
      ]
     },
     "metadata": {},
     "output_type": "display_data"
    },
    {
     "data": {
      "text/plain": [
       "'Number of unique values for phot_g_mean_flux_error: 1,000,000'"
      ]
     },
     "metadata": {},
     "output_type": "display_data"
    },
    {
     "data": {
      "text/plain": [
       "'Number of unique values for phot_g_mean_flux_over_error: 974,793'"
      ]
     },
     "metadata": {},
     "output_type": "display_data"
    },
    {
     "data": {
      "text/plain": [
       "'Number of unique values for phot_g_mean_mag: 867,127'"
      ]
     },
     "metadata": {},
     "output_type": "display_data"
    },
    {
     "data": {
      "text/plain": [
       "'Number of unique values for phot_bp_n_obs: 127'"
      ]
     },
     "metadata": {},
     "output_type": "display_data"
    },
    {
     "data": {
      "text/plain": [
       "'Number of unique values for phot_bp_mean_flux: 999,164'"
      ]
     },
     "metadata": {},
     "output_type": "display_data"
    },
    {
     "data": {
      "text/plain": [
       "'Number of unique values for phot_bp_mean_flux_error: 999,164'"
      ]
     },
     "metadata": {},
     "output_type": "display_data"
    },
    {
     "data": {
      "text/plain": [
       "'Number of unique values for phot_bp_mean_flux_over_error: 971,474'"
      ]
     },
     "metadata": {},
     "output_type": "display_data"
    },
    {
     "data": {
      "text/plain": [
       "'Number of unique values for phot_bp_mean_mag: 884,065'"
      ]
     },
     "metadata": {},
     "output_type": "display_data"
    },
    {
     "data": {
      "text/plain": [
       "'Number of unique values for phot_rp_n_obs: 126'"
      ]
     },
     "metadata": {},
     "output_type": "display_data"
    },
    {
     "data": {
      "text/plain": [
       "'Number of unique values for phot_rp_mean_flux: 999,142'"
      ]
     },
     "metadata": {},
     "output_type": "display_data"
    },
    {
     "data": {
      "text/plain": [
       "'Number of unique values for phot_rp_mean_flux_error: 999,142'"
      ]
     },
     "metadata": {},
     "output_type": "display_data"
    },
    {
     "data": {
      "text/plain": [
       "'Number of unique values for phot_rp_mean_flux_over_error: 968,739'"
      ]
     },
     "metadata": {},
     "output_type": "display_data"
    },
    {
     "data": {
      "text/plain": [
       "'Number of unique values for phot_rp_mean_mag: 853,065'"
      ]
     },
     "metadata": {},
     "output_type": "display_data"
    },
    {
     "data": {
      "text/plain": [
       "'Number of unique values for phot_bp_rp_excess_factor: 704,632'"
      ]
     },
     "metadata": {},
     "output_type": "display_data"
    },
    {
     "data": {
      "text/plain": [
       "'Number of unique values for phot_proc_mode: 3'"
      ]
     },
     "metadata": {},
     "output_type": "display_data"
    },
    {
     "data": {
      "text/plain": [
       "'Number of unique values for bp_rp: 757,485'"
      ]
     },
     "metadata": {},
     "output_type": "display_data"
    },
    {
     "data": {
      "text/plain": [
       "'Number of unique values for bp_g: 621,756'"
      ]
     },
     "metadata": {},
     "output_type": "display_data"
    },
    {
     "data": {
      "text/plain": [
       "'Number of unique values for g_rp: 578,867'"
      ]
     },
     "metadata": {},
     "output_type": "display_data"
    },
    {
     "data": {
      "text/plain": [
       "'Number of unique values for radial_velocity: 1,000,000'"
      ]
     },
     "metadata": {},
     "output_type": "display_data"
    },
    {
     "data": {
      "text/plain": [
       "'Number of unique values for radial_velocity_error: 1,000,000'"
      ]
     },
     "metadata": {},
     "output_type": "display_data"
    },
    {
     "data": {
      "text/plain": [
       "'Number of unique values for rv_nb_transits: 66'"
      ]
     },
     "metadata": {},
     "output_type": "display_data"
    },
    {
     "data": {
      "text/plain": [
       "'Number of unique values for rv_template_teff: 16'"
      ]
     },
     "metadata": {},
     "output_type": "display_data"
    },
    {
     "data": {
      "text/plain": [
       "'Number of unique values for rv_template_logg: 12'"
      ]
     },
     "metadata": {},
     "output_type": "display_data"
    },
    {
     "data": {
      "text/plain": [
       "'Number of unique values for rv_template_fe_h: 13'"
      ]
     },
     "metadata": {},
     "output_type": "display_data"
    },
    {
     "data": {
      "text/plain": [
       "'Number of unique values for phot_variable_flag: 2'"
      ]
     },
     "metadata": {},
     "output_type": "display_data"
    },
    {
     "data": {
      "text/plain": [
       "'Number of unique values for l: 1,000,000'"
      ]
     },
     "metadata": {},
     "output_type": "display_data"
    },
    {
     "data": {
      "text/plain": [
       "'Number of unique values for b: 1,000,000'"
      ]
     },
     "metadata": {},
     "output_type": "display_data"
    },
    {
     "data": {
      "text/plain": [
       "'Number of unique values for ecl_lon: 1,000,000'"
      ]
     },
     "metadata": {},
     "output_type": "display_data"
    },
    {
     "data": {
      "text/plain": [
       "'Number of unique values for ecl_lat: 1,000,000'"
      ]
     },
     "metadata": {},
     "output_type": "display_data"
    },
    {
     "data": {
      "text/plain": [
       "'Number of unique values for priam_flags: 27'"
      ]
     },
     "metadata": {},
     "output_type": "display_data"
    },
    {
     "data": {
      "text/plain": [
       "'Number of unique values for teff_val: 186,504'"
      ]
     },
     "metadata": {},
     "output_type": "display_data"
    },
    {
     "data": {
      "text/plain": [
       "'Number of unique values for teff_percentile_lower: 142,750'"
      ]
     },
     "metadata": {},
     "output_type": "display_data"
    },
    {
     "data": {
      "text/plain": [
       "'Number of unique values for teff_percentile_upper: 146,543'"
      ]
     },
     "metadata": {},
     "output_type": "display_data"
    },
    {
     "data": {
      "text/plain": [
       "'Number of unique values for a_g_val: 15,562'"
      ]
     },
     "metadata": {},
     "output_type": "display_data"
    },
    {
     "data": {
      "text/plain": [
       "'Number of unique values for a_g_percentile_lower: 18,642'"
      ]
     },
     "metadata": {},
     "output_type": "display_data"
    },
    {
     "data": {
      "text/plain": [
       "'Number of unique values for a_g_percentile_upper: 15,253'"
      ]
     },
     "metadata": {},
     "output_type": "display_data"
    },
    {
     "data": {
      "text/plain": [
       "'Number of unique values for e_bp_min_rp_val: 8,504'"
      ]
     },
     "metadata": {},
     "output_type": "display_data"
    },
    {
     "data": {
      "text/plain": [
       "'Number of unique values for e_bp_min_rp_percentile_lower: 10,703'"
      ]
     },
     "metadata": {},
     "output_type": "display_data"
    },
    {
     "data": {
      "text/plain": [
       "'Number of unique values for e_bp_min_rp_percentile_upper: 8,508'"
      ]
     },
     "metadata": {},
     "output_type": "display_data"
    },
    {
     "data": {
      "text/plain": [
       "'Number of unique values for flame_flags: 2'"
      ]
     },
     "metadata": {},
     "output_type": "display_data"
    },
    {
     "data": {
      "text/plain": [
       "'Number of unique values for radius_val: 896,284'"
      ]
     },
     "metadata": {},
     "output_type": "display_data"
    },
    {
     "data": {
      "text/plain": [
       "'Number of unique values for radius_percentile_lower: 896,436'"
      ]
     },
     "metadata": {},
     "output_type": "display_data"
    },
    {
     "data": {
      "text/plain": [
       "'Number of unique values for radius_percentile_upper: 896,295'"
      ]
     },
     "metadata": {},
     "output_type": "display_data"
    },
    {
     "data": {
      "text/plain": [
       "'Number of unique values for lum_val: 902,316'"
      ]
     },
     "metadata": {},
     "output_type": "display_data"
    },
    {
     "data": {
      "text/plain": [
       "'Number of unique values for lum_percentile_lower: 902,042'"
      ]
     },
     "metadata": {},
     "output_type": "display_data"
    },
    {
     "data": {
      "text/plain": [
       "'Number of unique values for lum_percentile_upper: 902,315'"
      ]
     },
     "metadata": {},
     "output_type": "display_data"
    }
   ],
   "source": [
    "display(\"Number of records: {}\".format(len(df)))\n",
    "\n",
    "for column in df.columns.values:\n",
    "    unique_vals(df, column)"
   ]
  },
  {
   "cell_type": "code",
   "execution_count": 11,
   "metadata": {},
   "outputs": [
    {
     "data": {
      "text/plain": [
       "<matplotlib.axes._subplots.AxesSubplot at 0x1159db588>"
      ]
     },
     "execution_count": 11,
     "metadata": {},
     "output_type": "execute_result"
    },
    {
     "data": {
      "image/png": "[encoded data removed]",
      "text/plain": [
       "<matplotlib.figure.Figure at 0x1159d1780>"
      ]
     },
     "metadata": {},
     "output_type": "display_data"
    }
   ],
   "source": [
    "'''\n",
    "phot_g_n_obs : Number of observations contributing to G photometry (int)\n",
    "    Number of observations (CCD transits) that contributed to the G mean flux and mean flux error. \n",
    "'''\n",
    "df[\"phot_g_n_obs\"].hist(bins=200)"
   ]
  },
  {
   "cell_type": "code",
   "execution_count": 12,
   "metadata": {},
   "outputs": [
    {
     "data": {
      "text/plain": [
       "<matplotlib.axes._subplots.AxesSubplot at 0x118e49c50>"
      ]
     },
     "execution_count": 12,
     "metadata": {},
     "output_type": "execute_result"
    },
    {
     "data": {
      "image/png": "[encoded data removed]",
      "text/plain": [
       "<matplotlib.figure.Figure at 0x1157a9da0>"
      ]
     },
     "metadata": {},
     "output_type": "display_data"
    }
   ],
   "source": [
    "'''\n",
    "\n",
    "bp_rp : BP - RP colour (float, Magnitude[mag])\n",
    "\n",
    "    BP - RP colour: phot_bp_mean_mag - phot_rp_mean_mag\n",
    "\n",
    "bp_g : BP - G colour (float, Magnitude[mag])\n",
    "\n",
    "    BP - G colour: phot_bp_mean_mag - phot_g_mean_mag\n",
    "\n",
    "g_rp : G - RP colour (float, Magnitude[mag])\n",
    "\n",
    "    G - RP colour: phot_g_mean_mag - phot_rp_mean_mag\n",
    "'''\n",
    "df['bp_rp'].hist(bins=200)"
   ]
  },
  {
   "cell_type": "code",
   "execution_count": 13,
   "metadata": {},
   "outputs": [
    {
     "data": {
      "text/plain": [
       "<matplotlib.axes._subplots.AxesSubplot at 0x1150db0f0>"
      ]
     },
     "execution_count": 13,
     "metadata": {},
     "output_type": "execute_result"
    },
    {
     "data": {
      "image/png": "[encoded data removed]",
      "text/plain": [
       "<matplotlib.figure.Figure at 0x116b335f8>"
      ]
     },
     "metadata": {},
     "output_type": "display_data"
    }
   ],
   "source": [
    "df['radial_velocity'].hist(bins=200)"
   ]
  },
  {
   "cell_type": "code",
   "execution_count": 14,
   "metadata": {},
   "outputs": [
    {
     "data": {
      "text/plain": [
       "<matplotlib.axes._subplots.AxesSubplot at 0x116bad7f0>"
      ]
     },
     "execution_count": 14,
     "metadata": {},
     "output_type": "execute_result"
    },
    {
     "data": {
      "image/png": "[encoded data removed]",
      "text/plain": [
       "<matplotlib.figure.Figure at 0x116d4cef0>"
      ]
     },
     "metadata": {},
     "output_type": "display_data"
    }
   ],
   "source": [
    "'''\n",
    "teff_val : stellar effective temperature (float, Temperature[K])\n",
    "\n",
    "    Estimate of Teff from Apsis-Priam \n",
    "'''\n",
    "df['teff_val'].hist(bins=200)"
   ]
  },
  {
   "cell_type": "code",
   "execution_count": 15,
   "metadata": {},
   "outputs": [
    {
     "data": {
      "text/plain": [
       "<matplotlib.axes._subplots.AxesSubplot at 0x116e5a4a8>"
      ]
     },
     "execution_count": 15,
     "metadata": {},
     "output_type": "execute_result"
    },
    {
     "data": {
      "image/png": "[encoded data removed]",
      "text/plain": [
       "<matplotlib.figure.Figure at 0x117014780>"
      ]
     },
     "metadata": {},
     "output_type": "display_data"
    }
   ],
   "source": [
    "'''\n",
    "radius_val : stellar radius (float, Length & Distance[Solar Radius])\n",
    "\n",
    "Estimate of radius from Apsis-FLAME \n",
    "'''\n",
    "df['radius_val'].hist(bins=200)"
   ]
  },
  {
   "cell_type": "code",
   "execution_count": 16,
   "metadata": {},
   "outputs": [
    {
     "data": {
      "text/plain": [
       "<matplotlib.axes._subplots.AxesSubplot at 0x11a52f4e0>"
      ]
     },
     "execution_count": 16,
     "metadata": {},
     "output_type": "execute_result"
    },
    {
     "data": {
      "image/png": "[encoded data removed]",
      "text/plain": [
       "<matplotlib.figure.Figure at 0x117014d68>"
      ]
     },
     "metadata": {},
     "output_type": "display_data"
    }
   ],
   "source": [
    "'''\n",
    "lum_val : stellar luminosity (float, Luminosity[Solar Luminosity])\n",
    "\n",
    "Esimate of luminosity from Apsis-FLAME \n",
    "'''\n",
    "df['lum_val'].hist(bins=200)"
   ]
  },
  {
   "cell_type": "code",
   "execution_count": 17,
   "metadata": {},
   "outputs": [
    {
     "data": {
      "text/html": [
       "<div>\n",
       "<style scoped>\n",
       "    .dataframe tbody tr th:only-of-type {\n",
       "        vertical-align: middle;\n",
       "    }\n",
       "\n",
       "    .dataframe tbody tr th {\n",
       "        vertical-align: top;\n",
       "    }\n",
       "\n",
       "    .dataframe thead th {\n",
       "        text-align: right;\n",
       "    }\n",
       "</style>\n",
       "<table border=\"1\" class=\"dataframe\">\n",
       "  <thead>\n",
       "    <tr style=\"text-align: right;\">\n",
       "      <th></th>\n",
       "      <th>solution_id</th>\n",
       "      <th>source_id</th>\n",
       "      <th>random_index</th>\n",
       "      <th>ref_epoch</th>\n",
       "      <th>ra</th>\n",
       "      <th>ra_error</th>\n",
       "      <th>dec</th>\n",
       "      <th>dec_error</th>\n",
       "      <th>parallax</th>\n",
       "      <th>parallax_error</th>\n",
       "      <th>...</th>\n",
       "      <th>e_bp_min_rp_val</th>\n",
       "      <th>e_bp_min_rp_percentile_lower</th>\n",
       "      <th>e_bp_min_rp_percentile_upper</th>\n",
       "      <th>flame_flags</th>\n",
       "      <th>radius_val</th>\n",
       "      <th>radius_percentile_lower</th>\n",
       "      <th>radius_percentile_upper</th>\n",
       "      <th>lum_val</th>\n",
       "      <th>lum_percentile_lower</th>\n",
       "      <th>lum_percentile_upper</th>\n",
       "    </tr>\n",
       "  </thead>\n",
       "  <tbody>\n",
       "    <tr>\n",
       "      <th>count</th>\n",
       "      <td>1.420900e+04</td>\n",
       "      <td>1.420900e+04</td>\n",
       "      <td>1.420900e+04</td>\n",
       "      <td>14209.0</td>\n",
       "      <td>14209.000000</td>\n",
       "      <td>14209.000000</td>\n",
       "      <td>14209.000000</td>\n",
       "      <td>14209.000000</td>\n",
       "      <td>12715.000000</td>\n",
       "      <td>12715.000000</td>\n",
       "      <td>...</td>\n",
       "      <td>2089.000000</td>\n",
       "      <td>2089.000000</td>\n",
       "      <td>2089.000000</td>\n",
       "      <td>1860.0</td>\n",
       "      <td>1860.000000</td>\n",
       "      <td>1860.000000</td>\n",
       "      <td>1860.000000</td>\n",
       "      <td>1860.000000</td>\n",
       "      <td>1860.000000</td>\n",
       "      <td>1860.000000</td>\n",
       "    </tr>\n",
       "    <tr>\n",
       "      <th>mean</th>\n",
       "      <td>1.635721e+18</td>\n",
       "      <td>1.000295e+18</td>\n",
       "      <td>8.522061e+08</td>\n",
       "      <td>2015.5</td>\n",
       "      <td>103.395007</td>\n",
       "      <td>0.817544</td>\n",
       "      <td>56.489985</td>\n",
       "      <td>0.789333</td>\n",
       "      <td>0.692550</td>\n",
       "      <td>0.502496</td>\n",
       "      <td>...</td>\n",
       "      <td>0.180299</td>\n",
       "      <td>0.102697</td>\n",
       "      <td>0.284653</td>\n",
       "      <td>200111.0</td>\n",
       "      <td>1.509280</td>\n",
       "      <td>1.397436</td>\n",
       "      <td>1.599346</td>\n",
       "      <td>3.742055</td>\n",
       "      <td>3.235389</td>\n",
       "      <td>4.248720</td>\n",
       "    </tr>\n",
       "    <tr>\n",
       "      <th>std</th>\n",
       "      <td>0.000000e+00</td>\n",
       "      <td>7.237381e+13</td>\n",
       "      <td>4.896835e+08</td>\n",
       "      <td>0.0</td>\n",
       "      <td>1.209576</td>\n",
       "      <td>2.304228</td>\n",
       "      <td>0.323249</td>\n",
       "      <td>2.293450</td>\n",
       "      <td>1.218467</td>\n",
       "      <td>0.490460</td>\n",
       "      <td>...</td>\n",
       "      <td>0.174779</td>\n",
       "      <td>0.134104</td>\n",
       "      <td>0.220733</td>\n",
       "      <td>0.0</td>\n",
       "      <td>2.036568</td>\n",
       "      <td>1.945342</td>\n",
       "      <td>2.132231</td>\n",
       "      <td>13.519471</td>\n",
       "      <td>11.785471</td>\n",
       "      <td>15.328059</td>\n",
       "    </tr>\n",
       "    <tr>\n",
       "      <th>min</th>\n",
       "      <td>1.635721e+18</td>\n",
       "      <td>1.000172e+18</td>\n",
       "      <td>3.857460e+05</td>\n",
       "      <td>2015.5</td>\n",
       "      <td>101.751362</td>\n",
       "      <td>0.013960</td>\n",
       "      <td>55.796339</td>\n",
       "      <td>0.012770</td>\n",
       "      <td>-8.155820</td>\n",
       "      <td>0.018285</td>\n",
       "      <td>...</td>\n",
       "      <td>0.004000</td>\n",
       "      <td>0.000000</td>\n",
       "      <td>0.011900</td>\n",
       "      <td>200111.0</td>\n",
       "      <td>0.500893</td>\n",
       "      <td>0.336112</td>\n",
       "      <td>0.530166</td>\n",
       "      <td>0.033834</td>\n",
       "      <td>0.028397</td>\n",
       "      <td>0.035617</td>\n",
       "    </tr>\n",
       "    <tr>\n",
       "      <th>25%</th>\n",
       "      <td>1.635721e+18</td>\n",
       "      <td>1.000232e+18</td>\n",
       "      <td>4.290355e+08</td>\n",
       "      <td>2015.5</td>\n",
       "      <td>102.450436</td>\n",
       "      <td>0.098052</td>\n",
       "      <td>56.240019</td>\n",
       "      <td>0.096510</td>\n",
       "      <td>0.180768</td>\n",
       "      <td>0.127268</td>\n",
       "      <td>...</td>\n",
       "      <td>0.058000</td>\n",
       "      <td>0.011900</td>\n",
       "      <td>0.125000</td>\n",
       "      <td>200111.0</td>\n",
       "      <td>0.778538</td>\n",
       "      <td>0.715055</td>\n",
       "      <td>0.814083</td>\n",
       "      <td>0.338883</td>\n",
       "      <td>0.287345</td>\n",
       "      <td>0.382650</td>\n",
       "    </tr>\n",
       "    <tr>\n",
       "      <th>50%</th>\n",
       "      <td>1.635721e+18</td>\n",
       "      <td>1.000293e+18</td>\n",
       "      <td>8.552709e+08</td>\n",
       "      <td>2015.5</td>\n",
       "      <td>103.032731</td>\n",
       "      <td>0.278728</td>\n",
       "      <td>56.471014</td>\n",
       "      <td>0.274741</td>\n",
       "      <td>0.538036</td>\n",
       "      <td>0.353545</td>\n",
       "      <td>...</td>\n",
       "      <td>0.129000</td>\n",
       "      <td>0.052500</td>\n",
       "      <td>0.225000</td>\n",
       "      <td>200111.0</td>\n",
       "      <td>1.006904</td>\n",
       "      <td>0.921521</td>\n",
       "      <td>1.065761</td>\n",
       "      <td>0.856410</td>\n",
       "      <td>0.729619</td>\n",
       "      <td>0.971449</td>\n",
       "    </tr>\n",
       "    <tr>\n",
       "      <th>75%</th>\n",
       "      <td>1.635721e+18</td>\n",
       "      <td>1.000356e+18</td>\n",
       "      <td>1.281322e+09</td>\n",
       "      <td>2015.5</td>\n",
       "      <td>103.804040</td>\n",
       "      <td>0.649605</td>\n",
       "      <td>56.703917</td>\n",
       "      <td>0.636936</td>\n",
       "      <td>1.064608</td>\n",
       "      <td>0.731353</td>\n",
       "      <td>...</td>\n",
       "      <td>0.243000</td>\n",
       "      <td>0.141600</td>\n",
       "      <td>0.369000</td>\n",
       "      <td>200111.0</td>\n",
       "      <td>1.416976</td>\n",
       "      <td>1.300157</td>\n",
       "      <td>1.519143</td>\n",
       "      <td>2.172519</td>\n",
       "      <td>1.906506</td>\n",
       "      <td>2.489038</td>\n",
       "    </tr>\n",
       "    <tr>\n",
       "      <th>max</th>\n",
       "      <td>1.635721e+18</td>\n",
       "      <td>1.000425e+18</td>\n",
       "      <td>1.692891e+09</td>\n",
       "      <td>2015.5</td>\n",
       "      <td>105.996801</td>\n",
       "      <td>49.581330</td>\n",
       "      <td>57.387529</td>\n",
       "      <td>58.408940</td>\n",
       "      <td>19.554721</td>\n",
       "      <td>4.277174</td>\n",
       "      <td>...</td>\n",
       "      <td>1.398500</td>\n",
       "      <td>1.101000</td>\n",
       "      <td>1.603100</td>\n",
       "      <td>200111.0</td>\n",
       "      <td>22.613068</td>\n",
       "      <td>22.036419</td>\n",
       "      <td>23.530447</td>\n",
       "      <td>195.297240</td>\n",
       "      <td>183.888810</td>\n",
       "      <td>244.347840</td>\n",
       "    </tr>\n",
       "  </tbody>\n",
       "</table>\n",
       "<p>8 rows × 90 columns</p>\n",
       "</div>"
      ],
      "text/plain": [
       "        solution_id     source_id  random_index  ref_epoch            ra  \\\n",
       "count  1.420900e+04  1.420900e+04  1.420900e+04    14209.0  14209.000000   \n",
       "mean   1.635721e+18  1.000295e+18  8.522061e+08     2015.5    103.395007   \n",
       "std    0.000000e+00  7.237381e+13  4.896835e+08        0.0      1.209576   \n",
       "min    1.635721e+18  1.000172e+18  3.857460e+05     2015.5    101.751362   \n",
       "25%    1.635721e+18  1.000232e+18  4.290355e+08     2015.5    102.450436   \n",
       "50%    1.635721e+18  1.000293e+18  8.552709e+08     2015.5    103.032731   \n",
       "75%    1.635721e+18  1.000356e+18  1.281322e+09     2015.5    103.804040   \n",
       "max    1.635721e+18  1.000425e+18  1.692891e+09     2015.5    105.996801   \n",
       "\n",
       "           ra_error           dec     dec_error      parallax  parallax_error  \\\n",
       "count  14209.000000  14209.000000  14209.000000  12715.000000    12715.000000   \n",
       "mean       0.817544     56.489985      0.789333      0.692550        0.502496   \n",
       "std        2.304228      0.323249      2.293450      1.218467        0.490460   \n",
       "min        0.013960     55.796339      0.012770     -8.155820        0.018285   \n",
       "25%        0.098052     56.240019      0.096510      0.180768        0.127268   \n",
       "50%        0.278728     56.471014      0.274741      0.538036        0.353545   \n",
       "75%        0.649605     56.703917      0.636936      1.064608        0.731353   \n",
       "max       49.581330     57.387529     58.408940     19.554721        4.277174   \n",
       "\n",
       "               ...           e_bp_min_rp_val  e_bp_min_rp_percentile_lower  \\\n",
       "count          ...               2089.000000                   2089.000000   \n",
       "mean           ...                  0.180299                      0.102697   \n",
       "std            ...                  0.174779                      0.134104   \n",
       "min            ...                  0.004000                      0.000000   \n",
       "25%            ...                  0.058000                      0.011900   \n",
       "50%            ...                  0.129000                      0.052500   \n",
       "75%            ...                  0.243000                      0.141600   \n",
       "max            ...                  1.398500                      1.101000   \n",
       "\n",
       "       e_bp_min_rp_percentile_upper  flame_flags   radius_val  \\\n",
       "count                   2089.000000       1860.0  1860.000000   \n",
       "mean                       0.284653     200111.0     1.509280   \n",
       "std                        0.220733          0.0     2.036568   \n",
       "min                        0.011900     200111.0     0.500893   \n",
       "25%                        0.125000     200111.0     0.778538   \n",
       "50%                        0.225000     200111.0     1.006904   \n",
       "75%                        0.369000     200111.0     1.416976   \n",
       "max                        1.603100     200111.0    22.613068   \n",
       "\n",
       "       radius_percentile_lower  radius_percentile_upper      lum_val  \\\n",
       "count              1860.000000              1860.000000  1860.000000   \n",
       "mean                  1.397436                 1.599346     3.742055   \n",
       "std                   1.945342                 2.132231    13.519471   \n",
       "min                   0.336112                 0.530166     0.033834   \n",
       "25%                   0.715055                 0.814083     0.338883   \n",
       "50%                   0.921521                 1.065761     0.856410   \n",
       "75%                   1.300157                 1.519143     2.172519   \n",
       "max                  22.036419                23.530447   195.297240   \n",
       "\n",
       "       lum_percentile_lower  lum_percentile_upper  \n",
       "count           1860.000000           1860.000000  \n",
       "mean               3.235389              4.248720  \n",
       "std               11.785471             15.328059  \n",
       "min                0.028397              0.035617  \n",
       "25%                0.287345              0.382650  \n",
       "50%                0.729619              0.971449  \n",
       "75%                1.906506              2.489038  \n",
       "max              183.888810            244.347840  \n",
       "\n",
       "[8 rows x 90 columns]"
      ]
     },
     "metadata": {},
     "output_type": "display_data"
    },
    {
     "data": {
      "text/html": [
       "<div>\n",
       "<style scoped>\n",
       "    .dataframe tbody tr th:only-of-type {\n",
       "        vertical-align: middle;\n",
       "    }\n",
       "\n",
       "    .dataframe tbody tr th {\n",
       "        vertical-align: top;\n",
       "    }\n",
       "\n",
       "    .dataframe thead th {\n",
       "        text-align: right;\n",
       "    }\n",
       "</style>\n",
       "<table border=\"1\" class=\"dataframe\">\n",
       "  <thead>\n",
       "    <tr style=\"text-align: right;\">\n",
       "      <th></th>\n",
       "      <th>solution_id</th>\n",
       "      <th>designation</th>\n",
       "      <th>source_id</th>\n",
       "      <th>random_index</th>\n",
       "      <th>ref_epoch</th>\n",
       "      <th>ra</th>\n",
       "      <th>ra_error</th>\n",
       "      <th>dec</th>\n",
       "      <th>dec_error</th>\n",
       "      <th>parallax</th>\n",
       "      <th>...</th>\n",
       "      <th>e_bp_min_rp_val</th>\n",
       "      <th>e_bp_min_rp_percentile_lower</th>\n",
       "      <th>e_bp_min_rp_percentile_upper</th>\n",
       "      <th>flame_flags</th>\n",
       "      <th>radius_val</th>\n",
       "      <th>radius_percentile_lower</th>\n",
       "      <th>radius_percentile_upper</th>\n",
       "      <th>lum_val</th>\n",
       "      <th>lum_percentile_lower</th>\n",
       "      <th>lum_percentile_upper</th>\n",
       "    </tr>\n",
       "  </thead>\n",
       "  <tbody>\n",
       "    <tr>\n",
       "      <th>0</th>\n",
       "      <td>1635721458409799680</td>\n",
       "      <td>Gaia DR2 1000225938242805248</td>\n",
       "      <td>1000225938242805248</td>\n",
       "      <td>1197051105</td>\n",
       "      <td>2015.5</td>\n",
       "      <td>103.447529</td>\n",
       "      <td>0.041099</td>\n",
       "      <td>56.022025</td>\n",
       "      <td>0.045175</td>\n",
       "      <td>0.582790</td>\n",
       "      <td>...</td>\n",
       "      <td>0.0595</td>\n",
       "      <td>0.0080</td>\n",
       "      <td>0.1351</td>\n",
       "      <td>200111.0</td>\n",
       "      <td>1.024730</td>\n",
       "      <td>1.017359</td>\n",
       "      <td>1.038814</td>\n",
       "      <td>1.075774</td>\n",
       "      <td>0.801798</td>\n",
       "      <td>1.349751</td>\n",
       "    </tr>\n",
       "    <tr>\n",
       "      <th>1</th>\n",
       "      <td>1635721458409799680</td>\n",
       "      <td>Gaia DR2 1000383512003001728</td>\n",
       "      <td>1000383512003001728</td>\n",
       "      <td>598525552</td>\n",
       "      <td>2015.5</td>\n",
       "      <td>105.187856</td>\n",
       "      <td>0.016978</td>\n",
       "      <td>56.267982</td>\n",
       "      <td>0.016904</td>\n",
       "      <td>1.385686</td>\n",
       "      <td>...</td>\n",
       "      <td>0.2430</td>\n",
       "      <td>0.0830</td>\n",
       "      <td>0.4030</td>\n",
       "      <td>200111.0</td>\n",
       "      <td>1.388711</td>\n",
       "      <td>1.311143</td>\n",
       "      <td>1.453106</td>\n",
       "      <td>1.937890</td>\n",
       "      <td>1.852440</td>\n",
       "      <td>2.023341</td>\n",
       "    </tr>\n",
       "    <tr>\n",
       "      <th>2</th>\n",
       "      <td>1635721458409799680</td>\n",
       "      <td>Gaia DR2 1000274106300491264</td>\n",
       "      <td>1000274106300491264</td>\n",
       "      <td>299262776</td>\n",
       "      <td>2015.5</td>\n",
       "      <td>103.424758</td>\n",
       "      <td>0.464608</td>\n",
       "      <td>56.450903</td>\n",
       "      <td>0.582490</td>\n",
       "      <td>0.314035</td>\n",
       "      <td>...</td>\n",
       "      <td>NaN</td>\n",
       "      <td>NaN</td>\n",
       "      <td>NaN</td>\n",
       "      <td>NaN</td>\n",
       "      <td>NaN</td>\n",
       "      <td>NaN</td>\n",
       "      <td>NaN</td>\n",
       "      <td>NaN</td>\n",
       "      <td>NaN</td>\n",
       "      <td>NaN</td>\n",
       "    </tr>\n",
       "    <tr>\n",
       "      <th>3</th>\n",
       "      <td>1635721458409799680</td>\n",
       "      <td>Gaia DR2 1000396156385741312</td>\n",
       "      <td>1000396156385741312</td>\n",
       "      <td>1148557518</td>\n",
       "      <td>2015.5</td>\n",
       "      <td>105.049751</td>\n",
       "      <td>0.838232</td>\n",
       "      <td>56.508777</td>\n",
       "      <td>0.744511</td>\n",
       "      <td>1.939951</td>\n",
       "      <td>...</td>\n",
       "      <td>NaN</td>\n",
       "      <td>NaN</td>\n",
       "      <td>NaN</td>\n",
       "      <td>NaN</td>\n",
       "      <td>NaN</td>\n",
       "      <td>NaN</td>\n",
       "      <td>NaN</td>\n",
       "      <td>NaN</td>\n",
       "      <td>NaN</td>\n",
       "      <td>NaN</td>\n",
       "    </tr>\n",
       "    <tr>\n",
       "      <th>4</th>\n",
       "      <td>1635721458409799680</td>\n",
       "      <td>Gaia DR2 1000250024419296000</td>\n",
       "      <td>1000250024419296000</td>\n",
       "      <td>574278759</td>\n",
       "      <td>2015.5</td>\n",
       "      <td>103.352525</td>\n",
       "      <td>0.023159</td>\n",
       "      <td>56.395144</td>\n",
       "      <td>0.022836</td>\n",
       "      <td>0.747108</td>\n",
       "      <td>...</td>\n",
       "      <td>0.2870</td>\n",
       "      <td>0.1196</td>\n",
       "      <td>0.4051</td>\n",
       "      <td>200111.0</td>\n",
       "      <td>1.507958</td>\n",
       "      <td>1.435618</td>\n",
       "      <td>1.540208</td>\n",
       "      <td>2.427377</td>\n",
       "      <td>2.152597</td>\n",
       "      <td>2.702158</td>\n",
       "    </tr>\n",
       "  </tbody>\n",
       "</table>\n",
       "<p>5 rows × 94 columns</p>\n",
       "</div>"
      ],
      "text/plain": [
       "           solution_id                   designation            source_id  \\\n",
       "0  1635721458409799680  Gaia DR2 1000225938242805248  1000225938242805248   \n",
       "1  1635721458409799680  Gaia DR2 1000383512003001728  1000383512003001728   \n",
       "2  1635721458409799680  Gaia DR2 1000274106300491264  1000274106300491264   \n",
       "3  1635721458409799680  Gaia DR2 1000396156385741312  1000396156385741312   \n",
       "4  1635721458409799680  Gaia DR2 1000250024419296000  1000250024419296000   \n",
       "\n",
       "   random_index  ref_epoch          ra  ra_error        dec  dec_error  \\\n",
       "0    1197051105     2015.5  103.447529  0.041099  56.022025   0.045175   \n",
       "1     598525552     2015.5  105.187856  0.016978  56.267982   0.016904   \n",
       "2     299262776     2015.5  103.424758  0.464608  56.450903   0.582490   \n",
       "3    1148557518     2015.5  105.049751  0.838232  56.508777   0.744511   \n",
       "4     574278759     2015.5  103.352525  0.023159  56.395144   0.022836   \n",
       "\n",
       "   parallax          ...           e_bp_min_rp_val  \\\n",
       "0  0.582790          ...                    0.0595   \n",
       "1  1.385686          ...                    0.2430   \n",
       "2  0.314035          ...                       NaN   \n",
       "3  1.939951          ...                       NaN   \n",
       "4  0.747108          ...                    0.2870   \n",
       "\n",
       "   e_bp_min_rp_percentile_lower  e_bp_min_rp_percentile_upper  flame_flags  \\\n",
       "0                        0.0080                        0.1351     200111.0   \n",
       "1                        0.0830                        0.4030     200111.0   \n",
       "2                           NaN                           NaN          NaN   \n",
       "3                           NaN                           NaN          NaN   \n",
       "4                        0.1196                        0.4051     200111.0   \n",
       "\n",
       "   radius_val  radius_percentile_lower  radius_percentile_upper   lum_val  \\\n",
       "0    1.024730                 1.017359                 1.038814  1.075774   \n",
       "1    1.388711                 1.311143                 1.453106  1.937890   \n",
       "2         NaN                      NaN                      NaN       NaN   \n",
       "3         NaN                      NaN                      NaN       NaN   \n",
       "4    1.507958                 1.435618                 1.540208  2.427377   \n",
       "\n",
       "   lum_percentile_lower  lum_percentile_upper  \n",
       "0              0.801798              1.349751  \n",
       "1              1.852440              2.023341  \n",
       "2                   NaN                   NaN  \n",
       "3                   NaN                   NaN  \n",
       "4              2.152597              2.702158  \n",
       "\n",
       "[5 rows x 94 columns]"
      ]
     },
     "metadata": {},
     "output_type": "display_data"
    }
   ],
   "source": [
    "df = stats(\"GaiaSource_1000172165251650944_1000424567594791808.csv\")\n"
   ]
  },
  {
   "cell_type": "code",
   "execution_count": 24,
   "metadata": {},
   "outputs": [
    {
     "data": {
      "text/plain": [
       "'Total Records 124,244'"
      ]
     },
     "metadata": {},
     "output_type": "display_data"
    },
    {
     "data": {
      "text/plain": [
       "'Number of unique values for source_id: 1,000'"
      ]
     },
     "metadata": {},
     "output_type": "display_data"
    },
    {
     "data": {
      "text/plain": [
       "'Number of unique values for transit_id: 44,229'"
      ]
     },
     "metadata": {},
     "output_type": "display_data"
    },
    {
     "data": {
      "text/plain": [
       "'Number of unique values for band: 3'"
      ]
     },
     "metadata": {},
     "output_type": "display_data"
    },
    {
     "data": {
      "text/plain": [
       "'Number of unique values for time: 124,188'"
      ]
     },
     "metadata": {},
     "output_type": "display_data"
    },
    {
     "data": {
      "text/plain": [
       "'Number of unique values for mag: 124,244'"
      ]
     },
     "metadata": {},
     "output_type": "display_data"
    },
    {
     "data": {
      "text/plain": [
       "'Number of unique values for flux: 124,244'"
      ]
     },
     "metadata": {},
     "output_type": "display_data"
    },
    {
     "data": {
      "text/plain": [
       "'Number of unique values for flux_error: 124,244'"
      ]
     },
     "metadata": {},
     "output_type": "display_data"
    },
    {
     "data": {
      "text/plain": [
       "'Number of unique values for flux_over_error: 124,089'"
      ]
     },
     "metadata": {},
     "output_type": "display_data"
    },
    {
     "data": {
      "text/plain": [
       "'Number of unique values for rejected_by_photometry: 1'"
      ]
     },
     "metadata": {},
     "output_type": "display_data"
    },
    {
     "data": {
      "text/plain": [
       "'Number of unique values for rejected_by_variability: 2'"
      ]
     },
     "metadata": {},
     "output_type": "display_data"
    },
    {
     "data": {
      "text/plain": [
       "'Number of unique values for other_flags: 464'"
      ]
     },
     "metadata": {},
     "output_type": "display_data"
    },
    {
     "data": {
      "text/plain": [
       "'Number of unique values for solution_id: 3'"
      ]
     },
     "metadata": {},
     "output_type": "display_data"
    }
   ],
   "source": [
    "display(\"Total Records {:,}\".format(len(df)))\n",
    "for column in df.columns.values:\n",
    "    unique_vals(df, column)"
   ]
  },
  {
   "cell_type": "code",
   "execution_count": 19,
   "metadata": {},
   "outputs": [
    {
     "data": {
      "text/plain": [
       "<matplotlib.axes._subplots.AxesSubplot at 0x116d5a4e0>"
      ]
     },
     "execution_count": 19,
     "metadata": {},
     "output_type": "execute_result"
    },
    {
     "data": {
      "image/png": "[encoded data removed]",
      "text/plain": [
       "<matplotlib.figure.Figure at 0x115b040f0>"
      ]
     },
     "metadata": {},
     "output_type": "display_data"
    }
   ],
   "source": [
    "'''\n",
    "teff_val : stellar effective temperature (float, Temperature[K])\n",
    "\n",
    "    Estimate of Teff from Apsis-Priam \n",
    "'''\n",
    "df['teff_val'].hist(bins=200)"
   ]
  },
  {
   "cell_type": "code",
   "execution_count": 21,
   "metadata": {},
   "outputs": [
    {
     "data": {
      "text/html": [
       "<div>\n",
       "<style scoped>\n",
       "    .dataframe tbody tr th:only-of-type {\n",
       "        vertical-align: middle;\n",
       "    }\n",
       "\n",
       "    .dataframe tbody tr th {\n",
       "        vertical-align: top;\n",
       "    }\n",
       "\n",
       "    .dataframe thead th {\n",
       "        text-align: right;\n",
       "    }\n",
       "</style>\n",
       "<table border=\"1\" class=\"dataframe\">\n",
       "  <thead>\n",
       "    <tr style=\"text-align: right;\">\n",
       "      <th></th>\n",
       "      <th>source_id</th>\n",
       "      <th>transit_id</th>\n",
       "      <th>time</th>\n",
       "      <th>mag</th>\n",
       "      <th>flux</th>\n",
       "      <th>flux_error</th>\n",
       "      <th>flux_over_error</th>\n",
       "      <th>other_flags</th>\n",
       "      <th>solution_id</th>\n",
       "    </tr>\n",
       "  </thead>\n",
       "  <tbody>\n",
       "    <tr>\n",
       "      <th>count</th>\n",
       "      <td>1.242440e+05</td>\n",
       "      <td>1.242440e+05</td>\n",
       "      <td>124244.000000</td>\n",
       "      <td>124244.000000</td>\n",
       "      <td>1.242440e+05</td>\n",
       "      <td>1.242440e+05</td>\n",
       "      <td>124244.000000</td>\n",
       "      <td>1.242440e+05</td>\n",
       "      <td>1.242440e+05</td>\n",
       "    </tr>\n",
       "    <tr>\n",
       "      <th>mean</th>\n",
       "      <td>1.076264e+18</td>\n",
       "      <td>3.535469e+16</td>\n",
       "      <td>2036.216157</td>\n",
       "      <td>15.950495</td>\n",
       "      <td>1.856444e+05</td>\n",
       "      <td>2.483429e+03</td>\n",
       "      <td>228.650463</td>\n",
       "      <td>2.648604e+05</td>\n",
       "      <td>3.692955e+17</td>\n",
       "    </tr>\n",
       "    <tr>\n",
       "      <th>std</th>\n",
       "      <td>1.898114e+16</td>\n",
       "      <td>9.661814e+15</td>\n",
       "      <td>174.729451</td>\n",
       "      <td>2.148335</td>\n",
       "      <td>2.422316e+06</td>\n",
       "      <td>7.919847e+04</td>\n",
       "      <td>337.793569</td>\n",
       "      <td>1.064008e+06</td>\n",
       "      <td>5.200567e+08</td>\n",
       "    </tr>\n",
       "    <tr>\n",
       "      <th>min</th>\n",
       "      <td>1.042504e+18</td>\n",
       "      <td>1.689041e+16</td>\n",
       "      <td>1702.296126</td>\n",
       "      <td>4.631782</td>\n",
       "      <td>1.254153e+00</td>\n",
       "      <td>8.237672e-01</td>\n",
       "      <td>0.023601</td>\n",
       "      <td>0.000000e+00</td>\n",
       "      <td>3.692955e+17</td>\n",
       "    </tr>\n",
       "    <tr>\n",
       "      <th>25%</th>\n",
       "      <td>1.058195e+18</td>\n",
       "      <td>2.728920e+16</td>\n",
       "      <td>1890.357960</td>\n",
       "      <td>14.660327</td>\n",
       "      <td>1.633695e+03</td>\n",
       "      <td>2.830824e+01</td>\n",
       "      <td>40.200094</td>\n",
       "      <td>0.000000e+00</td>\n",
       "      <td>3.692955e+17</td>\n",
       "    </tr>\n",
       "    <tr>\n",
       "      <th>50%</th>\n",
       "      <td>1.086626e+18</td>\n",
       "      <td>3.374326e+16</td>\n",
       "      <td>2007.070081</td>\n",
       "      <td>16.008430</td>\n",
       "      <td>4.908853e+03</td>\n",
       "      <td>5.446987e+01</td>\n",
       "      <td>100.423115</td>\n",
       "      <td>0.000000e+00</td>\n",
       "      <td>3.692955e+17</td>\n",
       "    </tr>\n",
       "    <tr>\n",
       "      <th>75%</th>\n",
       "      <td>1.092049e+18</td>\n",
       "      <td>4.539026e+16</td>\n",
       "      <td>2217.707618</td>\n",
       "      <td>17.287663</td>\n",
       "      <td>1.762278e+04</td>\n",
       "      <td>9.944396e+01</td>\n",
       "      <td>255.549940</td>\n",
       "      <td>1.000000e+00</td>\n",
       "      <td>3.692955e+17</td>\n",
       "    </tr>\n",
       "    <tr>\n",
       "      <th>max</th>\n",
       "      <td>1.098704e+18</td>\n",
       "      <td>5.151107e+16</td>\n",
       "      <td>2328.394482</td>\n",
       "      <td>25.105512</td>\n",
       "      <td>1.127341e+08</td>\n",
       "      <td>9.184459e+06</td>\n",
       "      <td>5232.374000</td>\n",
       "      <td>8.364034e+06</td>\n",
       "      <td>3.692956e+17</td>\n",
       "    </tr>\n",
       "  </tbody>\n",
       "</table>\n",
       "</div>"
      ],
      "text/plain": [
       "          source_id    transit_id           time            mag          flux  \\\n",
       "count  1.242440e+05  1.242440e+05  124244.000000  124244.000000  1.242440e+05   \n",
       "mean   1.076264e+18  3.535469e+16    2036.216157      15.950495  1.856444e+05   \n",
       "std    1.898114e+16  9.661814e+15     174.729451       2.148335  2.422316e+06   \n",
       "min    1.042504e+18  1.689041e+16    1702.296126       4.631782  1.254153e+00   \n",
       "25%    1.058195e+18  2.728920e+16    1890.357960      14.660327  1.633695e+03   \n",
       "50%    1.086626e+18  3.374326e+16    2007.070081      16.008430  4.908853e+03   \n",
       "75%    1.092049e+18  4.539026e+16    2217.707618      17.287663  1.762278e+04   \n",
       "max    1.098704e+18  5.151107e+16    2328.394482      25.105512  1.127341e+08   \n",
       "\n",
       "         flux_error  flux_over_error   other_flags   solution_id  \n",
       "count  1.242440e+05    124244.000000  1.242440e+05  1.242440e+05  \n",
       "mean   2.483429e+03       228.650463  2.648604e+05  3.692955e+17  \n",
       "std    7.919847e+04       337.793569  1.064008e+06  5.200567e+08  \n",
       "min    8.237672e-01         0.023601  0.000000e+00  3.692955e+17  \n",
       "25%    2.830824e+01        40.200094  0.000000e+00  3.692955e+17  \n",
       "50%    5.446987e+01       100.423115  0.000000e+00  3.692955e+17  \n",
       "75%    9.944396e+01       255.549940  1.000000e+00  3.692955e+17  \n",
       "max    9.184459e+06      5232.374000  8.364034e+06  3.692956e+17  "
      ]
     },
     "metadata": {},
     "output_type": "display_data"
    },
    {
     "data": {
      "text/html": [
       "<div>\n",
       "<style scoped>\n",
       "    .dataframe tbody tr th:only-of-type {\n",
       "        vertical-align: middle;\n",
       "    }\n",
       "\n",
       "    .dataframe tbody tr th {\n",
       "        vertical-align: top;\n",
       "    }\n",
       "\n",
       "    .dataframe thead th {\n",
       "        text-align: right;\n",
       "    }\n",
       "</style>\n",
       "<table border=\"1\" class=\"dataframe\">\n",
       "  <thead>\n",
       "    <tr style=\"text-align: right;\">\n",
       "      <th></th>\n",
       "      <th>source_id</th>\n",
       "      <th>transit_id</th>\n",
       "      <th>band</th>\n",
       "      <th>time</th>\n",
       "      <th>mag</th>\n",
       "      <th>flux</th>\n",
       "      <th>flux_error</th>\n",
       "      <th>flux_over_error</th>\n",
       "      <th>rejected_by_photometry</th>\n",
       "      <th>rejected_by_variability</th>\n",
       "      <th>other_flags</th>\n",
       "      <th>solution_id</th>\n",
       "    </tr>\n",
       "  </thead>\n",
       "  <tbody>\n",
       "    <tr>\n",
       "      <th>0</th>\n",
       "      <td>1042504286338226688</td>\n",
       "      <td>17268269051856559</td>\n",
       "      <td>G</td>\n",
       "      <td>1709.128793</td>\n",
       "      <td>18.523283</td>\n",
       "      <td>734.569815</td>\n",
       "      <td>18.542235</td>\n",
       "      <td>39.616035</td>\n",
       "      <td>False</td>\n",
       "      <td>False</td>\n",
       "      <td>4199041</td>\n",
       "      <td>369295549951641967</td>\n",
       "    </tr>\n",
       "    <tr>\n",
       "      <th>1</th>\n",
       "      <td>1042504286338226688</td>\n",
       "      <td>17278009813791101</td>\n",
       "      <td>G</td>\n",
       "      <td>1709.304988</td>\n",
       "      <td>18.465245</td>\n",
       "      <td>774.904573</td>\n",
       "      <td>10.693891</td>\n",
       "      <td>72.462364</td>\n",
       "      <td>False</td>\n",
       "      <td>False</td>\n",
       "      <td>1</td>\n",
       "      <td>369295549951641967</td>\n",
       "    </tr>\n",
       "    <tr>\n",
       "      <th>2</th>\n",
       "      <td>1042504286338226688</td>\n",
       "      <td>19317567229669576</td>\n",
       "      <td>G</td>\n",
       "      <td>1746.191835</td>\n",
       "      <td>18.475332</td>\n",
       "      <td>767.738469</td>\n",
       "      <td>9.905239</td>\n",
       "      <td>77.508320</td>\n",
       "      <td>False</td>\n",
       "      <td>False</td>\n",
       "      <td>1</td>\n",
       "      <td>369295549951641967</td>\n",
       "    </tr>\n",
       "    <tr>\n",
       "      <th>3</th>\n",
       "      <td>1042504286338226688</td>\n",
       "      <td>22191387295380683</td>\n",
       "      <td>G</td>\n",
       "      <td>1798.166864</td>\n",
       "      <td>18.463419</td>\n",
       "      <td>776.208904</td>\n",
       "      <td>6.139450</td>\n",
       "      <td>126.429710</td>\n",
       "      <td>False</td>\n",
       "      <td>False</td>\n",
       "      <td>1</td>\n",
       "      <td>369295549951641967</td>\n",
       "    </tr>\n",
       "    <tr>\n",
       "      <th>4</th>\n",
       "      <td>1042504286338226688</td>\n",
       "      <td>27372456873489443</td>\n",
       "      <td>G</td>\n",
       "      <td>1891.863327</td>\n",
       "      <td>18.468954</td>\n",
       "      <td>772.261780</td>\n",
       "      <td>7.832350</td>\n",
       "      <td>98.598980</td>\n",
       "      <td>False</td>\n",
       "      <td>False</td>\n",
       "      <td>1</td>\n",
       "      <td>369295549951641967</td>\n",
       "    </tr>\n",
       "  </tbody>\n",
       "</table>\n",
       "</div>"
      ],
      "text/plain": [
       "             source_id         transit_id band         time        mag  \\\n",
       "0  1042504286338226688  17268269051856559    G  1709.128793  18.523283   \n",
       "1  1042504286338226688  17278009813791101    G  1709.304988  18.465245   \n",
       "2  1042504286338226688  19317567229669576    G  1746.191835  18.475332   \n",
       "3  1042504286338226688  22191387295380683    G  1798.166864  18.463419   \n",
       "4  1042504286338226688  27372456873489443    G  1891.863327  18.468954   \n",
       "\n",
       "         flux  flux_error  flux_over_error  rejected_by_photometry  \\\n",
       "0  734.569815   18.542235        39.616035                   False   \n",
       "1  774.904573   10.693891        72.462364                   False   \n",
       "2  767.738469    9.905239        77.508320                   False   \n",
       "3  776.208904    6.139450       126.429710                   False   \n",
       "4  772.261780    7.832350        98.598980                   False   \n",
       "\n",
       "   rejected_by_variability  other_flags         solution_id  \n",
       "0                    False      4199041  369295549951641967  \n",
       "1                    False            1  369295549951641967  \n",
       "2                    False            1  369295549951641967  \n",
       "3                    False            1  369295549951641967  \n",
       "4                    False            1  369295549951641967  "
      ]
     },
     "metadata": {},
     "output_type": "display_data"
    }
   ],
   "source": [
    "df = stats(\"light_curves_1042504286338226688_1098703830327377408.csv\")\n"
   ]
  },
  {
   "cell_type": "code",
   "execution_count": 23,
   "metadata": {},
   "outputs": [
    {
     "data": {
      "text/plain": [
       "'Number of unique values for flux: 124,244'"
      ]
     },
     "metadata": {},
     "output_type": "display_data"
    },
    {
     "data": {
      "text/plain": [
       "<matplotlib.axes._subplots.AxesSubplot at 0x115adc0f0>"
      ]
     },
     "execution_count": 23,
     "metadata": {},
     "output_type": "execute_result"
    },
    {
     "data": {
      "image/png": "[encoded data removed]",
      "text/plain": [
       "<matplotlib.figure.Figure at 0x115a7fd30>"
      ]
     },
     "metadata": {},
     "output_type": "display_data"
    }
   ],
   "source": [
    "unique_vals(df, 'flux')\n",
    "df['flux'].hist(bins=200)"
   ]
  },
  {
   "cell_type": "code",
   "execution_count": 25,
   "metadata": {},
   "outputs": [
    {
     "data": {
      "text/plain": [
       "array([[<matplotlib.axes._subplots.AxesSubplot object at 0x124b51d30>,\n",
       "        <matplotlib.axes._subplots.AxesSubplot object at 0x13c166c50>,\n",
       "        <matplotlib.axes._subplots.AxesSubplot object at 0x13c0aec50>],\n",
       "       [<matplotlib.axes._subplots.AxesSubplot object at 0x13bff3be0>,\n",
       "        <matplotlib.axes._subplots.AxesSubplot object at 0x13bf6c160>,\n",
       "        <matplotlib.axes._subplots.AxesSubplot object at 0x13bf6c198>],\n",
       "       [<matplotlib.axes._subplots.AxesSubplot object at 0x13be83860>,\n",
       "        <matplotlib.axes._subplots.AxesSubplot object at 0x13be08860>,\n",
       "        <matplotlib.axes._subplots.AxesSubplot object at 0x13bd4bda0>],\n",
       "       [<matplotlib.axes._subplots.AxesSubplot object at 0x13bc131d0>,\n",
       "        <matplotlib.axes._subplots.AxesSubplot object at 0x13bb541d0>,\n",
       "        <matplotlib.axes._subplots.AxesSubplot object at 0x13badb1d0>]], dtype=object)"
      ]
     },
     "execution_count": 25,
     "metadata": {},
     "output_type": "execute_result"
    },
    {
     "data": {
      "image/png": "[encoded data removed]",
      "text/plain": [
       "<matplotlib.figure.Figure at 0x11aa54c18>"
      ]
     },
     "metadata": {},
     "output_type": "display_data"
    }
   ],
   "source": [
    "df.hist(bins=200)"
   ]
  },
  {
   "cell_type": "code",
   "execution_count": 26,
   "metadata": {},
   "outputs": [
    {
     "data": {
      "text/html": [
       "<div>\n",
       "<style scoped>\n",
       "    .dataframe tbody tr th:only-of-type {\n",
       "        vertical-align: middle;\n",
       "    }\n",
       "\n",
       "    .dataframe tbody tr th {\n",
       "        vertical-align: top;\n",
       "    }\n",
       "\n",
       "    .dataframe thead th {\n",
       "        text-align: right;\n",
       "    }\n",
       "</style>\n",
       "<table border=\"1\" class=\"dataframe\">\n",
       "  <thead>\n",
       "    <tr style=\"text-align: right;\">\n",
       "      <th></th>\n",
       "      <th>source_id</th>\n",
       "      <th>transit_id</th>\n",
       "      <th>time</th>\n",
       "      <th>mag</th>\n",
       "      <th>flux</th>\n",
       "      <th>flux_error</th>\n",
       "      <th>flux_over_error</th>\n",
       "      <th>other_flags</th>\n",
       "      <th>solution_id</th>\n",
       "    </tr>\n",
       "  </thead>\n",
       "  <tbody>\n",
       "    <tr>\n",
       "      <th>count</th>\n",
       "      <td>1.241740e+05</td>\n",
       "      <td>1.241740e+05</td>\n",
       "      <td>124174.000000</td>\n",
       "      <td>124174.000000</td>\n",
       "      <td>1.241740e+05</td>\n",
       "      <td>1.241740e+05</td>\n",
       "      <td>124174.000000</td>\n",
       "      <td>1.241740e+05</td>\n",
       "      <td>1.241740e+05</td>\n",
       "    </tr>\n",
       "    <tr>\n",
       "      <th>mean</th>\n",
       "      <td>1.110628e+18</td>\n",
       "      <td>3.473600e+16</td>\n",
       "      <td>2025.027051</td>\n",
       "      <td>15.741386</td>\n",
       "      <td>2.874178e+05</td>\n",
       "      <td>2.609434e+03</td>\n",
       "      <td>241.053409</td>\n",
       "      <td>2.737231e+05</td>\n",
       "      <td>3.692955e+17</td>\n",
       "    </tr>\n",
       "    <tr>\n",
       "      <th>std</th>\n",
       "      <td>1.229033e+16</td>\n",
       "      <td>9.258072e+15</td>\n",
       "      <td>167.427471</td>\n",
       "      <td>2.365502</td>\n",
       "      <td>3.138300e+06</td>\n",
       "      <td>5.894566e+04</td>\n",
       "      <td>342.212655</td>\n",
       "      <td>1.083982e+06</td>\n",
       "      <td>6.062279e+08</td>\n",
       "    </tr>\n",
       "    <tr>\n",
       "      <th>min</th>\n",
       "      <td>1.098746e+18</td>\n",
       "      <td>1.683944e+16</td>\n",
       "      <td>1701.375082</td>\n",
       "      <td>4.650412</td>\n",
       "      <td>1.194031e+00</td>\n",
       "      <td>1.122266e+00</td>\n",
       "      <td>0.026982</td>\n",
       "      <td>0.000000e+00</td>\n",
       "      <td>3.692955e+17</td>\n",
       "    </tr>\n",
       "    <tr>\n",
       "      <th>25%</th>\n",
       "      <td>1.103273e+18</td>\n",
       "      <td>2.720666e+16</td>\n",
       "      <td>1888.864213</td>\n",
       "      <td>14.429811</td>\n",
       "      <td>1.692529e+03</td>\n",
       "      <td>2.914121e+01</td>\n",
       "      <td>41.164626</td>\n",
       "      <td>0.000000e+00</td>\n",
       "      <td>3.692955e+17</td>\n",
       "    </tr>\n",
       "    <tr>\n",
       "      <th>50%</th>\n",
       "      <td>1.106255e+18</td>\n",
       "      <td>3.372634e+16</td>\n",
       "      <td>2006.763607</td>\n",
       "      <td>15.890002</td>\n",
       "      <td>5.699930e+03</td>\n",
       "      <td>5.690158e+01</td>\n",
       "      <td>109.440650</td>\n",
       "      <td>0.000000e+00</td>\n",
       "      <td>3.692955e+17</td>\n",
       "    </tr>\n",
       "    <tr>\n",
       "      <th>75%</th>\n",
       "      <td>1.110745e+18</td>\n",
       "      <td>4.251849e+16</td>\n",
       "      <td>2165.773253</td>\n",
       "      <td>17.237194</td>\n",
       "      <td>2.091829e+04</td>\n",
       "      <td>1.125039e+02</td>\n",
       "      <td>280.280588</td>\n",
       "      <td>1.000000e+00</td>\n",
       "      <td>3.692955e+17</td>\n",
       "    </tr>\n",
       "    <tr>\n",
       "      <th>max</th>\n",
       "      <td>1.150788e+18</td>\n",
       "      <td>5.152519e+16</td>\n",
       "      <td>2328.649369</td>\n",
       "      <td>25.107118</td>\n",
       "      <td>1.108162e+08</td>\n",
       "      <td>1.152320e+07</td>\n",
       "      <td>4775.607400</td>\n",
       "      <td>8.356355e+06</td>\n",
       "      <td>3.692956e+17</td>\n",
       "    </tr>\n",
       "  </tbody>\n",
       "</table>\n",
       "</div>"
      ],
      "text/plain": [
       "          source_id    transit_id           time            mag          flux  \\\n",
       "count  1.241740e+05  1.241740e+05  124174.000000  124174.000000  1.241740e+05   \n",
       "mean   1.110628e+18  3.473600e+16    2025.027051      15.741386  2.874178e+05   \n",
       "std    1.229033e+16  9.258072e+15     167.427471       2.365502  3.138300e+06   \n",
       "min    1.098746e+18  1.683944e+16    1701.375082       4.650412  1.194031e+00   \n",
       "25%    1.103273e+18  2.720666e+16    1888.864213      14.429811  1.692529e+03   \n",
       "50%    1.106255e+18  3.372634e+16    2006.763607      15.890002  5.699930e+03   \n",
       "75%    1.110745e+18  4.251849e+16    2165.773253      17.237194  2.091829e+04   \n",
       "max    1.150788e+18  5.152519e+16    2328.649369      25.107118  1.108162e+08   \n",
       "\n",
       "         flux_error  flux_over_error   other_flags   solution_id  \n",
       "count  1.241740e+05    124174.000000  1.241740e+05  1.241740e+05  \n",
       "mean   2.609434e+03       241.053409  2.737231e+05  3.692955e+17  \n",
       "std    5.894566e+04       342.212655  1.083982e+06  6.062279e+08  \n",
       "min    1.122266e+00         0.026982  0.000000e+00  3.692955e+17  \n",
       "25%    2.914121e+01        41.164626  0.000000e+00  3.692955e+17  \n",
       "50%    5.690158e+01       109.440650  0.000000e+00  3.692955e+17  \n",
       "75%    1.125039e+02       280.280588  1.000000e+00  3.692955e+17  \n",
       "max    1.152320e+07      4775.607400  8.356355e+06  3.692956e+17  "
      ]
     },
     "metadata": {},
     "output_type": "display_data"
    },
    {
     "data": {
      "text/html": [
       "<div>\n",
       "<style scoped>\n",
       "    .dataframe tbody tr th:only-of-type {\n",
       "        vertical-align: middle;\n",
       "    }\n",
       "\n",
       "    .dataframe tbody tr th {\n",
       "        vertical-align: top;\n",
       "    }\n",
       "\n",
       "    .dataframe thead th {\n",
       "        text-align: right;\n",
       "    }\n",
       "</style>\n",
       "<table border=\"1\" class=\"dataframe\">\n",
       "  <thead>\n",
       "    <tr style=\"text-align: right;\">\n",
       "      <th></th>\n",
       "      <th>source_id</th>\n",
       "      <th>transit_id</th>\n",
       "      <th>band</th>\n",
       "      <th>time</th>\n",
       "      <th>mag</th>\n",
       "      <th>flux</th>\n",
       "      <th>flux_error</th>\n",
       "      <th>flux_over_error</th>\n",
       "      <th>rejected_by_photometry</th>\n",
       "      <th>rejected_by_variability</th>\n",
       "      <th>other_flags</th>\n",
       "      <th>solution_id</th>\n",
       "    </tr>\n",
       "  </thead>\n",
       "  <tbody>\n",
       "    <tr>\n",
       "      <th>0</th>\n",
       "      <td>1098746200181562496</td>\n",
       "      <td>17112143643427067</td>\n",
       "      <td>G</td>\n",
       "      <td>1706.306019</td>\n",
       "      <td>16.291751</td>\n",
       "      <td>5736.482930</td>\n",
       "      <td>15.779594</td>\n",
       "      <td>363.53806</td>\n",
       "      <td>False</td>\n",
       "      <td>False</td>\n",
       "      <td>4194817</td>\n",
       "      <td>369295549951641967</td>\n",
       "    </tr>\n",
       "    <tr>\n",
       "      <th>1</th>\n",
       "      <td>1098746200181562496</td>\n",
       "      <td>19193066485465195</td>\n",
       "      <td>G</td>\n",
       "      <td>1743.940784</td>\n",
       "      <td>16.239098</td>\n",
       "      <td>6021.531196</td>\n",
       "      <td>56.310494</td>\n",
       "      <td>106.93444</td>\n",
       "      <td>False</td>\n",
       "      <td>False</td>\n",
       "      <td>4198913</td>\n",
       "      <td>369295549951641967</td>\n",
       "    </tr>\n",
       "    <tr>\n",
       "      <th>2</th>\n",
       "      <td>1098746200181562496</td>\n",
       "      <td>21237036189618292</td>\n",
       "      <td>G</td>\n",
       "      <td>1780.907158</td>\n",
       "      <td>16.298499</td>\n",
       "      <td>5700.944010</td>\n",
       "      <td>12.134803</td>\n",
       "      <td>469.80110</td>\n",
       "      <td>False</td>\n",
       "      <td>False</td>\n",
       "      <td>2097153</td>\n",
       "      <td>369295549951641967</td>\n",
       "    </tr>\n",
       "    <tr>\n",
       "      <th>3</th>\n",
       "      <td>1098746200181562496</td>\n",
       "      <td>22098353216991700</td>\n",
       "      <td>G</td>\n",
       "      <td>1796.484343</td>\n",
       "      <td>16.286925</td>\n",
       "      <td>5762.041943</td>\n",
       "      <td>13.533400</td>\n",
       "      <td>425.76456</td>\n",
       "      <td>False</td>\n",
       "      <td>False</td>\n",
       "      <td>1</td>\n",
       "      <td>369295549951641967</td>\n",
       "    </tr>\n",
       "    <tr>\n",
       "      <th>4</th>\n",
       "      <td>1098746200181562496</td>\n",
       "      <td>24509795067908506</td>\n",
       "      <td>G</td>\n",
       "      <td>1840.094642</td>\n",
       "      <td>16.267762</td>\n",
       "      <td>5864.640441</td>\n",
       "      <td>15.122909</td>\n",
       "      <td>387.79843</td>\n",
       "      <td>False</td>\n",
       "      <td>False</td>\n",
       "      <td>1</td>\n",
       "      <td>369295549951641967</td>\n",
       "    </tr>\n",
       "  </tbody>\n",
       "</table>\n",
       "</div>"
      ],
      "text/plain": [
       "             source_id         transit_id band         time        mag  \\\n",
       "0  1098746200181562496  17112143643427067    G  1706.306019  16.291751   \n",
       "1  1098746200181562496  19193066485465195    G  1743.940784  16.239098   \n",
       "2  1098746200181562496  21237036189618292    G  1780.907158  16.298499   \n",
       "3  1098746200181562496  22098353216991700    G  1796.484343  16.286925   \n",
       "4  1098746200181562496  24509795067908506    G  1840.094642  16.267762   \n",
       "\n",
       "          flux  flux_error  flux_over_error  rejected_by_photometry  \\\n",
       "0  5736.482930   15.779594        363.53806                   False   \n",
       "1  6021.531196   56.310494        106.93444                   False   \n",
       "2  5700.944010   12.134803        469.80110                   False   \n",
       "3  5762.041943   13.533400        425.76456                   False   \n",
       "4  5864.640441   15.122909        387.79843                   False   \n",
       "\n",
       "   rejected_by_variability  other_flags         solution_id  \n",
       "0                    False      4194817  369295549951641967  \n",
       "1                    False      4198913  369295549951641967  \n",
       "2                    False      2097153  369295549951641967  \n",
       "3                    False            1  369295549951641967  \n",
       "4                    False            1  369295549951641967  "
      ]
     },
     "metadata": {},
     "output_type": "display_data"
    }
   ],
   "source": [
    "df = stats(\"light_curves_1098746200181562496_1150788044027782912.csv\")\n"
   ]
  },
  {
   "cell_type": "code",
   "execution_count": 10,
   "metadata": {},
   "outputs": [
    {
     "data": {
      "text/html": [
       "<div>\n",
       "<style scoped>\n",
       "    .dataframe tbody tr th:only-of-type {\n",
       "        vertical-align: middle;\n",
       "    }\n",
       "\n",
       "    .dataframe tbody tr th {\n",
       "        vertical-align: top;\n",
       "    }\n",
       "\n",
       "    .dataframe thead th {\n",
       "        text-align: right;\n",
       "    }\n",
       "</style>\n",
       "<table border=\"1\" class=\"dataframe\">\n",
       "  <thead>\n",
       "    <tr style=\"text-align: right;\">\n",
       "      <th></th>\n",
       "      <th>solution_id</th>\n",
       "      <th>source_id</th>\n",
       "      <th>observation_id</th>\n",
       "      <th>number_mp</th>\n",
       "      <th>epoch</th>\n",
       "      <th>epoch_err</th>\n",
       "      <th>epoch_utc</th>\n",
       "      <th>ra</th>\n",
       "      <th>dec</th>\n",
       "      <th>ra_error_systematic</th>\n",
       "      <th>...</th>\n",
       "      <th>g_flux</th>\n",
       "      <th>g_flux_error</th>\n",
       "      <th>x_gaia</th>\n",
       "      <th>y_gaia</th>\n",
       "      <th>z_gaia</th>\n",
       "      <th>vx_gaia</th>\n",
       "      <th>vy_gaia</th>\n",
       "      <th>vz_gaia</th>\n",
       "      <th>position_angle_scan</th>\n",
       "      <th>level_of_confidence</th>\n",
       "    </tr>\n",
       "  </thead>\n",
       "  <tbody>\n",
       "    <tr>\n",
       "      <th>count</th>\n",
       "      <td>3.457840e+05</td>\n",
       "      <td>3.457840e+05</td>\n",
       "      <td>3.457840e+05</td>\n",
       "      <td>345784.000000</td>\n",
       "      <td>345784.000000</td>\n",
       "      <td>3.457840e+05</td>\n",
       "      <td>345784.000000</td>\n",
       "      <td>345784.000000</td>\n",
       "      <td>345784.000000</td>\n",
       "      <td>345784.000000</td>\n",
       "      <td>...</td>\n",
       "      <td>153938.000000</td>\n",
       "      <td>153938.000000</td>\n",
       "      <td>345784.000000</td>\n",
       "      <td>345784.000000</td>\n",
       "      <td>345784.000000</td>\n",
       "      <td>345784.000000</td>\n",
       "      <td>345784.000000</td>\n",
       "      <td>345784.000000</td>\n",
       "      <td>345784.000000</td>\n",
       "      <td>345784.0</td>\n",
       "    </tr>\n",
       "    <tr>\n",
       "      <th>mean</th>\n",
       "      <td>4.427920e+18</td>\n",
       "      <td>-4.284528e+09</td>\n",
       "      <td>3.432929e+17</td>\n",
       "      <td>43925.529816</td>\n",
       "      <td>2017.671583</td>\n",
       "      <td>1.137500e-08</td>\n",
       "      <td>2017.670582</td>\n",
       "      <td>176.204136</td>\n",
       "      <td>-0.790348</td>\n",
       "      <td>8.668806</td>\n",
       "      <td>...</td>\n",
       "      <td>1107.205883</td>\n",
       "      <td>10.109750</td>\n",
       "      <td>-0.036628</td>\n",
       "      <td>0.086975</td>\n",
       "      <td>0.037544</td>\n",
       "      <td>-0.002030</td>\n",
       "      <td>-0.000720</td>\n",
       "      <td>-0.000312</td>\n",
       "      <td>183.650592</td>\n",
       "      <td>0.0</td>\n",
       "    </tr>\n",
       "    <tr>\n",
       "      <th>std</th>\n",
       "      <td>3.761055e+07</td>\n",
       "      <td>1.816422e+05</td>\n",
       "      <td>1.028758e+17</td>\n",
       "      <td>18164.222351</td>\n",
       "      <td>186.045613</td>\n",
       "      <td>5.897310e-20</td>\n",
       "      <td>186.045605</td>\n",
       "      <td>98.737181</td>\n",
       "      <td>21.233999</td>\n",
       "      <td>0.516014</td>\n",
       "      <td>...</td>\n",
       "      <td>982.254893</td>\n",
       "      <td>11.009195</td>\n",
       "      <td>0.739707</td>\n",
       "      <td>0.621027</td>\n",
       "      <td>0.269059</td>\n",
       "      <td>0.011632</td>\n",
       "      <td>0.011721</td>\n",
       "      <td>0.005079</td>\n",
       "      <td>109.086048</td>\n",
       "      <td>0.0</td>\n",
       "    </tr>\n",
       "    <tr>\n",
       "      <th>min</th>\n",
       "      <td>4.427920e+18</td>\n",
       "      <td>-4.284702e+09</td>\n",
       "      <td>1.552170e+17</td>\n",
       "      <td>26520.000000</td>\n",
       "      <td>1677.545710</td>\n",
       "      <td>1.137500e-08</td>\n",
       "      <td>1677.544720</td>\n",
       "      <td>0.003631</td>\n",
       "      <td>-77.351458</td>\n",
       "      <td>4.027763</td>\n",
       "      <td>...</td>\n",
       "      <td>106.903038</td>\n",
       "      <td>1.545122</td>\n",
       "      <td>-1.002202</td>\n",
       "      <td>-0.941662</td>\n",
       "      <td>-0.409774</td>\n",
       "      <td>-0.017591</td>\n",
       "      <td>-0.016062</td>\n",
       "      <td>-0.006961</td>\n",
       "      <td>0.000050</td>\n",
       "      <td>0.0</td>\n",
       "    </tr>\n",
       "    <tr>\n",
       "      <th>25%</th>\n",
       "      <td>4.427920e+18</td>\n",
       "      <td>-4.284657e+09</td>\n",
       "      <td>2.552019e+17</td>\n",
       "      <td>31006.000000</td>\n",
       "      <td>1858.363178</td>\n",
       "      <td>1.137500e-08</td>\n",
       "      <td>1858.362185</td>\n",
       "      <td>96.241207</td>\n",
       "      <td>-17.540733</td>\n",
       "      <td>8.441005</td>\n",
       "      <td>...</td>\n",
       "      <td>539.804673</td>\n",
       "      <td>5.811030</td>\n",
       "      <td>-0.769725</td>\n",
       "      <td>-0.503676</td>\n",
       "      <td>-0.218047</td>\n",
       "      <td>-0.013504</td>\n",
       "      <td>-0.012331</td>\n",
       "      <td>-0.005343</td>\n",
       "      <td>115.501731</td>\n",
       "      <td>0.0</td>\n",
       "    </tr>\n",
       "    <tr>\n",
       "      <th>50%</th>\n",
       "      <td>4.427920e+18</td>\n",
       "      <td>-4.284587e+09</td>\n",
       "      <td>3.473148e+17</td>\n",
       "      <td>38026.000000</td>\n",
       "      <td>2024.945201</td>\n",
       "      <td>1.137500e-08</td>\n",
       "      <td>2024.944193</td>\n",
       "      <td>181.126481</td>\n",
       "      <td>-1.346888</td>\n",
       "      <td>8.754042</td>\n",
       "      <td>...</td>\n",
       "      <td>855.148561</td>\n",
       "      <td>7.683215</td>\n",
       "      <td>-0.091985</td>\n",
       "      <td>0.130065</td>\n",
       "      <td>0.057392</td>\n",
       "      <td>-0.002731</td>\n",
       "      <td>-0.001574</td>\n",
       "      <td>-0.000676</td>\n",
       "      <td>187.982304</td>\n",
       "      <td>0.0</td>\n",
       "    </tr>\n",
       "    <tr>\n",
       "      <th>75%</th>\n",
       "      <td>4.427920e+18</td>\n",
       "      <td>-4.284457e+09</td>\n",
       "      <td>4.328411e+17</td>\n",
       "      <td>51046.000000</td>\n",
       "      <td>2179.614740</td>\n",
       "      <td>1.137500e-08</td>\n",
       "      <td>2179.613730</td>\n",
       "      <td>249.639734</td>\n",
       "      <td>15.658973</td>\n",
       "      <td>9.040928</td>\n",
       "      <td>...</td>\n",
       "      <td>1343.622057</td>\n",
       "      <td>10.479730</td>\n",
       "      <td>0.737449</td>\n",
       "      <td>0.697973</td>\n",
       "      <td>0.302060</td>\n",
       "      <td>0.009086</td>\n",
       "      <td>0.011493</td>\n",
       "      <td>0.004991</td>\n",
       "      <td>264.270532</td>\n",
       "      <td>0.0</td>\n",
       "    </tr>\n",
       "    <tr>\n",
       "      <th>max</th>\n",
       "      <td>4.427920e+18</td>\n",
       "      <td>-4.283326e+09</td>\n",
       "      <td>5.184755e+17</td>\n",
       "      <td>164121.000000</td>\n",
       "      <td>2334.480625</td>\n",
       "      <td>1.137500e-08</td>\n",
       "      <td>2334.479613</td>\n",
       "      <td>359.996813</td>\n",
       "      <td>72.950643</td>\n",
       "      <td>9.465424</td>\n",
       "      <td>...</td>\n",
       "      <td>25231.539881</td>\n",
       "      <td>427.893339</td>\n",
       "      <td>1.016499</td>\n",
       "      <td>0.913987</td>\n",
       "      <td>0.394691</td>\n",
       "      <td>0.017031</td>\n",
       "      <td>0.015953</td>\n",
       "      <td>0.006917</td>\n",
       "      <td>359.999917</td>\n",
       "      <td>0.0</td>\n",
       "    </tr>\n",
       "  </tbody>\n",
       "</table>\n",
       "<p>8 rows × 26 columns</p>\n",
       "</div>"
      ],
      "text/plain": [
       "        solution_id     source_id  observation_id      number_mp  \\\n",
       "count  3.457840e+05  3.457840e+05    3.457840e+05  345784.000000   \n",
       "mean   4.427920e+18 -4.284528e+09    3.432929e+17   43925.529816   \n",
       "std    3.761055e+07  1.816422e+05    1.028758e+17   18164.222351   \n",
       "min    4.427920e+18 -4.284702e+09    1.552170e+17   26520.000000   \n",
       "25%    4.427920e+18 -4.284657e+09    2.552019e+17   31006.000000   \n",
       "50%    4.427920e+18 -4.284587e+09    3.473148e+17   38026.000000   \n",
       "75%    4.427920e+18 -4.284457e+09    4.328411e+17   51046.000000   \n",
       "max    4.427920e+18 -4.283326e+09    5.184755e+17  164121.000000   \n",
       "\n",
       "               epoch     epoch_err      epoch_utc             ra  \\\n",
       "count  345784.000000  3.457840e+05  345784.000000  345784.000000   \n",
       "mean     2017.671583  1.137500e-08    2017.670582     176.204136   \n",
       "std       186.045613  5.897310e-20     186.045605      98.737181   \n",
       "min      1677.545710  1.137500e-08    1677.544720       0.003631   \n",
       "25%      1858.363178  1.137500e-08    1858.362185      96.241207   \n",
       "50%      2024.945201  1.137500e-08    2024.944193     181.126481   \n",
       "75%      2179.614740  1.137500e-08    2179.613730     249.639734   \n",
       "max      2334.480625  1.137500e-08    2334.479613     359.996813   \n",
       "\n",
       "                 dec  ra_error_systematic         ...                  g_flux  \\\n",
       "count  345784.000000        345784.000000         ...           153938.000000   \n",
       "mean       -0.790348             8.668806         ...             1107.205883   \n",
       "std        21.233999             0.516014         ...              982.254893   \n",
       "min       -77.351458             4.027763         ...              106.903038   \n",
       "25%       -17.540733             8.441005         ...              539.804673   \n",
       "50%        -1.346888             8.754042         ...              855.148561   \n",
       "75%        15.658973             9.040928         ...             1343.622057   \n",
       "max        72.950643             9.465424         ...            25231.539881   \n",
       "\n",
       "        g_flux_error         x_gaia         y_gaia         z_gaia  \\\n",
       "count  153938.000000  345784.000000  345784.000000  345784.000000   \n",
       "mean       10.109750      -0.036628       0.086975       0.037544   \n",
       "std        11.009195       0.739707       0.621027       0.269059   \n",
       "min         1.545122      -1.002202      -0.941662      -0.409774   \n",
       "25%         5.811030      -0.769725      -0.503676      -0.218047   \n",
       "50%         7.683215      -0.091985       0.130065       0.057392   \n",
       "75%        10.479730       0.737449       0.697973       0.302060   \n",
       "max       427.893339       1.016499       0.913987       0.394691   \n",
       "\n",
       "             vx_gaia        vy_gaia        vz_gaia  position_angle_scan  \\\n",
       "count  345784.000000  345784.000000  345784.000000        345784.000000   \n",
       "mean       -0.002030      -0.000720      -0.000312           183.650592   \n",
       "std         0.011632       0.011721       0.005079           109.086048   \n",
       "min        -0.017591      -0.016062      -0.006961             0.000050   \n",
       "25%        -0.013504      -0.012331      -0.005343           115.501731   \n",
       "50%        -0.002731      -0.001574      -0.000676           187.982304   \n",
       "75%         0.009086       0.011493       0.004991           264.270532   \n",
       "max         0.017031       0.015953       0.006917           359.999917   \n",
       "\n",
       "       level_of_confidence  \n",
       "count             345784.0  \n",
       "mean                   0.0  \n",
       "std                    0.0  \n",
       "min                    0.0  \n",
       "25%                    0.0  \n",
       "50%                    0.0  \n",
       "75%                    0.0  \n",
       "max                    0.0  \n",
       "\n",
       "[8 rows x 26 columns]"
      ]
     },
     "metadata": {},
     "output_type": "display_data"
    },
    {
     "data": {
      "text/html": [
       "<div>\n",
       "<style scoped>\n",
       "    .dataframe tbody tr th:only-of-type {\n",
       "        vertical-align: middle;\n",
       "    }\n",
       "\n",
       "    .dataframe tbody tr th {\n",
       "        vertical-align: top;\n",
       "    }\n",
       "\n",
       "    .dataframe thead th {\n",
       "        text-align: right;\n",
       "    }\n",
       "</style>\n",
       "<table border=\"1\" class=\"dataframe\">\n",
       "  <thead>\n",
       "    <tr style=\"text-align: right;\">\n",
       "      <th></th>\n",
       "      <th>solution_id</th>\n",
       "      <th>source_id</th>\n",
       "      <th>observation_id</th>\n",
       "      <th>number_mp</th>\n",
       "      <th>epoch</th>\n",
       "      <th>epoch_err</th>\n",
       "      <th>epoch_utc</th>\n",
       "      <th>ra</th>\n",
       "      <th>dec</th>\n",
       "      <th>ra_error_systematic</th>\n",
       "      <th>...</th>\n",
       "      <th>g_flux</th>\n",
       "      <th>g_flux_error</th>\n",
       "      <th>x_gaia</th>\n",
       "      <th>y_gaia</th>\n",
       "      <th>z_gaia</th>\n",
       "      <th>vx_gaia</th>\n",
       "      <th>vy_gaia</th>\n",
       "      <th>vz_gaia</th>\n",
       "      <th>position_angle_scan</th>\n",
       "      <th>level_of_confidence</th>\n",
       "    </tr>\n",
       "  </thead>\n",
       "  <tbody>\n",
       "    <tr>\n",
       "      <th>0</th>\n",
       "      <td>4427920383700574337</td>\n",
       "      <td>-4284702096</td>\n",
       "      <td>422330422856343771</td>\n",
       "      <td>26520</td>\n",
       "      <td>2160.606647</td>\n",
       "      <td>1.137500e-08</td>\n",
       "      <td>2160.605638</td>\n",
       "      <td>344.988300</td>\n",
       "      <td>-23.314162</td>\n",
       "      <td>7.807332</td>\n",
       "      <td>...</td>\n",
       "      <td>NaN</td>\n",
       "      <td>NaN</td>\n",
       "      <td>0.361778</td>\n",
       "      <td>0.854666</td>\n",
       "      <td>0.369307</td>\n",
       "      <td>-0.016443</td>\n",
       "      <td>0.005686</td>\n",
       "      <td>0.002436</td>\n",
       "      <td>21.959032</td>\n",
       "      <td>0</td>\n",
       "    </tr>\n",
       "    <tr>\n",
       "      <th>1</th>\n",
       "      <td>4427920383700574337</td>\n",
       "      <td>-4284702096</td>\n",
       "      <td>422330422856343772</td>\n",
       "      <td>26520</td>\n",
       "      <td>2160.606703</td>\n",
       "      <td>1.137500e-08</td>\n",
       "      <td>2160.605694</td>\n",
       "      <td>344.988311</td>\n",
       "      <td>-23.314150</td>\n",
       "      <td>7.807331</td>\n",
       "      <td>...</td>\n",
       "      <td>NaN</td>\n",
       "      <td>NaN</td>\n",
       "      <td>0.361777</td>\n",
       "      <td>0.854666</td>\n",
       "      <td>0.369307</td>\n",
       "      <td>-0.016443</td>\n",
       "      <td>0.005686</td>\n",
       "      <td>0.002436</td>\n",
       "      <td>21.959037</td>\n",
       "      <td>0</td>\n",
       "    </tr>\n",
       "    <tr>\n",
       "      <th>2</th>\n",
       "      <td>4427920383700574337</td>\n",
       "      <td>-4284702096</td>\n",
       "      <td>422330422856343773</td>\n",
       "      <td>26520</td>\n",
       "      <td>2160.606816</td>\n",
       "      <td>1.137500e-08</td>\n",
       "      <td>2160.605806</td>\n",
       "      <td>344.988333</td>\n",
       "      <td>-23.314126</td>\n",
       "      <td>7.807329</td>\n",
       "      <td>...</td>\n",
       "      <td>NaN</td>\n",
       "      <td>NaN</td>\n",
       "      <td>0.361775</td>\n",
       "      <td>0.854667</td>\n",
       "      <td>0.369308</td>\n",
       "      <td>-0.016443</td>\n",
       "      <td>0.005686</td>\n",
       "      <td>0.002436</td>\n",
       "      <td>21.959048</td>\n",
       "      <td>0</td>\n",
       "    </tr>\n",
       "    <tr>\n",
       "      <th>3</th>\n",
       "      <td>4427920383700574337</td>\n",
       "      <td>-4284702096</td>\n",
       "      <td>422330422856343774</td>\n",
       "      <td>26520</td>\n",
       "      <td>2160.606872</td>\n",
       "      <td>1.137500e-08</td>\n",
       "      <td>2160.605863</td>\n",
       "      <td>344.988333</td>\n",
       "      <td>-23.314110</td>\n",
       "      <td>7.807328</td>\n",
       "      <td>...</td>\n",
       "      <td>NaN</td>\n",
       "      <td>NaN</td>\n",
       "      <td>0.361774</td>\n",
       "      <td>0.854667</td>\n",
       "      <td>0.369308</td>\n",
       "      <td>-0.016443</td>\n",
       "      <td>0.005686</td>\n",
       "      <td>0.002436</td>\n",
       "      <td>21.959059</td>\n",
       "      <td>0</td>\n",
       "    </tr>\n",
       "    <tr>\n",
       "      <th>4</th>\n",
       "      <td>4427920383700574337</td>\n",
       "      <td>-4284702096</td>\n",
       "      <td>302612640156924781</td>\n",
       "      <td>26520</td>\n",
       "      <td>1944.103187</td>\n",
       "      <td>1.137500e-08</td>\n",
       "      <td>1944.102192</td>\n",
       "      <td>331.153165</td>\n",
       "      <td>-13.997549</td>\n",
       "      <td>8.756336</td>\n",
       "      <td>...</td>\n",
       "      <td>NaN</td>\n",
       "      <td>NaN</td>\n",
       "      <td>-0.793617</td>\n",
       "      <td>-0.579309</td>\n",
       "      <td>-0.251082</td>\n",
       "      <td>0.010510</td>\n",
       "      <td>-0.012567</td>\n",
       "      <td>-0.005492</td>\n",
       "      <td>200.174014</td>\n",
       "      <td>0</td>\n",
       "    </tr>\n",
       "  </tbody>\n",
       "</table>\n",
       "<p>5 rows × 26 columns</p>\n",
       "</div>"
      ],
      "text/plain": [
       "           solution_id   source_id      observation_id  number_mp  \\\n",
       "0  4427920383700574337 -4284702096  422330422856343771      26520   \n",
       "1  4427920383700574337 -4284702096  422330422856343772      26520   \n",
       "2  4427920383700574337 -4284702096  422330422856343773      26520   \n",
       "3  4427920383700574337 -4284702096  422330422856343774      26520   \n",
       "4  4427920383700574337 -4284702096  302612640156924781      26520   \n",
       "\n",
       "         epoch     epoch_err    epoch_utc          ra        dec  \\\n",
       "0  2160.606647  1.137500e-08  2160.605638  344.988300 -23.314162   \n",
       "1  2160.606703  1.137500e-08  2160.605694  344.988311 -23.314150   \n",
       "2  2160.606816  1.137500e-08  2160.605806  344.988333 -23.314126   \n",
       "3  2160.606872  1.137500e-08  2160.605863  344.988333 -23.314110   \n",
       "4  1944.103187  1.137500e-08  1944.102192  331.153165 -13.997549   \n",
       "\n",
       "   ra_error_systematic         ...           g_flux  g_flux_error    x_gaia  \\\n",
       "0             7.807332         ...              NaN           NaN  0.361778   \n",
       "1             7.807331         ...              NaN           NaN  0.361777   \n",
       "2             7.807329         ...              NaN           NaN  0.361775   \n",
       "3             7.807328         ...              NaN           NaN  0.361774   \n",
       "4             8.756336         ...              NaN           NaN -0.793617   \n",
       "\n",
       "     y_gaia    z_gaia   vx_gaia   vy_gaia   vz_gaia  position_angle_scan  \\\n",
       "0  0.854666  0.369307 -0.016443  0.005686  0.002436            21.959032   \n",
       "1  0.854666  0.369307 -0.016443  0.005686  0.002436            21.959037   \n",
       "2  0.854667  0.369308 -0.016443  0.005686  0.002436            21.959048   \n",
       "3  0.854667  0.369308 -0.016443  0.005686  0.002436            21.959059   \n",
       "4 -0.579309 -0.251082  0.010510 -0.012567 -0.005492           200.174014   \n",
       "\n",
       "   level_of_confidence  \n",
       "0                    0  \n",
       "1                    0  \n",
       "2                    0  \n",
       "3                    0  \n",
       "4                    0  \n",
       "\n",
       "[5 rows x 26 columns]"
      ]
     },
     "metadata": {},
     "output_type": "display_data"
    }
   ],
   "source": [
    "df = stats(\"SsoObservation_-4284702096_-4283326086.csv\")\n"
   ]
  },
  {
   "cell_type": "code",
   "execution_count": 27,
   "metadata": {},
   "outputs": [
    {
     "data": {
      "text/plain": [
       "array([[<matplotlib.axes._subplots.AxesSubplot object at 0x13b8db080>,\n",
       "        <matplotlib.axes._subplots.AxesSubplot object at 0x13aa7b710>,\n",
       "        <matplotlib.axes._subplots.AxesSubplot object at 0x12661f908>],\n",
       "       [<matplotlib.axes._subplots.AxesSubplot object at 0x12471f780>,\n",
       "        <matplotlib.axes._subplots.AxesSubplot object at 0x13b7a3978>,\n",
       "        <matplotlib.axes._subplots.AxesSubplot object at 0x13b7a3cf8>],\n",
       "       [<matplotlib.axes._subplots.AxesSubplot object at 0x124168080>,\n",
       "        <matplotlib.axes._subplots.AxesSubplot object at 0x12410f080>,\n",
       "        <matplotlib.axes._subplots.AxesSubplot object at 0x1240ea4e0>],\n",
       "       [<matplotlib.axes._subplots.AxesSubplot object at 0x124047358>,\n",
       "        <matplotlib.axes._subplots.AxesSubplot object at 0x124019710>,\n",
       "        <matplotlib.axes._subplots.AxesSubplot object at 0x123daca90>]], dtype=object)"
      ]
     },
     "execution_count": 27,
     "metadata": {},
     "output_type": "execute_result"
    },
    {
     "data": {
      "image/png": "[encoded data removed]",
      "text/plain": [
       "<matplotlib.figure.Figure at 0x13c28a6d8>"
      ]
     },
     "metadata": {},
     "output_type": "display_data"
    }
   ],
   "source": [
    "df.hist(bins=200)"
   ]
  },
  {
   "cell_type": "code",
   "execution_count": 28,
   "metadata": {},
   "outputs": [
    {
     "data": {
      "text/plain": [
       "'Total Records 124,174'"
      ]
     },
     "metadata": {},
     "output_type": "display_data"
    },
    {
     "data": {
      "text/plain": [
       "'Number of unique values for source_id: 1,000'"
      ]
     },
     "metadata": {},
     "output_type": "display_data"
    },
    {
     "data": {
      "text/plain": [
       "'Number of unique values for transit_id: 44,228'"
      ]
     },
     "metadata": {},
     "output_type": "display_data"
    },
    {
     "data": {
      "text/plain": [
       "'Number of unique values for band: 3'"
      ]
     },
     "metadata": {},
     "output_type": "display_data"
    },
    {
     "data": {
      "text/plain": [
       "'Number of unique values for time: 124,077'"
      ]
     },
     "metadata": {},
     "output_type": "display_data"
    },
    {
     "data": {
      "text/plain": [
       "'Number of unique values for mag: 124,174'"
      ]
     },
     "metadata": {},
     "output_type": "display_data"
    },
    {
     "data": {
      "text/plain": [
       "'Number of unique values for flux: 124,174'"
      ]
     },
     "metadata": {},
     "output_type": "display_data"
    },
    {
     "data": {
      "text/plain": [
       "'Number of unique values for flux_error: 124,174'"
      ]
     },
     "metadata": {},
     "output_type": "display_data"
    },
    {
     "data": {
      "text/plain": [
       "'Number of unique values for flux_over_error: 124,006'"
      ]
     },
     "metadata": {},
     "output_type": "display_data"
    },
    {
     "data": {
      "text/plain": [
       "'Number of unique values for rejected_by_photometry: 1'"
      ]
     },
     "metadata": {},
     "output_type": "display_data"
    },
    {
     "data": {
      "text/plain": [
       "'Number of unique values for rejected_by_variability: 2'"
      ]
     },
     "metadata": {},
     "output_type": "display_data"
    },
    {
     "data": {
      "text/plain": [
       "'Number of unique values for other_flags: 467'"
      ]
     },
     "metadata": {},
     "output_type": "display_data"
    },
    {
     "data": {
      "text/plain": [
       "'Number of unique values for solution_id: 3'"
      ]
     },
     "metadata": {},
     "output_type": "display_data"
    }
   ],
   "source": [
    "display(\"Total Records {:,}\".format(len(df)))\n",
    "for column in df.columns.values:\n",
    "    unique_vals(df, column)"
   ]
  },
  {
   "cell_type": "code",
   "execution_count": 35,
   "metadata": {},
   "outputs": [
    {
     "data": {
      "text/html": [
       "<div>\n",
       "<style scoped>\n",
       "    .dataframe tbody tr th:only-of-type {\n",
       "        vertical-align: middle;\n",
       "    }\n",
       "\n",
       "    .dataframe tbody tr th {\n",
       "        vertical-align: top;\n",
       "    }\n",
       "\n",
       "    .dataframe thead th {\n",
       "        text-align: right;\n",
       "    }\n",
       "</style>\n",
       "<table border=\"1\" class=\"dataframe\">\n",
       "  <thead>\n",
       "    <tr style=\"text-align: right;\">\n",
       "      <th></th>\n",
       "      <th>solution_id</th>\n",
       "      <th>source_id</th>\n",
       "      <th>observation_id</th>\n",
       "      <th>number_mp</th>\n",
       "      <th>epoch</th>\n",
       "      <th>epoch_err</th>\n",
       "      <th>epoch_utc</th>\n",
       "      <th>ra</th>\n",
       "      <th>dec</th>\n",
       "      <th>ra_error_systematic</th>\n",
       "      <th>...</th>\n",
       "      <th>g_flux</th>\n",
       "      <th>g_flux_error</th>\n",
       "      <th>x_gaia</th>\n",
       "      <th>y_gaia</th>\n",
       "      <th>z_gaia</th>\n",
       "      <th>vx_gaia</th>\n",
       "      <th>vy_gaia</th>\n",
       "      <th>vz_gaia</th>\n",
       "      <th>position_angle_scan</th>\n",
       "      <th>level_of_confidence</th>\n",
       "    </tr>\n",
       "  </thead>\n",
       "  <tbody>\n",
       "    <tr>\n",
       "      <th>count</th>\n",
       "      <td>5.460200e+05</td>\n",
       "      <td>5.460200e+05</td>\n",
       "      <td>5.460200e+05</td>\n",
       "      <td>546020.000000</td>\n",
       "      <td>546020.000000</td>\n",
       "      <td>5.460200e+05</td>\n",
       "      <td>546020.000000</td>\n",
       "      <td>546020.000000</td>\n",
       "      <td>546020.000000</td>\n",
       "      <td>546020.000000</td>\n",
       "      <td>...</td>\n",
       "      <td>257622.000000</td>\n",
       "      <td>257622.000000</td>\n",
       "      <td>546020.000000</td>\n",
       "      <td>546020.000000</td>\n",
       "      <td>546020.000000</td>\n",
       "      <td>546020.000000</td>\n",
       "      <td>546020.000000</td>\n",
       "      <td>546020.000000</td>\n",
       "      <td>546020.000000</td>\n",
       "      <td>546020.0</td>\n",
       "    </tr>\n",
       "    <tr>\n",
       "      <th>mean</th>\n",
       "      <td>4.427920e+18</td>\n",
       "      <td>-4.284793e+09</td>\n",
       "      <td>3.410054e+17</td>\n",
       "      <td>17396.387804</td>\n",
       "      <td>2013.534736</td>\n",
       "      <td>1.137500e-08</td>\n",
       "      <td>2013.533735</td>\n",
       "      <td>175.563617</td>\n",
       "      <td>-1.035007</td>\n",
       "      <td>8.736598</td>\n",
       "      <td>...</td>\n",
       "      <td>1265.344112</td>\n",
       "      <td>10.830621</td>\n",
       "      <td>-0.020702</td>\n",
       "      <td>0.086104</td>\n",
       "      <td>0.037162</td>\n",
       "      <td>-0.002015</td>\n",
       "      <td>-0.000469</td>\n",
       "      <td>-0.000203</td>\n",
       "      <td>183.662748</td>\n",
       "      <td>0.0</td>\n",
       "    </tr>\n",
       "    <tr>\n",
       "      <th>std</th>\n",
       "      <td>4.729553e+07</td>\n",
       "      <td>4.298489e+04</td>\n",
       "      <td>1.032774e+17</td>\n",
       "      <td>4298.489071</td>\n",
       "      <td>186.771939</td>\n",
       "      <td>6.823750e-20</td>\n",
       "      <td>186.771931</td>\n",
       "      <td>102.890222</td>\n",
       "      <td>18.527389</td>\n",
       "      <td>0.449137</td>\n",
       "      <td>...</td>\n",
       "      <td>1277.095245</td>\n",
       "      <td>16.056218</td>\n",
       "      <td>0.739365</td>\n",
       "      <td>0.622296</td>\n",
       "      <td>0.269603</td>\n",
       "      <td>0.011655</td>\n",
       "      <td>0.011714</td>\n",
       "      <td>0.005076</td>\n",
       "      <td>111.368211</td>\n",
       "      <td>0.0</td>\n",
       "    </tr>\n",
       "    <tr>\n",
       "      <th>min</th>\n",
       "      <td>4.427920e+18</td>\n",
       "      <td>-4.284858e+09</td>\n",
       "      <td>1.551379e+17</td>\n",
       "      <td>10935.000000</td>\n",
       "      <td>1677.402486</td>\n",
       "      <td>1.137500e-08</td>\n",
       "      <td>1677.401496</td>\n",
       "      <td>0.002744</td>\n",
       "      <td>-77.324330</td>\n",
       "      <td>4.137129</td>\n",
       "      <td>...</td>\n",
       "      <td>125.775472</td>\n",
       "      <td>1.375691</td>\n",
       "      <td>-1.002202</td>\n",
       "      <td>-0.941662</td>\n",
       "      <td>-0.409774</td>\n",
       "      <td>-0.017591</td>\n",
       "      <td>-0.016062</td>\n",
       "      <td>-0.006961</td>\n",
       "      <td>0.001174</td>\n",
       "      <td>0.0</td>\n",
       "    </tr>\n",
       "    <tr>\n",
       "      <th>25%</th>\n",
       "      <td>4.427920e+18</td>\n",
       "      <td>-4.284831e+09</td>\n",
       "      <td>2.508729e+17</td>\n",
       "      <td>13657.000000</td>\n",
       "      <td>1850.534578</td>\n",
       "      <td>1.137500e-08</td>\n",
       "      <td>1850.533585</td>\n",
       "      <td>81.869384</td>\n",
       "      <td>-16.019087</td>\n",
       "      <td>8.528943</td>\n",
       "      <td>...</td>\n",
       "      <td>589.526310</td>\n",
       "      <td>6.034130</td>\n",
       "      <td>-0.767046</td>\n",
       "      <td>-0.507987</td>\n",
       "      <td>-0.219922</td>\n",
       "      <td>-0.013477</td>\n",
       "      <td>-0.012297</td>\n",
       "      <td>-0.005322</td>\n",
       "      <td>104.034913</td>\n",
       "      <td>0.0</td>\n",
       "    </tr>\n",
       "    <tr>\n",
       "      <th>50%</th>\n",
       "      <td>4.427920e+18</td>\n",
       "      <td>-4.284799e+09</td>\n",
       "      <td>3.461392e+17</td>\n",
       "      <td>16827.000000</td>\n",
       "      <td>2022.818795</td>\n",
       "      <td>1.137500e-08</td>\n",
       "      <td>2022.817788</td>\n",
       "      <td>182.295503</td>\n",
       "      <td>-1.636816</td>\n",
       "      <td>8.794766</td>\n",
       "      <td>...</td>\n",
       "      <td>931.733186</td>\n",
       "      <td>7.999725</td>\n",
       "      <td>-0.051898</td>\n",
       "      <td>0.130140</td>\n",
       "      <td>0.057409</td>\n",
       "      <td>-0.002731</td>\n",
       "      <td>-0.000927</td>\n",
       "      <td>-0.000401</td>\n",
       "      <td>185.726089</td>\n",
       "      <td>0.0</td>\n",
       "    </tr>\n",
       "    <tr>\n",
       "      <th>75%</th>\n",
       "      <td>4.427920e+18</td>\n",
       "      <td>-4.284761e+09</td>\n",
       "      <td>4.304929e+17</td>\n",
       "      <td>20624.000000</td>\n",
       "      <td>2175.368393</td>\n",
       "      <td>1.137500e-08</td>\n",
       "      <td>2175.367383</td>\n",
       "      <td>252.710584</td>\n",
       "      <td>13.736230</td>\n",
       "      <td>9.073043</td>\n",
       "      <td>...</td>\n",
       "      <td>1509.202479</td>\n",
       "      <td>10.965646</td>\n",
       "      <td>0.747599</td>\n",
       "      <td>0.696678</td>\n",
       "      <td>0.301527</td>\n",
       "      <td>0.009145</td>\n",
       "      <td>0.011669</td>\n",
       "      <td>0.005061</td>\n",
       "      <td>295.086325</td>\n",
       "      <td>0.0</td>\n",
       "    </tr>\n",
       "    <tr>\n",
       "      <th>max</th>\n",
       "      <td>4.427920e+18</td>\n",
       "      <td>-4.284702e+09</td>\n",
       "      <td>5.184712e+17</td>\n",
       "      <td>26514.000000</td>\n",
       "      <td>2334.472701</td>\n",
       "      <td>1.137500e-08</td>\n",
       "      <td>2334.471688</td>\n",
       "      <td>359.994651</td>\n",
       "      <td>80.890242</td>\n",
       "      <td>9.581884</td>\n",
       "      <td>...</td>\n",
       "      <td>35992.771808</td>\n",
       "      <td>1313.436369</td>\n",
       "      <td>1.016499</td>\n",
       "      <td>0.913987</td>\n",
       "      <td>0.394691</td>\n",
       "      <td>0.017031</td>\n",
       "      <td>0.015953</td>\n",
       "      <td>0.006917</td>\n",
       "      <td>359.998390</td>\n",
       "      <td>0.0</td>\n",
       "    </tr>\n",
       "  </tbody>\n",
       "</table>\n",
       "<p>8 rows × 26 columns</p>\n",
       "</div>"
      ],
      "text/plain": [
       "        solution_id     source_id  observation_id      number_mp  \\\n",
       "count  5.460200e+05  5.460200e+05    5.460200e+05  546020.000000   \n",
       "mean   4.427920e+18 -4.284793e+09    3.410054e+17   17396.387804   \n",
       "std    4.729553e+07  4.298489e+04    1.032774e+17    4298.489071   \n",
       "min    4.427920e+18 -4.284858e+09    1.551379e+17   10935.000000   \n",
       "25%    4.427920e+18 -4.284831e+09    2.508729e+17   13657.000000   \n",
       "50%    4.427920e+18 -4.284799e+09    3.461392e+17   16827.000000   \n",
       "75%    4.427920e+18 -4.284761e+09    4.304929e+17   20624.000000   \n",
       "max    4.427920e+18 -4.284702e+09    5.184712e+17   26514.000000   \n",
       "\n",
       "               epoch     epoch_err      epoch_utc             ra  \\\n",
       "count  546020.000000  5.460200e+05  546020.000000  546020.000000   \n",
       "mean     2013.534736  1.137500e-08    2013.533735     175.563617   \n",
       "std       186.771939  6.823750e-20     186.771931     102.890222   \n",
       "min      1677.402486  1.137500e-08    1677.401496       0.002744   \n",
       "25%      1850.534578  1.137500e-08    1850.533585      81.869384   \n",
       "50%      2022.818795  1.137500e-08    2022.817788     182.295503   \n",
       "75%      2175.368393  1.137500e-08    2175.367383     252.710584   \n",
       "max      2334.472701  1.137500e-08    2334.471688     359.994651   \n",
       "\n",
       "                 dec  ra_error_systematic         ...                  g_flux  \\\n",
       "count  546020.000000        546020.000000         ...           257622.000000   \n",
       "mean       -1.035007             8.736598         ...             1265.344112   \n",
       "std        18.527389             0.449137         ...             1277.095245   \n",
       "min       -77.324330             4.137129         ...              125.775472   \n",
       "25%       -16.019087             8.528943         ...              589.526310   \n",
       "50%        -1.636816             8.794766         ...              931.733186   \n",
       "75%        13.736230             9.073043         ...             1509.202479   \n",
       "max        80.890242             9.581884         ...            35992.771808   \n",
       "\n",
       "        g_flux_error         x_gaia         y_gaia         z_gaia  \\\n",
       "count  257622.000000  546020.000000  546020.000000  546020.000000   \n",
       "mean       10.830621      -0.020702       0.086104       0.037162   \n",
       "std        16.056218       0.739365       0.622296       0.269603   \n",
       "min         1.375691      -1.002202      -0.941662      -0.409774   \n",
       "25%         6.034130      -0.767046      -0.507987      -0.219922   \n",
       "50%         7.999725      -0.051898       0.130140       0.057409   \n",
       "75%        10.965646       0.747599       0.696678       0.301527   \n",
       "max      1313.436369       1.016499       0.913987       0.394691   \n",
       "\n",
       "             vx_gaia        vy_gaia        vz_gaia  position_angle_scan  \\\n",
       "count  546020.000000  546020.000000  546020.000000        546020.000000   \n",
       "mean       -0.002015      -0.000469      -0.000203           183.662748   \n",
       "std         0.011655       0.011714       0.005076           111.368211   \n",
       "min        -0.017591      -0.016062      -0.006961             0.001174   \n",
       "25%        -0.013477      -0.012297      -0.005322           104.034913   \n",
       "50%        -0.002731      -0.000927      -0.000401           185.726089   \n",
       "75%         0.009145       0.011669       0.005061           295.086325   \n",
       "max         0.017031       0.015953       0.006917           359.998390   \n",
       "\n",
       "       level_of_confidence  \n",
       "count             546020.0  \n",
       "mean                   0.0  \n",
       "std                    0.0  \n",
       "min                    0.0  \n",
       "25%                    0.0  \n",
       "50%                    0.0  \n",
       "75%                    0.0  \n",
       "max                    0.0  \n",
       "\n",
       "[8 rows x 26 columns]"
      ]
     },
     "metadata": {},
     "output_type": "display_data"
    },
    {
     "data": {
      "text/html": [
       "<div>\n",
       "<style scoped>\n",
       "    .dataframe tbody tr th:only-of-type {\n",
       "        vertical-align: middle;\n",
       "    }\n",
       "\n",
       "    .dataframe tbody tr th {\n",
       "        vertical-align: top;\n",
       "    }\n",
       "\n",
       "    .dataframe thead th {\n",
       "        text-align: right;\n",
       "    }\n",
       "</style>\n",
       "<table border=\"1\" class=\"dataframe\">\n",
       "  <thead>\n",
       "    <tr style=\"text-align: right;\">\n",
       "      <th></th>\n",
       "      <th>solution_id</th>\n",
       "      <th>source_id</th>\n",
       "      <th>observation_id</th>\n",
       "      <th>number_mp</th>\n",
       "      <th>epoch</th>\n",
       "      <th>epoch_err</th>\n",
       "      <th>epoch_utc</th>\n",
       "      <th>ra</th>\n",
       "      <th>dec</th>\n",
       "      <th>ra_error_systematic</th>\n",
       "      <th>...</th>\n",
       "      <th>g_flux</th>\n",
       "      <th>g_flux_error</th>\n",
       "      <th>x_gaia</th>\n",
       "      <th>y_gaia</th>\n",
       "      <th>z_gaia</th>\n",
       "      <th>vx_gaia</th>\n",
       "      <th>vy_gaia</th>\n",
       "      <th>vz_gaia</th>\n",
       "      <th>position_angle_scan</th>\n",
       "      <th>level_of_confidence</th>\n",
       "    </tr>\n",
       "  </thead>\n",
       "  <tbody>\n",
       "    <tr>\n",
       "      <th>0</th>\n",
       "      <td>4427920383700574337</td>\n",
       "      <td>-4284857946</td>\n",
       "      <td>234945901806717281</td>\n",
       "      <td>10935</td>\n",
       "      <td>1821.731279</td>\n",
       "      <td>1.137500e-08</td>\n",
       "      <td>1821.730286</td>\n",
       "      <td>225.080162</td>\n",
       "      <td>-2.950917</td>\n",
       "      <td>8.479046</td>\n",
       "      <td>...</td>\n",
       "      <td>NaN</td>\n",
       "      <td>NaN</td>\n",
       "      <td>-0.095709</td>\n",
       "      <td>0.907185</td>\n",
       "      <td>0.391817</td>\n",
       "      <td>-0.017503</td>\n",
       "      <td>-0.001629</td>\n",
       "      <td>-0.000698</td>\n",
       "      <td>235.397417</td>\n",
       "      <td>0</td>\n",
       "    </tr>\n",
       "    <tr>\n",
       "      <th>1</th>\n",
       "      <td>4427920383700574337</td>\n",
       "      <td>-4284857946</td>\n",
       "      <td>234945901806717282</td>\n",
       "      <td>10935</td>\n",
       "      <td>1821.731335</td>\n",
       "      <td>1.137500e-08</td>\n",
       "      <td>1821.730342</td>\n",
       "      <td>225.080173</td>\n",
       "      <td>-2.950911</td>\n",
       "      <td>8.479047</td>\n",
       "      <td>...</td>\n",
       "      <td>NaN</td>\n",
       "      <td>NaN</td>\n",
       "      <td>-0.095710</td>\n",
       "      <td>0.907185</td>\n",
       "      <td>0.391817</td>\n",
       "      <td>-0.017503</td>\n",
       "      <td>-0.001629</td>\n",
       "      <td>-0.000698</td>\n",
       "      <td>235.397226</td>\n",
       "      <td>0</td>\n",
       "    </tr>\n",
       "    <tr>\n",
       "      <th>2</th>\n",
       "      <td>4427920383700574337</td>\n",
       "      <td>-4284857946</td>\n",
       "      <td>234945901806717283</td>\n",
       "      <td>10935</td>\n",
       "      <td>1821.731391</td>\n",
       "      <td>1.137500e-08</td>\n",
       "      <td>1821.730398</td>\n",
       "      <td>225.080186</td>\n",
       "      <td>-2.950909</td>\n",
       "      <td>8.479048</td>\n",
       "      <td>...</td>\n",
       "      <td>NaN</td>\n",
       "      <td>NaN</td>\n",
       "      <td>-0.095711</td>\n",
       "      <td>0.907184</td>\n",
       "      <td>0.391817</td>\n",
       "      <td>-0.017503</td>\n",
       "      <td>-0.001629</td>\n",
       "      <td>-0.000698</td>\n",
       "      <td>235.397034</td>\n",
       "      <td>0</td>\n",
       "    </tr>\n",
       "    <tr>\n",
       "      <th>3</th>\n",
       "      <td>4427920383700574337</td>\n",
       "      <td>-4284857946</td>\n",
       "      <td>234945901806717284</td>\n",
       "      <td>10935</td>\n",
       "      <td>1821.731447</td>\n",
       "      <td>1.137500e-08</td>\n",
       "      <td>1821.730455</td>\n",
       "      <td>225.080200</td>\n",
       "      <td>-2.950906</td>\n",
       "      <td>8.479050</td>\n",
       "      <td>...</td>\n",
       "      <td>NaN</td>\n",
       "      <td>NaN</td>\n",
       "      <td>-0.095712</td>\n",
       "      <td>0.907184</td>\n",
       "      <td>0.391817</td>\n",
       "      <td>-0.017503</td>\n",
       "      <td>-0.001629</td>\n",
       "      <td>-0.000698</td>\n",
       "      <td>235.396843</td>\n",
       "      <td>0</td>\n",
       "    </tr>\n",
       "    <tr>\n",
       "      <th>4</th>\n",
       "      <td>4427920383700574337</td>\n",
       "      <td>-4284857946</td>\n",
       "      <td>234945901806717285</td>\n",
       "      <td>10935</td>\n",
       "      <td>1821.731504</td>\n",
       "      <td>1.137500e-08</td>\n",
       "      <td>1821.730511</td>\n",
       "      <td>225.080217</td>\n",
       "      <td>-2.950904</td>\n",
       "      <td>8.479051</td>\n",
       "      <td>...</td>\n",
       "      <td>NaN</td>\n",
       "      <td>NaN</td>\n",
       "      <td>-0.095713</td>\n",
       "      <td>0.907184</td>\n",
       "      <td>0.391817</td>\n",
       "      <td>-0.017503</td>\n",
       "      <td>-0.001629</td>\n",
       "      <td>-0.000698</td>\n",
       "      <td>235.396652</td>\n",
       "      <td>0</td>\n",
       "    </tr>\n",
       "  </tbody>\n",
       "</table>\n",
       "<p>5 rows × 26 columns</p>\n",
       "</div>"
      ],
      "text/plain": [
       "           solution_id   source_id      observation_id  number_mp  \\\n",
       "0  4427920383700574337 -4284857946  234945901806717281      10935   \n",
       "1  4427920383700574337 -4284857946  234945901806717282      10935   \n",
       "2  4427920383700574337 -4284857946  234945901806717283      10935   \n",
       "3  4427920383700574337 -4284857946  234945901806717284      10935   \n",
       "4  4427920383700574337 -4284857946  234945901806717285      10935   \n",
       "\n",
       "         epoch     epoch_err    epoch_utc          ra       dec  \\\n",
       "0  1821.731279  1.137500e-08  1821.730286  225.080162 -2.950917   \n",
       "1  1821.731335  1.137500e-08  1821.730342  225.080173 -2.950911   \n",
       "2  1821.731391  1.137500e-08  1821.730398  225.080186 -2.950909   \n",
       "3  1821.731447  1.137500e-08  1821.730455  225.080200 -2.950906   \n",
       "4  1821.731504  1.137500e-08  1821.730511  225.080217 -2.950904   \n",
       "\n",
       "   ra_error_systematic         ...           g_flux  g_flux_error    x_gaia  \\\n",
       "0             8.479046         ...              NaN           NaN -0.095709   \n",
       "1             8.479047         ...              NaN           NaN -0.095710   \n",
       "2             8.479048         ...              NaN           NaN -0.095711   \n",
       "3             8.479050         ...              NaN           NaN -0.095712   \n",
       "4             8.479051         ...              NaN           NaN -0.095713   \n",
       "\n",
       "     y_gaia    z_gaia   vx_gaia   vy_gaia   vz_gaia  position_angle_scan  \\\n",
       "0  0.907185  0.391817 -0.017503 -0.001629 -0.000698           235.397417   \n",
       "1  0.907185  0.391817 -0.017503 -0.001629 -0.000698           235.397226   \n",
       "2  0.907184  0.391817 -0.017503 -0.001629 -0.000698           235.397034   \n",
       "3  0.907184  0.391817 -0.017503 -0.001629 -0.000698           235.396843   \n",
       "4  0.907184  0.391817 -0.017503 -0.001629 -0.000698           235.396652   \n",
       "\n",
       "   level_of_confidence  \n",
       "0                    0  \n",
       "1                    0  \n",
       "2                    0  \n",
       "3                    0  \n",
       "4                    0  \n",
       "\n",
       "[5 rows x 26 columns]"
      ]
     },
     "metadata": {},
     "output_type": "display_data"
    }
   ],
   "source": [
    "df = stats(\"SsoObservation_-4284857946_-4284702156.csv\")\n"
   ]
  },
  {
   "cell_type": "code",
   "execution_count": 36,
   "metadata": {},
   "outputs": [
    {
     "name": "stderr",
     "output_type": "stream",
     "text": [
      "/anaconda3/lib/python3.6/site-packages/numpy/lib/function_base.py:731: RuntimeWarning: divide by zero encountered in double_scalars\n",
      "  norm = bins / (mx - mn)\n",
      "/anaconda3/lib/python3.6/site-packages/numpy/lib/function_base.py:756: RuntimeWarning: invalid value encountered in multiply\n",
      "  tmp_a *= norm\n"
     ]
    },
    {
     "ename": "IndexError",
     "evalue": "index -9223372036854775808 is out of bounds for axis 1 with size 201",
     "output_type": "error",
     "traceback": [
      "\u001b[0;31m---------------------------------------------------------------------------\u001b[0m",
      "\u001b[0;31mIndexError\u001b[0m                                Traceback (most recent call last)",
      "\u001b[0;32m<ipython-input-36-bc2bc99b15a5>\u001b[0m in \u001b[0;36m<module>\u001b[0;34m()\u001b[0m\n\u001b[0;32m----> 1\u001b[0;31m \u001b[0mdf\u001b[0m\u001b[0;34m.\u001b[0m\u001b[0mhist\u001b[0m\u001b[0;34m(\u001b[0m\u001b[0mbins\u001b[0m\u001b[0;34m=\u001b[0m\u001b[0;36m200\u001b[0m\u001b[0;34m)\u001b[0m\u001b[0;34m\u001b[0m\u001b[0m\n\u001b[0m",
      "\u001b[0;32m/anaconda3/lib/python3.6/site-packages/pandas/plotting/_core.py\u001b[0m in \u001b[0;36mhist_frame\u001b[0;34m(data, column, by, grid, xlabelsize, xrot, ylabelsize, yrot, ax, sharex, sharey, figsize, layout, bins, **kwds)\u001b[0m\n\u001b[1;32m   2411\u001b[0m     \u001b[0;32mfor\u001b[0m \u001b[0mi\u001b[0m\u001b[0;34m,\u001b[0m \u001b[0mcol\u001b[0m \u001b[0;32min\u001b[0m \u001b[0menumerate\u001b[0m\u001b[0;34m(\u001b[0m\u001b[0mcom\u001b[0m\u001b[0;34m.\u001b[0m\u001b[0m_try_sort\u001b[0m\u001b[0;34m(\u001b[0m\u001b[0mdata\u001b[0m\u001b[0;34m.\u001b[0m\u001b[0mcolumns\u001b[0m\u001b[0;34m)\u001b[0m\u001b[0;34m)\u001b[0m\u001b[0;34m:\u001b[0m\u001b[0;34m\u001b[0m\u001b[0m\n\u001b[1;32m   2412\u001b[0m         \u001b[0max\u001b[0m \u001b[0;34m=\u001b[0m \u001b[0m_axes\u001b[0m\u001b[0;34m[\u001b[0m\u001b[0mi\u001b[0m\u001b[0;34m]\u001b[0m\u001b[0;34m\u001b[0m\u001b[0m\n\u001b[0;32m-> 2413\u001b[0;31m         \u001b[0max\u001b[0m\u001b[0;34m.\u001b[0m\u001b[0mhist\u001b[0m\u001b[0;34m(\u001b[0m\u001b[0mdata\u001b[0m\u001b[0;34m[\u001b[0m\u001b[0mcol\u001b[0m\u001b[0;34m]\u001b[0m\u001b[0;34m.\u001b[0m\u001b[0mdropna\u001b[0m\u001b[0;34m(\u001b[0m\u001b[0;34m)\u001b[0m\u001b[0;34m.\u001b[0m\u001b[0mvalues\u001b[0m\u001b[0;34m,\u001b[0m \u001b[0mbins\u001b[0m\u001b[0;34m=\u001b[0m\u001b[0mbins\u001b[0m\u001b[0;34m,\u001b[0m \u001b[0;34m**\u001b[0m\u001b[0mkwds\u001b[0m\u001b[0;34m)\u001b[0m\u001b[0;34m\u001b[0m\u001b[0m\n\u001b[0m\u001b[1;32m   2414\u001b[0m         \u001b[0max\u001b[0m\u001b[0;34m.\u001b[0m\u001b[0mset_title\u001b[0m\u001b[0;34m(\u001b[0m\u001b[0mcol\u001b[0m\u001b[0;34m)\u001b[0m\u001b[0;34m\u001b[0m\u001b[0m\n\u001b[1;32m   2415\u001b[0m         \u001b[0max\u001b[0m\u001b[0;34m.\u001b[0m\u001b[0mgrid\u001b[0m\u001b[0;34m(\u001b[0m\u001b[0mgrid\u001b[0m\u001b[0;34m)\u001b[0m\u001b[0;34m\u001b[0m\u001b[0m\n",
      "\u001b[0;32m/anaconda3/lib/python3.6/site-packages/matplotlib/__init__.py\u001b[0m in \u001b[0;36minner\u001b[0;34m(ax, *args, **kwargs)\u001b[0m\n\u001b[1;32m   1708\u001b[0m                     warnings.warn(msg % (label_namer, func.__name__),\n\u001b[1;32m   1709\u001b[0m                                   RuntimeWarning, stacklevel=2)\n\u001b[0;32m-> 1710\u001b[0;31m             \u001b[0;32mreturn\u001b[0m \u001b[0mfunc\u001b[0m\u001b[0;34m(\u001b[0m\u001b[0max\u001b[0m\u001b[0;34m,\u001b[0m \u001b[0;34m*\u001b[0m\u001b[0margs\u001b[0m\u001b[0;34m,\u001b[0m \u001b[0;34m**\u001b[0m\u001b[0mkwargs\u001b[0m\u001b[0;34m)\u001b[0m\u001b[0;34m\u001b[0m\u001b[0m\n\u001b[0m\u001b[1;32m   1711\u001b[0m         \u001b[0mpre_doc\u001b[0m \u001b[0;34m=\u001b[0m \u001b[0minner\u001b[0m\u001b[0;34m.\u001b[0m\u001b[0m__doc__\u001b[0m\u001b[0;34m\u001b[0m\u001b[0m\n\u001b[1;32m   1712\u001b[0m         \u001b[0;32mif\u001b[0m \u001b[0mpre_doc\u001b[0m \u001b[0;32mis\u001b[0m \u001b[0;32mNone\u001b[0m\u001b[0;34m:\u001b[0m\u001b[0;34m\u001b[0m\u001b[0m\n",
      "\u001b[0;32m/anaconda3/lib/python3.6/site-packages/matplotlib/axes/_axes.py\u001b[0m in \u001b[0;36mhist\u001b[0;34m(***failed resolving arguments***)\u001b[0m\n\u001b[1;32m   6205\u001b[0m             \u001b[0;31m# this will automatically overwrite bins,\u001b[0m\u001b[0;34m\u001b[0m\u001b[0;34m\u001b[0m\u001b[0m\n\u001b[1;32m   6206\u001b[0m             \u001b[0;31m# so that each histogram uses the same bins\u001b[0m\u001b[0;34m\u001b[0m\u001b[0;34m\u001b[0m\u001b[0m\n\u001b[0;32m-> 6207\u001b[0;31m             \u001b[0mm\u001b[0m\u001b[0;34m,\u001b[0m \u001b[0mbins\u001b[0m \u001b[0;34m=\u001b[0m \u001b[0mnp\u001b[0m\u001b[0;34m.\u001b[0m\u001b[0mhistogram\u001b[0m\u001b[0;34m(\u001b[0m\u001b[0mx\u001b[0m\u001b[0;34m[\u001b[0m\u001b[0mi\u001b[0m\u001b[0;34m]\u001b[0m\u001b[0;34m,\u001b[0m \u001b[0mbins\u001b[0m\u001b[0;34m,\u001b[0m \u001b[0mweights\u001b[0m\u001b[0;34m=\u001b[0m\u001b[0mw\u001b[0m\u001b[0;34m[\u001b[0m\u001b[0mi\u001b[0m\u001b[0;34m]\u001b[0m\u001b[0;34m,\u001b[0m \u001b[0;34m**\u001b[0m\u001b[0mhist_kwargs\u001b[0m\u001b[0;34m)\u001b[0m\u001b[0;34m\u001b[0m\u001b[0m\n\u001b[0m\u001b[1;32m   6208\u001b[0m             \u001b[0mm\u001b[0m \u001b[0;34m=\u001b[0m \u001b[0mm\u001b[0m\u001b[0;34m.\u001b[0m\u001b[0mastype\u001b[0m\u001b[0;34m(\u001b[0m\u001b[0mfloat\u001b[0m\u001b[0;34m)\u001b[0m  \u001b[0;31m# causes problems later if it's an int\u001b[0m\u001b[0;34m\u001b[0m\u001b[0m\n\u001b[1;32m   6209\u001b[0m             \u001b[0;32mif\u001b[0m \u001b[0mmlast\u001b[0m \u001b[0;32mis\u001b[0m \u001b[0;32mNone\u001b[0m\u001b[0;34m:\u001b[0m\u001b[0;34m\u001b[0m\u001b[0m\n",
      "\u001b[0;32m/anaconda3/lib/python3.6/site-packages/numpy/lib/function_base.py\u001b[0m in \u001b[0;36mhistogram\u001b[0;34m(a, bins, range, normed, weights, density)\u001b[0m\n\u001b[1;32m    763\u001b[0m             \u001b[0;31m# The index computation is not guaranteed to give exactly\u001b[0m\u001b[0;34m\u001b[0m\u001b[0;34m\u001b[0m\u001b[0m\n\u001b[1;32m    764\u001b[0m             \u001b[0;31m# consistent results within ~1 ULP of the bin edges.\u001b[0m\u001b[0;34m\u001b[0m\u001b[0;34m\u001b[0m\u001b[0m\n\u001b[0;32m--> 765\u001b[0;31m             \u001b[0mdecrement\u001b[0m \u001b[0;34m=\u001b[0m \u001b[0mtmp_a_data\u001b[0m \u001b[0;34m<\u001b[0m \u001b[0mbin_edges\u001b[0m\u001b[0;34m[\u001b[0m\u001b[0mindices\u001b[0m\u001b[0;34m]\u001b[0m\u001b[0;34m\u001b[0m\u001b[0m\n\u001b[0m\u001b[1;32m    766\u001b[0m             \u001b[0mindices\u001b[0m\u001b[0;34m[\u001b[0m\u001b[0mdecrement\u001b[0m\u001b[0;34m]\u001b[0m \u001b[0;34m-=\u001b[0m \u001b[0;36m1\u001b[0m\u001b[0;34m\u001b[0m\u001b[0m\n\u001b[1;32m    767\u001b[0m             \u001b[0;31m# The last bin includes the right edge. The other bins do not.\u001b[0m\u001b[0;34m\u001b[0m\u001b[0;34m\u001b[0m\u001b[0m\n",
      "\u001b[0;31mIndexError\u001b[0m: index -9223372036854775808 is out of bounds for axis 1 with size 201"
     ]
    },
    {
     "data": {
      "image/png": "[encoded data removed]",
      "text/plain": [
       "<matplotlib.figure.Figure at 0x11da0db00>"
      ]
     },
     "metadata": {},
     "output_type": "display_data"
    }
   ],
   "source": [
    "df.hist(bins=200)"
   ]
  },
  {
   "cell_type": "code",
   "execution_count": 37,
   "metadata": {},
   "outputs": [
    {
     "data": {
      "text/plain": [
       "'Total Records 546,020'"
      ]
     },
     "metadata": {},
     "output_type": "display_data"
    },
    {
     "data": {
      "text/plain": [
       "'Number of unique values for solution_id: 1'"
      ]
     },
     "metadata": {},
     "output_type": "display_data"
    },
    {
     "data": {
      "text/plain": [
       "'Number of unique values for source_id: 3,862'"
      ]
     },
     "metadata": {},
     "output_type": "display_data"
    },
    {
     "data": {
      "text/plain": [
       "'Number of unique values for observation_id: 546,020'"
      ]
     },
     "metadata": {},
     "output_type": "display_data"
    },
    {
     "data": {
      "text/plain": [
       "'Number of unique values for number_mp: 3,862'"
      ]
     },
     "metadata": {},
     "output_type": "display_data"
    },
    {
     "data": {
      "text/plain": [
       "'Number of unique values for epoch: 546,020'"
      ]
     },
     "metadata": {},
     "output_type": "display_data"
    },
    {
     "data": {
      "text/plain": [
       "'Number of unique values for epoch_err: 1'"
      ]
     },
     "metadata": {},
     "output_type": "display_data"
    },
    {
     "data": {
      "text/plain": [
       "'Number of unique values for epoch_utc: 546,020'"
      ]
     },
     "metadata": {},
     "output_type": "display_data"
    },
    {
     "data": {
      "text/plain": [
       "'Number of unique values for ra: 546,020'"
      ]
     },
     "metadata": {},
     "output_type": "display_data"
    },
    {
     "data": {
      "text/plain": [
       "'Number of unique values for dec: 546,020'"
      ]
     },
     "metadata": {},
     "output_type": "display_data"
    },
    {
     "data": {
      "text/plain": [
       "'Number of unique values for ra_error_systematic: 546,020'"
      ]
     },
     "metadata": {},
     "output_type": "display_data"
    },
    {
     "data": {
      "text/plain": [
       "'Number of unique values for dec_error_systematic: 546,020'"
      ]
     },
     "metadata": {},
     "output_type": "display_data"
    },
    {
     "data": {
      "text/plain": [
       "'Number of unique values for ra_dec_correlation_systematic: 546,020'"
      ]
     },
     "metadata": {},
     "output_type": "display_data"
    },
    {
     "data": {
      "text/plain": [
       "'Number of unique values for ra_error_random: 546,020'"
      ]
     },
     "metadata": {},
     "output_type": "display_data"
    },
    {
     "data": {
      "text/plain": [
       "'Number of unique values for dec_error_random: 546,020'"
      ]
     },
     "metadata": {},
     "output_type": "display_data"
    },
    {
     "data": {
      "text/plain": [
       "'Number of unique values for ra_dec_correlation_random: 546,019'"
      ]
     },
     "metadata": {},
     "output_type": "display_data"
    },
    {
     "data": {
      "text/plain": [
       "'Number of unique values for g_mag: 32,265'"
      ]
     },
     "metadata": {},
     "output_type": "display_data"
    },
    {
     "data": {
      "text/plain": [
       "'Number of unique values for g_flux: 32,265'"
      ]
     },
     "metadata": {},
     "output_type": "display_data"
    },
    {
     "data": {
      "text/plain": [
       "'Number of unique values for g_flux_error: 32,265'"
      ]
     },
     "metadata": {},
     "output_type": "display_data"
    },
    {
     "data": {
      "text/plain": [
       "'Number of unique values for x_gaia: 546,020'"
      ]
     },
     "metadata": {},
     "output_type": "display_data"
    },
    {
     "data": {
      "text/plain": [
       "'Number of unique values for y_gaia: 546,020'"
      ]
     },
     "metadata": {},
     "output_type": "display_data"
    },
    {
     "data": {
      "text/plain": [
       "'Number of unique values for z_gaia: 546,020'"
      ]
     },
     "metadata": {},
     "output_type": "display_data"
    },
    {
     "data": {
      "text/plain": [
       "'Number of unique values for vx_gaia: 546,020'"
      ]
     },
     "metadata": {},
     "output_type": "display_data"
    },
    {
     "data": {
      "text/plain": [
       "'Number of unique values for vy_gaia: 546,020'"
      ]
     },
     "metadata": {},
     "output_type": "display_data"
    },
    {
     "data": {
      "text/plain": [
       "'Number of unique values for vz_gaia: 546,020'"
      ]
     },
     "metadata": {},
     "output_type": "display_data"
    },
    {
     "data": {
      "text/plain": [
       "'Number of unique values for position_angle_scan: 546,020'"
      ]
     },
     "metadata": {},
     "output_type": "display_data"
    },
    {
     "data": {
      "text/plain": [
       "'Number of unique values for level_of_confidence: 1'"
      ]
     },
     "metadata": {},
     "output_type": "display_data"
    }
   ],
   "source": [
    "display(\"Total Records {:,}\".format(len(df)))\n",
    "for column in df.columns.values:\n",
    "    unique_vals(df, column)"
   ]
  },
  {
   "cell_type": "code",
   "execution_count": 38,
   "metadata": {},
   "outputs": [
    {
     "data": {
      "text/plain": [
       "<matplotlib.axes._subplots.AxesSubplot at 0x11e241f98>"
      ]
     },
     "execution_count": 38,
     "metadata": {},
     "output_type": "execute_result"
    },
    {
     "data": {
      "image/png": "[encoded data removed]",
      "text/plain": [
       "<matplotlib.figure.Figure at 0x11e1fc6d8>"
      ]
     },
     "metadata": {},
     "output_type": "display_data"
    }
   ],
   "source": [
    "df['ra_dec_correlation_systematic'].hist(bins=200)"
   ]
  },
  {
   "cell_type": "code",
   "execution_count": 32,
   "metadata": {},
   "outputs": [
    {
     "data": {
      "text/html": [
       "<div>\n",
       "<style scoped>\n",
       "    .dataframe tbody tr th:only-of-type {\n",
       "        vertical-align: middle;\n",
       "    }\n",
       "\n",
       "    .dataframe tbody tr th {\n",
       "        vertical-align: top;\n",
       "    }\n",
       "\n",
       "    .dataframe thead th {\n",
       "        text-align: right;\n",
       "    }\n",
       "</style>\n",
       "<table border=\"1\" class=\"dataframe\">\n",
       "  <thead>\n",
       "    <tr style=\"text-align: right;\">\n",
       "      <th></th>\n",
       "      <th>solution_id</th>\n",
       "      <th>source_id</th>\n",
       "      <th>pf</th>\n",
       "      <th>pf_error</th>\n",
       "      <th>p1_o</th>\n",
       "      <th>p1_o_error</th>\n",
       "      <th>p2_o</th>\n",
       "      <th>p2_o_error</th>\n",
       "      <th>p3_o</th>\n",
       "      <th>p3_o_error</th>\n",
       "      <th>...</th>\n",
       "      <th>phi21_g</th>\n",
       "      <th>phi21_g_error</th>\n",
       "      <th>phi31_g</th>\n",
       "      <th>phi31_g_error</th>\n",
       "      <th>num_clean_epochs_g</th>\n",
       "      <th>num_clean_epochs_bp</th>\n",
       "      <th>num_clean_epochs_rp</th>\n",
       "      <th>g_absorption</th>\n",
       "      <th>g_absorption_error</th>\n",
       "      <th>multi_mode_best_classification</th>\n",
       "    </tr>\n",
       "  </thead>\n",
       "  <tbody>\n",
       "    <tr>\n",
       "      <th>count</th>\n",
       "      <td>6.000000e+00</td>\n",
       "      <td>6.000000e+00</td>\n",
       "      <td>6.000000</td>\n",
       "      <td>6.000000</td>\n",
       "      <td>0.0</td>\n",
       "      <td>0.0</td>\n",
       "      <td>0.0</td>\n",
       "      <td>0.0</td>\n",
       "      <td>0.0</td>\n",
       "      <td>0.0</td>\n",
       "      <td>...</td>\n",
       "      <td>5.000000</td>\n",
       "      <td>5.000000</td>\n",
       "      <td>0.0</td>\n",
       "      <td>0.0</td>\n",
       "      <td>6.000000</td>\n",
       "      <td>6.000000</td>\n",
       "      <td>6.000000</td>\n",
       "      <td>0.0</td>\n",
       "      <td>0.0</td>\n",
       "      <td>0.0</td>\n",
       "    </tr>\n",
       "    <tr>\n",
       "      <th>mean</th>\n",
       "      <td>3.692956e+17</td>\n",
       "      <td>4.095022e+18</td>\n",
       "      <td>13.558579</td>\n",
       "      <td>0.000247</td>\n",
       "      <td>NaN</td>\n",
       "      <td>NaN</td>\n",
       "      <td>NaN</td>\n",
       "      <td>NaN</td>\n",
       "      <td>NaN</td>\n",
       "      <td>NaN</td>\n",
       "      <td>...</td>\n",
       "      <td>4.814180</td>\n",
       "      <td>0.007469</td>\n",
       "      <td>NaN</td>\n",
       "      <td>NaN</td>\n",
       "      <td>17.000000</td>\n",
       "      <td>15.000000</td>\n",
       "      <td>14.333333</td>\n",
       "      <td>NaN</td>\n",
       "      <td>NaN</td>\n",
       "      <td>NaN</td>\n",
       "    </tr>\n",
       "    <tr>\n",
       "      <th>std</th>\n",
       "      <td>0.000000e+00</td>\n",
       "      <td>2.063274e+16</td>\n",
       "      <td>12.842472</td>\n",
       "      <td>0.000311</td>\n",
       "      <td>NaN</td>\n",
       "      <td>NaN</td>\n",
       "      <td>NaN</td>\n",
       "      <td>NaN</td>\n",
       "      <td>NaN</td>\n",
       "      <td>NaN</td>\n",
       "      <td>...</td>\n",
       "      <td>0.833856</td>\n",
       "      <td>0.004612</td>\n",
       "      <td>NaN</td>\n",
       "      <td>NaN</td>\n",
       "      <td>2.097618</td>\n",
       "      <td>1.414214</td>\n",
       "      <td>1.966384</td>\n",
       "      <td>NaN</td>\n",
       "      <td>NaN</td>\n",
       "      <td>NaN</td>\n",
       "    </tr>\n",
       "    <tr>\n",
       "      <th>min</th>\n",
       "      <td>3.692956e+17</td>\n",
       "      <td>4.052922e+18</td>\n",
       "      <td>2.505668</td>\n",
       "      <td>0.000008</td>\n",
       "      <td>NaN</td>\n",
       "      <td>NaN</td>\n",
       "      <td>NaN</td>\n",
       "      <td>NaN</td>\n",
       "      <td>NaN</td>\n",
       "      <td>NaN</td>\n",
       "      <td>...</td>\n",
       "      <td>4.201451</td>\n",
       "      <td>0.001478</td>\n",
       "      <td>NaN</td>\n",
       "      <td>NaN</td>\n",
       "      <td>13.000000</td>\n",
       "      <td>13.000000</td>\n",
       "      <td>13.000000</td>\n",
       "      <td>NaN</td>\n",
       "      <td>NaN</td>\n",
       "      <td>NaN</td>\n",
       "    </tr>\n",
       "    <tr>\n",
       "      <th>25%</th>\n",
       "      <td>3.692956e+17</td>\n",
       "      <td>4.102627e+18</td>\n",
       "      <td>4.919796</td>\n",
       "      <td>0.000046</td>\n",
       "      <td>NaN</td>\n",
       "      <td>NaN</td>\n",
       "      <td>NaN</td>\n",
       "      <td>NaN</td>\n",
       "      <td>NaN</td>\n",
       "      <td>NaN</td>\n",
       "      <td>...</td>\n",
       "      <td>4.217878</td>\n",
       "      <td>0.004610</td>\n",
       "      <td>NaN</td>\n",
       "      <td>NaN</td>\n",
       "      <td>17.000000</td>\n",
       "      <td>14.250000</td>\n",
       "      <td>13.000000</td>\n",
       "      <td>NaN</td>\n",
       "      <td>NaN</td>\n",
       "      <td>NaN</td>\n",
       "    </tr>\n",
       "    <tr>\n",
       "      <th>50%</th>\n",
       "      <td>3.692956e+17</td>\n",
       "      <td>4.103537e+18</td>\n",
       "      <td>8.285208</td>\n",
       "      <td>0.000130</td>\n",
       "      <td>NaN</td>\n",
       "      <td>NaN</td>\n",
       "      <td>NaN</td>\n",
       "      <td>NaN</td>\n",
       "      <td>NaN</td>\n",
       "      <td>NaN</td>\n",
       "      <td>...</td>\n",
       "      <td>4.288930</td>\n",
       "      <td>0.008557</td>\n",
       "      <td>NaN</td>\n",
       "      <td>NaN</td>\n",
       "      <td>17.500000</td>\n",
       "      <td>15.000000</td>\n",
       "      <td>13.500000</td>\n",
       "      <td>NaN</td>\n",
       "      <td>NaN</td>\n",
       "      <td>NaN</td>\n",
       "    </tr>\n",
       "    <tr>\n",
       "      <th>75%</th>\n",
       "      <td>3.692956e+17</td>\n",
       "      <td>4.103752e+18</td>\n",
       "      <td>19.309869</td>\n",
       "      <td>0.000306</td>\n",
       "      <td>NaN</td>\n",
       "      <td>NaN</td>\n",
       "      <td>NaN</td>\n",
       "      <td>NaN</td>\n",
       "      <td>NaN</td>\n",
       "      <td>NaN</td>\n",
       "      <td>...</td>\n",
       "      <td>5.313561</td>\n",
       "      <td>0.009146</td>\n",
       "      <td>NaN</td>\n",
       "      <td>NaN</td>\n",
       "      <td>18.000000</td>\n",
       "      <td>15.750000</td>\n",
       "      <td>14.750000</td>\n",
       "      <td>NaN</td>\n",
       "      <td>NaN</td>\n",
       "      <td>NaN</td>\n",
       "    </tr>\n",
       "    <tr>\n",
       "      <th>max</th>\n",
       "      <td>3.692956e+17</td>\n",
       "      <td>4.103989e+18</td>\n",
       "      <td>35.492639</td>\n",
       "      <td>0.000829</td>\n",
       "      <td>NaN</td>\n",
       "      <td>NaN</td>\n",
       "      <td>NaN</td>\n",
       "      <td>NaN</td>\n",
       "      <td>NaN</td>\n",
       "      <td>NaN</td>\n",
       "      <td>...</td>\n",
       "      <td>6.049081</td>\n",
       "      <td>0.013554</td>\n",
       "      <td>NaN</td>\n",
       "      <td>NaN</td>\n",
       "      <td>19.000000</td>\n",
       "      <td>17.000000</td>\n",
       "      <td>18.000000</td>\n",
       "      <td>NaN</td>\n",
       "      <td>NaN</td>\n",
       "      <td>NaN</td>\n",
       "    </tr>\n",
       "  </tbody>\n",
       "</table>\n",
       "<p>8 rows × 44 columns</p>\n",
       "</div>"
      ],
      "text/plain": [
       "        solution_id     source_id         pf  pf_error  p1_o  p1_o_error  \\\n",
       "count  6.000000e+00  6.000000e+00   6.000000  6.000000   0.0         0.0   \n",
       "mean   3.692956e+17  4.095022e+18  13.558579  0.000247   NaN         NaN   \n",
       "std    0.000000e+00  2.063274e+16  12.842472  0.000311   NaN         NaN   \n",
       "min    3.692956e+17  4.052922e+18   2.505668  0.000008   NaN         NaN   \n",
       "25%    3.692956e+17  4.102627e+18   4.919796  0.000046   NaN         NaN   \n",
       "50%    3.692956e+17  4.103537e+18   8.285208  0.000130   NaN         NaN   \n",
       "75%    3.692956e+17  4.103752e+18  19.309869  0.000306   NaN         NaN   \n",
       "max    3.692956e+17  4.103989e+18  35.492639  0.000829   NaN         NaN   \n",
       "\n",
       "       p2_o  p2_o_error  p3_o  p3_o_error               ...                \\\n",
       "count   0.0         0.0   0.0         0.0               ...                 \n",
       "mean    NaN         NaN   NaN         NaN               ...                 \n",
       "std     NaN         NaN   NaN         NaN               ...                 \n",
       "min     NaN         NaN   NaN         NaN               ...                 \n",
       "25%     NaN         NaN   NaN         NaN               ...                 \n",
       "50%     NaN         NaN   NaN         NaN               ...                 \n",
       "75%     NaN         NaN   NaN         NaN               ...                 \n",
       "max     NaN         NaN   NaN         NaN               ...                 \n",
       "\n",
       "        phi21_g  phi21_g_error  phi31_g  phi31_g_error  num_clean_epochs_g  \\\n",
       "count  5.000000       5.000000      0.0            0.0            6.000000   \n",
       "mean   4.814180       0.007469      NaN            NaN           17.000000   \n",
       "std    0.833856       0.004612      NaN            NaN            2.097618   \n",
       "min    4.201451       0.001478      NaN            NaN           13.000000   \n",
       "25%    4.217878       0.004610      NaN            NaN           17.000000   \n",
       "50%    4.288930       0.008557      NaN            NaN           17.500000   \n",
       "75%    5.313561       0.009146      NaN            NaN           18.000000   \n",
       "max    6.049081       0.013554      NaN            NaN           19.000000   \n",
       "\n",
       "       num_clean_epochs_bp  num_clean_epochs_rp  g_absorption  \\\n",
       "count             6.000000             6.000000           0.0   \n",
       "mean             15.000000            14.333333           NaN   \n",
       "std               1.414214             1.966384           NaN   \n",
       "min              13.000000            13.000000           NaN   \n",
       "25%              14.250000            13.000000           NaN   \n",
       "50%              15.000000            13.500000           NaN   \n",
       "75%              15.750000            14.750000           NaN   \n",
       "max              17.000000            18.000000           NaN   \n",
       "\n",
       "       g_absorption_error  multi_mode_best_classification  \n",
       "count                 0.0                             0.0  \n",
       "mean                  NaN                             NaN  \n",
       "std                   NaN                             NaN  \n",
       "min                   NaN                             NaN  \n",
       "25%                   NaN                             NaN  \n",
       "50%                   NaN                             NaN  \n",
       "75%                   NaN                             NaN  \n",
       "max                   NaN                             NaN  \n",
       "\n",
       "[8 rows x 44 columns]"
      ]
     },
     "metadata": {},
     "output_type": "display_data"
    },
    {
     "data": {
      "text/html": [
       "<div>\n",
       "<style scoped>\n",
       "    .dataframe tbody tr th:only-of-type {\n",
       "        vertical-align: middle;\n",
       "    }\n",
       "\n",
       "    .dataframe tbody tr th {\n",
       "        vertical-align: top;\n",
       "    }\n",
       "\n",
       "    .dataframe thead th {\n",
       "        text-align: right;\n",
       "    }\n",
       "</style>\n",
       "<table border=\"1\" class=\"dataframe\">\n",
       "  <thead>\n",
       "    <tr style=\"text-align: right;\">\n",
       "      <th></th>\n",
       "      <th>solution_id</th>\n",
       "      <th>source_id</th>\n",
       "      <th>pf</th>\n",
       "      <th>pf_error</th>\n",
       "      <th>p1_o</th>\n",
       "      <th>p1_o_error</th>\n",
       "      <th>p2_o</th>\n",
       "      <th>p2_o_error</th>\n",
       "      <th>p3_o</th>\n",
       "      <th>p3_o_error</th>\n",
       "      <th>...</th>\n",
       "      <th>phi31_g_error</th>\n",
       "      <th>num_clean_epochs_g</th>\n",
       "      <th>num_clean_epochs_bp</th>\n",
       "      <th>num_clean_epochs_rp</th>\n",
       "      <th>g_absorption</th>\n",
       "      <th>g_absorption_error</th>\n",
       "      <th>type_best_classification</th>\n",
       "      <th>type2_best_sub_classification</th>\n",
       "      <th>mode_best_classification</th>\n",
       "      <th>multi_mode_best_classification</th>\n",
       "    </tr>\n",
       "  </thead>\n",
       "  <tbody>\n",
       "    <tr>\n",
       "      <th>0</th>\n",
       "      <td>369295551293819386</td>\n",
       "      <td>4052922352453886976</td>\n",
       "      <td>35.492639</td>\n",
       "      <td>0.000829</td>\n",
       "      <td>NaN</td>\n",
       "      <td>NaN</td>\n",
       "      <td>NaN</td>\n",
       "      <td>NaN</td>\n",
       "      <td>NaN</td>\n",
       "      <td>NaN</td>\n",
       "      <td>...</td>\n",
       "      <td>NaN</td>\n",
       "      <td>19</td>\n",
       "      <td>15</td>\n",
       "      <td>14</td>\n",
       "      <td>NaN</td>\n",
       "      <td>NaN</td>\n",
       "      <td>DCEP</td>\n",
       "      <td>NaN</td>\n",
       "      <td>FUNDAMENTAL</td>\n",
       "      <td>NaN</td>\n",
       "    </tr>\n",
       "    <tr>\n",
       "      <th>1</th>\n",
       "      <td>369295551293819386</td>\n",
       "      <td>4103564728516764032</td>\n",
       "      <td>22.071996</td>\n",
       "      <td>0.000204</td>\n",
       "      <td>NaN</td>\n",
       "      <td>NaN</td>\n",
       "      <td>NaN</td>\n",
       "      <td>NaN</td>\n",
       "      <td>NaN</td>\n",
       "      <td>NaN</td>\n",
       "      <td>...</td>\n",
       "      <td>NaN</td>\n",
       "      <td>17</td>\n",
       "      <td>15</td>\n",
       "      <td>13</td>\n",
       "      <td>NaN</td>\n",
       "      <td>NaN</td>\n",
       "      <td>DCEP</td>\n",
       "      <td>NaN</td>\n",
       "      <td>FUNDAMENTAL</td>\n",
       "      <td>NaN</td>\n",
       "    </tr>\n",
       "    <tr>\n",
       "      <th>2</th>\n",
       "      <td>369295551293819386</td>\n",
       "      <td>4102332175955773568</td>\n",
       "      <td>11.023490</td>\n",
       "      <td>0.000340</td>\n",
       "      <td>NaN</td>\n",
       "      <td>NaN</td>\n",
       "      <td>NaN</td>\n",
       "      <td>NaN</td>\n",
       "      <td>NaN</td>\n",
       "      <td>NaN</td>\n",
       "      <td>...</td>\n",
       "      <td>NaN</td>\n",
       "      <td>18</td>\n",
       "      <td>16</td>\n",
       "      <td>18</td>\n",
       "      <td>NaN</td>\n",
       "      <td>NaN</td>\n",
       "      <td>DCEP</td>\n",
       "      <td>NaN</td>\n",
       "      <td>FUNDAMENTAL</td>\n",
       "      <td>NaN</td>\n",
       "    </tr>\n",
       "    <tr>\n",
       "      <th>3</th>\n",
       "      <td>369295551293819386</td>\n",
       "      <td>4103813802261866496</td>\n",
       "      <td>4.710753</td>\n",
       "      <td>0.000056</td>\n",
       "      <td>NaN</td>\n",
       "      <td>NaN</td>\n",
       "      <td>NaN</td>\n",
       "      <td>NaN</td>\n",
       "      <td>NaN</td>\n",
       "      <td>NaN</td>\n",
       "      <td>...</td>\n",
       "      <td>NaN</td>\n",
       "      <td>13</td>\n",
       "      <td>13</td>\n",
       "      <td>13</td>\n",
       "      <td>NaN</td>\n",
       "      <td>NaN</td>\n",
       "      <td>DCEP</td>\n",
       "      <td>NaN</td>\n",
       "      <td>FUNDAMENTAL</td>\n",
       "      <td>NaN</td>\n",
       "    </tr>\n",
       "    <tr>\n",
       "      <th>4</th>\n",
       "      <td>369295551293819386</td>\n",
       "      <td>4103989346187406464</td>\n",
       "      <td>5.546926</td>\n",
       "      <td>0.000043</td>\n",
       "      <td>NaN</td>\n",
       "      <td>NaN</td>\n",
       "      <td>NaN</td>\n",
       "      <td>NaN</td>\n",
       "      <td>NaN</td>\n",
       "      <td>NaN</td>\n",
       "      <td>...</td>\n",
       "      <td>NaN</td>\n",
       "      <td>18</td>\n",
       "      <td>17</td>\n",
       "      <td>15</td>\n",
       "      <td>NaN</td>\n",
       "      <td>NaN</td>\n",
       "      <td>DCEP</td>\n",
       "      <td>NaN</td>\n",
       "      <td>FUNDAMENTAL</td>\n",
       "      <td>NaN</td>\n",
       "    </tr>\n",
       "  </tbody>\n",
       "</table>\n",
       "<p>5 rows × 47 columns</p>\n",
       "</div>"
      ],
      "text/plain": [
       "          solution_id            source_id         pf  pf_error  p1_o  \\\n",
       "0  369295551293819386  4052922352453886976  35.492639  0.000829   NaN   \n",
       "1  369295551293819386  4103564728516764032  22.071996  0.000204   NaN   \n",
       "2  369295551293819386  4102332175955773568  11.023490  0.000340   NaN   \n",
       "3  369295551293819386  4103813802261866496   4.710753  0.000056   NaN   \n",
       "4  369295551293819386  4103989346187406464   5.546926  0.000043   NaN   \n",
       "\n",
       "   p1_o_error  p2_o  p2_o_error  p3_o  p3_o_error  \\\n",
       "0         NaN   NaN         NaN   NaN         NaN   \n",
       "1         NaN   NaN         NaN   NaN         NaN   \n",
       "2         NaN   NaN         NaN   NaN         NaN   \n",
       "3         NaN   NaN         NaN   NaN         NaN   \n",
       "4         NaN   NaN         NaN   NaN         NaN   \n",
       "\n",
       "                ...                phi31_g_error  num_clean_epochs_g  \\\n",
       "0               ...                          NaN                  19   \n",
       "1               ...                          NaN                  17   \n",
       "2               ...                          NaN                  18   \n",
       "3               ...                          NaN                  13   \n",
       "4               ...                          NaN                  18   \n",
       "\n",
       "   num_clean_epochs_bp  num_clean_epochs_rp  g_absorption  g_absorption_error  \\\n",
       "0                   15                   14           NaN                 NaN   \n",
       "1                   15                   13           NaN                 NaN   \n",
       "2                   16                   18           NaN                 NaN   \n",
       "3                   13                   13           NaN                 NaN   \n",
       "4                   17                   15           NaN                 NaN   \n",
       "\n",
       "   type_best_classification  type2_best_sub_classification  \\\n",
       "0                      DCEP                            NaN   \n",
       "1                      DCEP                            NaN   \n",
       "2                      DCEP                            NaN   \n",
       "3                      DCEP                            NaN   \n",
       "4                      DCEP                            NaN   \n",
       "\n",
       "   mode_best_classification  multi_mode_best_classification  \n",
       "0               FUNDAMENTAL                             NaN  \n",
       "1               FUNDAMENTAL                             NaN  \n",
       "2               FUNDAMENTAL                             NaN  \n",
       "3               FUNDAMENTAL                             NaN  \n",
       "4               FUNDAMENTAL                             NaN  \n",
       "\n",
       "[5 rows x 47 columns]"
      ]
     },
     "metadata": {},
     "output_type": "display_data"
    }
   ],
   "source": [
    "df = stats('VariCepheid_0.csv')"
   ]
  },
  {
   "cell_type": "code",
   "execution_count": null,
   "metadata": {
    "collapsed": true
   },
   "outputs": [],
   "source": []
  },
  {
   "cell_type": "code",
   "execution_count": 13,
   "metadata": {},
   "outputs": [
    {
     "data": {
      "text/html": [
       "<div>\n",
       "<style scoped>\n",
       "    .dataframe tbody tr th:only-of-type {\n",
       "        vertical-align: middle;\n",
       "    }\n",
       "\n",
       "    .dataframe tbody tr th {\n",
       "        vertical-align: top;\n",
       "    }\n",
       "\n",
       "    .dataframe thead th {\n",
       "        text-align: right;\n",
       "    }\n",
       "</style>\n",
       "<table border=\"1\" class=\"dataframe\">\n",
       "  <thead>\n",
       "    <tr style=\"text-align: right;\">\n",
       "      <th></th>\n",
       "      <th>solution_id</th>\n",
       "      <th>source_id</th>\n",
       "      <th>pf</th>\n",
       "      <th>pf_error</th>\n",
       "      <th>p1_o</th>\n",
       "      <th>p1_o_error</th>\n",
       "      <th>p2_o</th>\n",
       "      <th>p2_o_error</th>\n",
       "      <th>p3_o</th>\n",
       "      <th>p3_o_error</th>\n",
       "      <th>...</th>\n",
       "      <th>phi21_g</th>\n",
       "      <th>phi21_g_error</th>\n",
       "      <th>phi31_g</th>\n",
       "      <th>phi31_g_error</th>\n",
       "      <th>num_clean_epochs_g</th>\n",
       "      <th>num_clean_epochs_bp</th>\n",
       "      <th>num_clean_epochs_rp</th>\n",
       "      <th>g_absorption</th>\n",
       "      <th>g_absorption_error</th>\n",
       "      <th>multi_mode_best_classification</th>\n",
       "    </tr>\n",
       "  </thead>\n",
       "  <tbody>\n",
       "    <tr>\n",
       "      <th>count</th>\n",
       "      <td>2.100000e+01</td>\n",
       "      <td>2.100000e+01</td>\n",
       "      <td>16.000000</td>\n",
       "      <td>1.600000e+01</td>\n",
       "      <td>5.000000</td>\n",
       "      <td>5.000000</td>\n",
       "      <td>0.0</td>\n",
       "      <td>0.0</td>\n",
       "      <td>0.0</td>\n",
       "      <td>0.0</td>\n",
       "      <td>...</td>\n",
       "      <td>12.000000</td>\n",
       "      <td>12.000000</td>\n",
       "      <td>5.000000</td>\n",
       "      <td>5.000000</td>\n",
       "      <td>21.000000</td>\n",
       "      <td>21.000000</td>\n",
       "      <td>21.000000</td>\n",
       "      <td>0.0</td>\n",
       "      <td>0.0</td>\n",
       "      <td>0.0</td>\n",
       "    </tr>\n",
       "    <tr>\n",
       "      <th>mean</th>\n",
       "      <td>3.692956e+17</td>\n",
       "      <td>6.822285e+18</td>\n",
       "      <td>16.780489</td>\n",
       "      <td>8.254405e-04</td>\n",
       "      <td>1.501292</td>\n",
       "      <td>0.000022</td>\n",
       "      <td>NaN</td>\n",
       "      <td>NaN</td>\n",
       "      <td>NaN</td>\n",
       "      <td>NaN</td>\n",
       "      <td>...</td>\n",
       "      <td>3.788062</td>\n",
       "      <td>0.033605</td>\n",
       "      <td>2.755819</td>\n",
       "      <td>0.018424</td>\n",
       "      <td>21.142857</td>\n",
       "      <td>18.666667</td>\n",
       "      <td>18.666667</td>\n",
       "      <td>NaN</td>\n",
       "      <td>NaN</td>\n",
       "      <td>NaN</td>\n",
       "    </tr>\n",
       "    <tr>\n",
       "      <th>std</th>\n",
       "      <td>1.967415e+02</td>\n",
       "      <td>6.118209e+16</td>\n",
       "      <td>27.621053</td>\n",
       "      <td>2.380692e-03</td>\n",
       "      <td>0.731756</td>\n",
       "      <td>0.000023</td>\n",
       "      <td>NaN</td>\n",
       "      <td>NaN</td>\n",
       "      <td>NaN</td>\n",
       "      <td>NaN</td>\n",
       "      <td>...</td>\n",
       "      <td>2.001329</td>\n",
       "      <td>0.079224</td>\n",
       "      <td>1.986965</td>\n",
       "      <td>0.020825</td>\n",
       "      <td>8.673441</td>\n",
       "      <td>7.438638</td>\n",
       "      <td>7.404953</td>\n",
       "      <td>NaN</td>\n",
       "      <td>NaN</td>\n",
       "      <td>NaN</td>\n",
       "    </tr>\n",
       "    <tr>\n",
       "      <th>min</th>\n",
       "      <td>3.692956e+17</td>\n",
       "      <td>6.759012e+18</td>\n",
       "      <td>1.014272</td>\n",
       "      <td>5.250051e-07</td>\n",
       "      <td>0.983647</td>\n",
       "      <td>0.000002</td>\n",
       "      <td>NaN</td>\n",
       "      <td>NaN</td>\n",
       "      <td>NaN</td>\n",
       "      <td>NaN</td>\n",
       "      <td>...</td>\n",
       "      <td>0.863802</td>\n",
       "      <td>0.002353</td>\n",
       "      <td>0.949765</td>\n",
       "      <td>0.003348</td>\n",
       "      <td>14.000000</td>\n",
       "      <td>12.000000</td>\n",
       "      <td>12.000000</td>\n",
       "      <td>NaN</td>\n",
       "      <td>NaN</td>\n",
       "      <td>NaN</td>\n",
       "    </tr>\n",
       "    <tr>\n",
       "      <th>25%</th>\n",
       "      <td>3.692956e+17</td>\n",
       "      <td>6.761158e+18</td>\n",
       "      <td>1.272042</td>\n",
       "      <td>1.771507e-06</td>\n",
       "      <td>1.054111</td>\n",
       "      <td>0.000008</td>\n",
       "      <td>NaN</td>\n",
       "      <td>NaN</td>\n",
       "      <td>NaN</td>\n",
       "      <td>NaN</td>\n",
       "      <td>...</td>\n",
       "      <td>2.619528</td>\n",
       "      <td>0.003302</td>\n",
       "      <td>1.269275</td>\n",
       "      <td>0.003783</td>\n",
       "      <td>15.000000</td>\n",
       "      <td>13.000000</td>\n",
       "      <td>14.000000</td>\n",
       "      <td>NaN</td>\n",
       "      <td>NaN</td>\n",
       "      <td>NaN</td>\n",
       "    </tr>\n",
       "    <tr>\n",
       "      <th>50%</th>\n",
       "      <td>3.692956e+17</td>\n",
       "      <td>6.836509e+18</td>\n",
       "      <td>1.903834</td>\n",
       "      <td>5.673044e-06</td>\n",
       "      <td>1.293700</td>\n",
       "      <td>0.000015</td>\n",
       "      <td>NaN</td>\n",
       "      <td>NaN</td>\n",
       "      <td>NaN</td>\n",
       "      <td>NaN</td>\n",
       "      <td>...</td>\n",
       "      <td>3.982116</td>\n",
       "      <td>0.004164</td>\n",
       "      <td>2.244628</td>\n",
       "      <td>0.011580</td>\n",
       "      <td>17.000000</td>\n",
       "      <td>16.000000</td>\n",
       "      <td>15.000000</td>\n",
       "      <td>NaN</td>\n",
       "      <td>NaN</td>\n",
       "      <td>NaN</td>\n",
       "    </tr>\n",
       "    <tr>\n",
       "      <th>75%</th>\n",
       "      <td>3.692956e+17</td>\n",
       "      <td>6.879691e+18</td>\n",
       "      <td>21.850052</td>\n",
       "      <td>4.861802e-04</td>\n",
       "      <td>1.400636</td>\n",
       "      <td>0.000024</td>\n",
       "      <td>NaN</td>\n",
       "      <td>NaN</td>\n",
       "      <td>NaN</td>\n",
       "      <td>NaN</td>\n",
       "      <td>...</td>\n",
       "      <td>5.075084</td>\n",
       "      <td>0.013991</td>\n",
       "      <td>3.469280</td>\n",
       "      <td>0.019705</td>\n",
       "      <td>26.000000</td>\n",
       "      <td>23.000000</td>\n",
       "      <td>24.000000</td>\n",
       "      <td>NaN</td>\n",
       "      <td>NaN</td>\n",
       "      <td>NaN</td>\n",
       "    </tr>\n",
       "    <tr>\n",
       "      <th>max</th>\n",
       "      <td>3.692956e+17</td>\n",
       "      <td>6.904302e+18</td>\n",
       "      <td>109.287707</td>\n",
       "      <td>9.644607e-03</td>\n",
       "      <td>2.774365</td>\n",
       "      <td>0.000061</td>\n",
       "      <td>NaN</td>\n",
       "      <td>NaN</td>\n",
       "      <td>NaN</td>\n",
       "      <td>NaN</td>\n",
       "      <td>...</td>\n",
       "      <td>6.518302</td>\n",
       "      <td>0.280623</td>\n",
       "      <td>5.846148</td>\n",
       "      <td>0.053702</td>\n",
       "      <td>39.000000</td>\n",
       "      <td>34.000000</td>\n",
       "      <td>33.000000</td>\n",
       "      <td>NaN</td>\n",
       "      <td>NaN</td>\n",
       "      <td>NaN</td>\n",
       "    </tr>\n",
       "  </tbody>\n",
       "</table>\n",
       "<p>8 rows × 44 columns</p>\n",
       "</div>"
      ],
      "text/plain": [
       "        solution_id     source_id          pf      pf_error      p1_o  \\\n",
       "count  2.100000e+01  2.100000e+01   16.000000  1.600000e+01  5.000000   \n",
       "mean   3.692956e+17  6.822285e+18   16.780489  8.254405e-04  1.501292   \n",
       "std    1.967415e+02  6.118209e+16   27.621053  2.380692e-03  0.731756   \n",
       "min    3.692956e+17  6.759012e+18    1.014272  5.250051e-07  0.983647   \n",
       "25%    3.692956e+17  6.761158e+18    1.272042  1.771507e-06  1.054111   \n",
       "50%    3.692956e+17  6.836509e+18    1.903834  5.673044e-06  1.293700   \n",
       "75%    3.692956e+17  6.879691e+18   21.850052  4.861802e-04  1.400636   \n",
       "max    3.692956e+17  6.904302e+18  109.287707  9.644607e-03  2.774365   \n",
       "\n",
       "       p1_o_error  p2_o  p2_o_error  p3_o  p3_o_error  \\\n",
       "count    5.000000   0.0         0.0   0.0         0.0   \n",
       "mean     0.000022   NaN         NaN   NaN         NaN   \n",
       "std      0.000023   NaN         NaN   NaN         NaN   \n",
       "min      0.000002   NaN         NaN   NaN         NaN   \n",
       "25%      0.000008   NaN         NaN   NaN         NaN   \n",
       "50%      0.000015   NaN         NaN   NaN         NaN   \n",
       "75%      0.000024   NaN         NaN   NaN         NaN   \n",
       "max      0.000061   NaN         NaN   NaN         NaN   \n",
       "\n",
       "                    ...                  phi21_g  phi21_g_error   phi31_g  \\\n",
       "count               ...                12.000000      12.000000  5.000000   \n",
       "mean                ...                 3.788062       0.033605  2.755819   \n",
       "std                 ...                 2.001329       0.079224  1.986965   \n",
       "min                 ...                 0.863802       0.002353  0.949765   \n",
       "25%                 ...                 2.619528       0.003302  1.269275   \n",
       "50%                 ...                 3.982116       0.004164  2.244628   \n",
       "75%                 ...                 5.075084       0.013991  3.469280   \n",
       "max                 ...                 6.518302       0.280623  5.846148   \n",
       "\n",
       "       phi31_g_error  num_clean_epochs_g  num_clean_epochs_bp  \\\n",
       "count       5.000000           21.000000            21.000000   \n",
       "mean        0.018424           21.142857            18.666667   \n",
       "std         0.020825            8.673441             7.438638   \n",
       "min         0.003348           14.000000            12.000000   \n",
       "25%         0.003783           15.000000            13.000000   \n",
       "50%         0.011580           17.000000            16.000000   \n",
       "75%         0.019705           26.000000            23.000000   \n",
       "max         0.053702           39.000000            34.000000   \n",
       "\n",
       "       num_clean_epochs_rp  g_absorption  g_absorption_error  \\\n",
       "count            21.000000           0.0                 0.0   \n",
       "mean             18.666667           NaN                 NaN   \n",
       "std               7.404953           NaN                 NaN   \n",
       "min              12.000000           NaN                 NaN   \n",
       "25%              14.000000           NaN                 NaN   \n",
       "50%              15.000000           NaN                 NaN   \n",
       "75%              24.000000           NaN                 NaN   \n",
       "max              33.000000           NaN                 NaN   \n",
       "\n",
       "       multi_mode_best_classification  \n",
       "count                             0.0  \n",
       "mean                              NaN  \n",
       "std                               NaN  \n",
       "min                               NaN  \n",
       "25%                               NaN  \n",
       "50%                               NaN  \n",
       "75%                               NaN  \n",
       "max                               NaN  \n",
       "\n",
       "[8 rows x 44 columns]"
      ]
     },
     "metadata": {},
     "output_type": "display_data"
    },
    {
     "data": {
      "text/html": [
       "<div>\n",
       "<style scoped>\n",
       "    .dataframe tbody tr th:only-of-type {\n",
       "        vertical-align: middle;\n",
       "    }\n",
       "\n",
       "    .dataframe tbody tr th {\n",
       "        vertical-align: top;\n",
       "    }\n",
       "\n",
       "    .dataframe thead th {\n",
       "        text-align: right;\n",
       "    }\n",
       "</style>\n",
       "<table border=\"1\" class=\"dataframe\">\n",
       "  <thead>\n",
       "    <tr style=\"text-align: right;\">\n",
       "      <th></th>\n",
       "      <th>solution_id</th>\n",
       "      <th>source_id</th>\n",
       "      <th>pf</th>\n",
       "      <th>pf_error</th>\n",
       "      <th>p1_o</th>\n",
       "      <th>p1_o_error</th>\n",
       "      <th>p2_o</th>\n",
       "      <th>p2_o_error</th>\n",
       "      <th>p3_o</th>\n",
       "      <th>p3_o_error</th>\n",
       "      <th>...</th>\n",
       "      <th>phi31_g_error</th>\n",
       "      <th>num_clean_epochs_g</th>\n",
       "      <th>num_clean_epochs_bp</th>\n",
       "      <th>num_clean_epochs_rp</th>\n",
       "      <th>g_absorption</th>\n",
       "      <th>g_absorption_error</th>\n",
       "      <th>type_best_classification</th>\n",
       "      <th>type2_best_sub_classification</th>\n",
       "      <th>mode_best_classification</th>\n",
       "      <th>multi_mode_best_classification</th>\n",
       "    </tr>\n",
       "  </thead>\n",
       "  <tbody>\n",
       "    <tr>\n",
       "      <th>0</th>\n",
       "      <td>369295551293819386</td>\n",
       "      <td>6759012406208927232</td>\n",
       "      <td>1.688661</td>\n",
       "      <td>0.000004</td>\n",
       "      <td>NaN</td>\n",
       "      <td>NaN</td>\n",
       "      <td>NaN</td>\n",
       "      <td>NaN</td>\n",
       "      <td>NaN</td>\n",
       "      <td>NaN</td>\n",
       "      <td>...</td>\n",
       "      <td>NaN</td>\n",
       "      <td>17</td>\n",
       "      <td>15</td>\n",
       "      <td>15</td>\n",
       "      <td>NaN</td>\n",
       "      <td>NaN</td>\n",
       "      <td>T2CEP</td>\n",
       "      <td>BL_HER</td>\n",
       "      <td>NOT_APPLICABLE</td>\n",
       "      <td>NaN</td>\n",
       "    </tr>\n",
       "    <tr>\n",
       "      <th>1</th>\n",
       "      <td>369295551293819386</td>\n",
       "      <td>6903017574395143040</td>\n",
       "      <td>17.004833</td>\n",
       "      <td>0.001308</td>\n",
       "      <td>NaN</td>\n",
       "      <td>NaN</td>\n",
       "      <td>NaN</td>\n",
       "      <td>NaN</td>\n",
       "      <td>NaN</td>\n",
       "      <td>NaN</td>\n",
       "      <td>...</td>\n",
       "      <td>0.053702</td>\n",
       "      <td>36</td>\n",
       "      <td>34</td>\n",
       "      <td>33</td>\n",
       "      <td>NaN</td>\n",
       "      <td>NaN</td>\n",
       "      <td>T2CEP</td>\n",
       "      <td>W_VIR</td>\n",
       "      <td>NOT_APPLICABLE</td>\n",
       "      <td>NaN</td>\n",
       "    </tr>\n",
       "    <tr>\n",
       "      <th>2</th>\n",
       "      <td>369295551293819386</td>\n",
       "      <td>6760603949304010112</td>\n",
       "      <td>1.215182</td>\n",
       "      <td>0.000001</td>\n",
       "      <td>NaN</td>\n",
       "      <td>NaN</td>\n",
       "      <td>NaN</td>\n",
       "      <td>NaN</td>\n",
       "      <td>NaN</td>\n",
       "      <td>NaN</td>\n",
       "      <td>...</td>\n",
       "      <td>NaN</td>\n",
       "      <td>15</td>\n",
       "      <td>12</td>\n",
       "      <td>14</td>\n",
       "      <td>NaN</td>\n",
       "      <td>NaN</td>\n",
       "      <td>T2CEP</td>\n",
       "      <td>BL_HER</td>\n",
       "      <td>NOT_APPLICABLE</td>\n",
       "      <td>NaN</td>\n",
       "    </tr>\n",
       "    <tr>\n",
       "      <th>3</th>\n",
       "      <td>369295551293819386</td>\n",
       "      <td>6760819384863769344</td>\n",
       "      <td>25.411159</td>\n",
       "      <td>0.000422</td>\n",
       "      <td>NaN</td>\n",
       "      <td>NaN</td>\n",
       "      <td>NaN</td>\n",
       "      <td>NaN</td>\n",
       "      <td>NaN</td>\n",
       "      <td>NaN</td>\n",
       "      <td>...</td>\n",
       "      <td>NaN</td>\n",
       "      <td>18</td>\n",
       "      <td>16</td>\n",
       "      <td>15</td>\n",
       "      <td>NaN</td>\n",
       "      <td>NaN</td>\n",
       "      <td>T2CEP</td>\n",
       "      <td>RV_TAU</td>\n",
       "      <td>NOT_APPLICABLE</td>\n",
       "      <td>NaN</td>\n",
       "    </tr>\n",
       "    <tr>\n",
       "      <th>4</th>\n",
       "      <td>369295551293819386</td>\n",
       "      <td>6879691160336671744</td>\n",
       "      <td>33.644399</td>\n",
       "      <td>0.000483</td>\n",
       "      <td>NaN</td>\n",
       "      <td>NaN</td>\n",
       "      <td>NaN</td>\n",
       "      <td>NaN</td>\n",
       "      <td>NaN</td>\n",
       "      <td>NaN</td>\n",
       "      <td>...</td>\n",
       "      <td>NaN</td>\n",
       "      <td>34</td>\n",
       "      <td>30</td>\n",
       "      <td>30</td>\n",
       "      <td>NaN</td>\n",
       "      <td>NaN</td>\n",
       "      <td>DCEP</td>\n",
       "      <td>NaN</td>\n",
       "      <td>FUNDAMENTAL</td>\n",
       "      <td>NaN</td>\n",
       "    </tr>\n",
       "  </tbody>\n",
       "</table>\n",
       "<p>5 rows × 47 columns</p>\n",
       "</div>"
      ],
      "text/plain": [
       "          solution_id            source_id         pf  pf_error  p1_o  \\\n",
       "0  369295551293819386  6759012406208927232   1.688661  0.000004   NaN   \n",
       "1  369295551293819386  6903017574395143040  17.004833  0.001308   NaN   \n",
       "2  369295551293819386  6760603949304010112   1.215182  0.000001   NaN   \n",
       "3  369295551293819386  6760819384863769344  25.411159  0.000422   NaN   \n",
       "4  369295551293819386  6879691160336671744  33.644399  0.000483   NaN   \n",
       "\n",
       "   p1_o_error  p2_o  p2_o_error  p3_o  p3_o_error  \\\n",
       "0         NaN   NaN         NaN   NaN         NaN   \n",
       "1         NaN   NaN         NaN   NaN         NaN   \n",
       "2         NaN   NaN         NaN   NaN         NaN   \n",
       "3         NaN   NaN         NaN   NaN         NaN   \n",
       "4         NaN   NaN         NaN   NaN         NaN   \n",
       "\n",
       "                ...                phi31_g_error  num_clean_epochs_g  \\\n",
       "0               ...                          NaN                  17   \n",
       "1               ...                     0.053702                  36   \n",
       "2               ...                          NaN                  15   \n",
       "3               ...                          NaN                  18   \n",
       "4               ...                          NaN                  34   \n",
       "\n",
       "   num_clean_epochs_bp  num_clean_epochs_rp  g_absorption  g_absorption_error  \\\n",
       "0                   15                   15           NaN                 NaN   \n",
       "1                   34                   33           NaN                 NaN   \n",
       "2                   12                   14           NaN                 NaN   \n",
       "3                   16                   15           NaN                 NaN   \n",
       "4                   30                   30           NaN                 NaN   \n",
       "\n",
       "   type_best_classification  type2_best_sub_classification  \\\n",
       "0                     T2CEP                         BL_HER   \n",
       "1                     T2CEP                          W_VIR   \n",
       "2                     T2CEP                         BL_HER   \n",
       "3                     T2CEP                         RV_TAU   \n",
       "4                      DCEP                            NaN   \n",
       "\n",
       "   mode_best_classification  multi_mode_best_classification  \n",
       "0            NOT_APPLICABLE                             NaN  \n",
       "1            NOT_APPLICABLE                             NaN  \n",
       "2            NOT_APPLICABLE                             NaN  \n",
       "3            NOT_APPLICABLE                             NaN  \n",
       "4               FUNDAMENTAL                             NaN  \n",
       "\n",
       "[5 rows x 47 columns]"
      ]
     },
     "metadata": {},
     "output_type": "display_data"
    }
   ],
   "source": [
    "stats('VariCepheid_1.csv')"
   ]
  },
  {
   "cell_type": "code",
   "execution_count": 14,
   "metadata": {},
   "outputs": [
    {
     "data": {
      "text/html": [
       "<div>\n",
       "<style scoped>\n",
       "    .dataframe tbody tr th:only-of-type {\n",
       "        vertical-align: middle;\n",
       "    }\n",
       "\n",
       "    .dataframe tbody tr th {\n",
       "        vertical-align: top;\n",
       "    }\n",
       "\n",
       "    .dataframe thead th {\n",
       "        text-align: right;\n",
       "    }\n",
       "</style>\n",
       "<table border=\"1\" class=\"dataframe\">\n",
       "  <thead>\n",
       "    <tr style=\"text-align: right;\">\n",
       "      <th></th>\n",
       "      <th>solution_id</th>\n",
       "      <th>source_id</th>\n",
       "      <th>best_class_score</th>\n",
       "    </tr>\n",
       "  </thead>\n",
       "  <tbody>\n",
       "    <tr>\n",
       "      <th>count</th>\n",
       "      <td>7.255000e+03</td>\n",
       "      <td>7.255000e+03</td>\n",
       "      <td>7255.000000</td>\n",
       "    </tr>\n",
       "    <tr>\n",
       "      <th>mean</th>\n",
       "      <td>3.692955e+17</td>\n",
       "      <td>4.519158e+18</td>\n",
       "      <td>0.724681</td>\n",
       "    </tr>\n",
       "    <tr>\n",
       "      <th>std</th>\n",
       "      <td>1.728119e+03</td>\n",
       "      <td>1.401971e+18</td>\n",
       "      <td>0.281575</td>\n",
       "    </tr>\n",
       "    <tr>\n",
       "      <th>min</th>\n",
       "      <td>3.692955e+17</td>\n",
       "      <td>2.686848e+18</td>\n",
       "      <td>0.000066</td>\n",
       "    </tr>\n",
       "    <tr>\n",
       "      <th>25%</th>\n",
       "      <td>3.692955e+17</td>\n",
       "      <td>2.910755e+18</td>\n",
       "      <td>0.525872</td>\n",
       "    </tr>\n",
       "    <tr>\n",
       "      <th>50%</th>\n",
       "      <td>3.692955e+17</td>\n",
       "      <td>5.532606e+18</td>\n",
       "      <td>0.842857</td>\n",
       "    </tr>\n",
       "    <tr>\n",
       "      <th>75%</th>\n",
       "      <td>3.692955e+17</td>\n",
       "      <td>5.771813e+18</td>\n",
       "      <td>0.965413</td>\n",
       "    </tr>\n",
       "    <tr>\n",
       "      <th>max</th>\n",
       "      <td>3.692955e+17</td>\n",
       "      <td>5.980359e+18</td>\n",
       "      <td>1.000000</td>\n",
       "    </tr>\n",
       "  </tbody>\n",
       "</table>\n",
       "</div>"
      ],
      "text/plain": [
       "        solution_id     source_id  best_class_score\n",
       "count  7.255000e+03  7.255000e+03       7255.000000\n",
       "mean   3.692955e+17  4.519158e+18          0.724681\n",
       "std    1.728119e+03  1.401971e+18          0.281575\n",
       "min    3.692955e+17  2.686848e+18          0.000066\n",
       "25%    3.692955e+17  2.910755e+18          0.525872\n",
       "50%    3.692955e+17  5.532606e+18          0.842857\n",
       "75%    3.692955e+17  5.771813e+18          0.965413\n",
       "max    3.692955e+17  5.980359e+18          1.000000"
      ]
     },
     "metadata": {},
     "output_type": "display_data"
    },
    {
     "data": {
      "text/html": [
       "<div>\n",
       "<style scoped>\n",
       "    .dataframe tbody tr th:only-of-type {\n",
       "        vertical-align: middle;\n",
       "    }\n",
       "\n",
       "    .dataframe tbody tr th {\n",
       "        vertical-align: top;\n",
       "    }\n",
       "\n",
       "    .dataframe thead th {\n",
       "        text-align: right;\n",
       "    }\n",
       "</style>\n",
       "<table border=\"1\" class=\"dataframe\">\n",
       "  <thead>\n",
       "    <tr style=\"text-align: right;\">\n",
       "      <th></th>\n",
       "      <th>solution_id</th>\n",
       "      <th>source_id</th>\n",
       "      <th>classifier_name</th>\n",
       "      <th>best_class_name</th>\n",
       "      <th>best_class_score</th>\n",
       "    </tr>\n",
       "  </thead>\n",
       "  <tbody>\n",
       "    <tr>\n",
       "      <th>0</th>\n",
       "      <td>369295546864633574</td>\n",
       "      <td>2915501251673548032</td>\n",
       "      <td>nTransits:2+</td>\n",
       "      <td>MIRA_SR</td>\n",
       "      <td>0.800170</td>\n",
       "    </tr>\n",
       "    <tr>\n",
       "      <th>1</th>\n",
       "      <td>369295546864633574</td>\n",
       "      <td>2915687000420285568</td>\n",
       "      <td>nTransits:2+</td>\n",
       "      <td>RRC</td>\n",
       "      <td>0.660132</td>\n",
       "    </tr>\n",
       "    <tr>\n",
       "      <th>2</th>\n",
       "      <td>369295546864633574</td>\n",
       "      <td>2915997715534807168</td>\n",
       "      <td>nTransits:2+</td>\n",
       "      <td>MIRA_SR</td>\n",
       "      <td>0.995748</td>\n",
       "    </tr>\n",
       "    <tr>\n",
       "      <th>3</th>\n",
       "      <td>369295546864633574</td>\n",
       "      <td>2916244830772710784</td>\n",
       "      <td>nTransits:2+</td>\n",
       "      <td>RRAB</td>\n",
       "      <td>0.955541</td>\n",
       "    </tr>\n",
       "    <tr>\n",
       "      <th>4</th>\n",
       "      <td>369295546864633574</td>\n",
       "      <td>2916286406055828480</td>\n",
       "      <td>nTransits:2+</td>\n",
       "      <td>RRAB</td>\n",
       "      <td>1.000000</td>\n",
       "    </tr>\n",
       "  </tbody>\n",
       "</table>\n",
       "</div>"
      ],
      "text/plain": [
       "          solution_id            source_id classifier_name best_class_name  \\\n",
       "0  369295546864633574  2915501251673548032    nTransits:2+         MIRA_SR   \n",
       "1  369295546864633574  2915687000420285568    nTransits:2+             RRC   \n",
       "2  369295546864633574  2915997715534807168    nTransits:2+         MIRA_SR   \n",
       "3  369295546864633574  2916244830772710784    nTransits:2+            RRAB   \n",
       "4  369295546864633574  2916286406055828480    nTransits:2+            RRAB   \n",
       "\n",
       "   best_class_score  \n",
       "0          0.800170  \n",
       "1          0.660132  \n",
       "2          0.995748  \n",
       "3          0.955541  \n",
       "4          1.000000  "
      ]
     },
     "metadata": {},
     "output_type": "display_data"
    }
   ],
   "source": [
    "stats('VariClassifierResult_0.csv')"
   ]
  },
  {
   "cell_type": "code",
   "execution_count": 15,
   "metadata": {},
   "outputs": [
    {
     "data": {
      "text/html": [
       "<div>\n",
       "<style scoped>\n",
       "    .dataframe tbody tr th:only-of-type {\n",
       "        vertical-align: middle;\n",
       "    }\n",
       "\n",
       "    .dataframe tbody tr th {\n",
       "        vertical-align: top;\n",
       "    }\n",
       "\n",
       "    .dataframe thead th {\n",
       "        text-align: right;\n",
       "    }\n",
       "</style>\n",
       "<table border=\"1\" class=\"dataframe\">\n",
       "  <thead>\n",
       "    <tr style=\"text-align: right;\">\n",
       "      <th></th>\n",
       "      <th>solution_id</th>\n",
       "      <th>source_id</th>\n",
       "      <th>best_class_score</th>\n",
       "    </tr>\n",
       "  </thead>\n",
       "  <tbody>\n",
       "    <tr>\n",
       "      <th>count</th>\n",
       "      <td>6.733000e+03</td>\n",
       "      <td>6.733000e+03</td>\n",
       "      <td>6733.000000</td>\n",
       "    </tr>\n",
       "    <tr>\n",
       "      <th>mean</th>\n",
       "      <td>3.692955e+17</td>\n",
       "      <td>4.957267e+18</td>\n",
       "      <td>0.702127</td>\n",
       "    </tr>\n",
       "    <tr>\n",
       "      <th>std</th>\n",
       "      <td>1.728128e+03</td>\n",
       "      <td>7.510017e+17</td>\n",
       "      <td>0.289018</td>\n",
       "    </tr>\n",
       "    <tr>\n",
       "      <th>min</th>\n",
       "      <td>3.692955e+17</td>\n",
       "      <td>4.053139e+18</td>\n",
       "      <td>0.000219</td>\n",
       "    </tr>\n",
       "    <tr>\n",
       "      <th>25%</th>\n",
       "      <td>3.692955e+17</td>\n",
       "      <td>4.151911e+18</td>\n",
       "      <td>0.490990</td>\n",
       "    </tr>\n",
       "    <tr>\n",
       "      <th>50%</th>\n",
       "      <td>3.692955e+17</td>\n",
       "      <td>4.658084e+18</td>\n",
       "      <td>0.799107</td>\n",
       "    </tr>\n",
       "    <tr>\n",
       "      <th>75%</th>\n",
       "      <td>3.692955e+17</td>\n",
       "      <td>5.799789e+18</td>\n",
       "      <td>0.961820</td>\n",
       "    </tr>\n",
       "    <tr>\n",
       "      <th>max</th>\n",
       "      <td>3.692955e+17</td>\n",
       "      <td>5.971383e+18</td>\n",
       "      <td>1.000000</td>\n",
       "    </tr>\n",
       "  </tbody>\n",
       "</table>\n",
       "</div>"
      ],
      "text/plain": [
       "        solution_id     source_id  best_class_score\n",
       "count  6.733000e+03  6.733000e+03       6733.000000\n",
       "mean   3.692955e+17  4.957267e+18          0.702127\n",
       "std    1.728128e+03  7.510017e+17          0.289018\n",
       "min    3.692955e+17  4.053139e+18          0.000219\n",
       "25%    3.692955e+17  4.151911e+18          0.490990\n",
       "50%    3.692955e+17  4.658084e+18          0.799107\n",
       "75%    3.692955e+17  5.799789e+18          0.961820\n",
       "max    3.692955e+17  5.971383e+18          1.000000"
      ]
     },
     "metadata": {},
     "output_type": "display_data"
    },
    {
     "data": {
      "text/html": [
       "<div>\n",
       "<style scoped>\n",
       "    .dataframe tbody tr th:only-of-type {\n",
       "        vertical-align: middle;\n",
       "    }\n",
       "\n",
       "    .dataframe tbody tr th {\n",
       "        vertical-align: top;\n",
       "    }\n",
       "\n",
       "    .dataframe thead th {\n",
       "        text-align: right;\n",
       "    }\n",
       "</style>\n",
       "<table border=\"1\" class=\"dataframe\">\n",
       "  <thead>\n",
       "    <tr style=\"text-align: right;\">\n",
       "      <th></th>\n",
       "      <th>solution_id</th>\n",
       "      <th>source_id</th>\n",
       "      <th>classifier_name</th>\n",
       "      <th>best_class_name</th>\n",
       "      <th>best_class_score</th>\n",
       "    </tr>\n",
       "  </thead>\n",
       "  <tbody>\n",
       "    <tr>\n",
       "      <th>0</th>\n",
       "      <td>369295546864633574</td>\n",
       "      <td>4053468981544790144</td>\n",
       "      <td>nTransits:2+</td>\n",
       "      <td>RRAB</td>\n",
       "      <td>0.407612</td>\n",
       "    </tr>\n",
       "    <tr>\n",
       "      <th>1</th>\n",
       "      <td>369295546864633574</td>\n",
       "      <td>4053470493366803328</td>\n",
       "      <td>nTransits:2+</td>\n",
       "      <td>RRAB</td>\n",
       "      <td>0.439754</td>\n",
       "    </tr>\n",
       "    <tr>\n",
       "      <th>2</th>\n",
       "      <td>369295546864633574</td>\n",
       "      <td>4053472147019148544</td>\n",
       "      <td>nTransits:2+</td>\n",
       "      <td>MIRA_SR</td>\n",
       "      <td>0.021173</td>\n",
       "    </tr>\n",
       "    <tr>\n",
       "      <th>3</th>\n",
       "      <td>369295546864633574</td>\n",
       "      <td>4053474410372686208</td>\n",
       "      <td>nTransits:2+</td>\n",
       "      <td>MIRA_SR</td>\n",
       "      <td>0.430389</td>\n",
       "    </tr>\n",
       "    <tr>\n",
       "      <th>4</th>\n",
       "      <td>369295546864633574</td>\n",
       "      <td>4053474758315181184</td>\n",
       "      <td>nTransits:2+</td>\n",
       "      <td>RRAB</td>\n",
       "      <td>0.007426</td>\n",
       "    </tr>\n",
       "  </tbody>\n",
       "</table>\n",
       "</div>"
      ],
      "text/plain": [
       "          solution_id            source_id classifier_name best_class_name  \\\n",
       "0  369295546864633574  4053468981544790144    nTransits:2+            RRAB   \n",
       "1  369295546864633574  4053470493366803328    nTransits:2+            RRAB   \n",
       "2  369295546864633574  4053472147019148544    nTransits:2+         MIRA_SR   \n",
       "3  369295546864633574  4053474410372686208    nTransits:2+         MIRA_SR   \n",
       "4  369295546864633574  4053474758315181184    nTransits:2+            RRAB   \n",
       "\n",
       "   best_class_score  \n",
       "0          0.407612  \n",
       "1          0.439754  \n",
       "2          0.021173  \n",
       "3          0.430389  \n",
       "4          0.007426  "
      ]
     },
     "metadata": {},
     "output_type": "display_data"
    }
   ],
   "source": [
    "stats('VariClassifierResult_1.csv')"
   ]
  },
  {
   "cell_type": "code",
   "execution_count": 16,
   "metadata": {},
   "outputs": [
    {
     "data": {
      "text/html": [
       "<div>\n",
       "<style scoped>\n",
       "    .dataframe tbody tr th:only-of-type {\n",
       "        vertical-align: middle;\n",
       "    }\n",
       "\n",
       "    .dataframe tbody tr th {\n",
       "        vertical-align: top;\n",
       "    }\n",
       "\n",
       "    .dataframe thead th {\n",
       "        text-align: right;\n",
       "    }\n",
       "</style>\n",
       "<table border=\"1\" class=\"dataframe\">\n",
       "  <thead>\n",
       "    <tr style=\"text-align: right;\">\n",
       "      <th></th>\n",
       "      <th>solution_id</th>\n",
       "      <th>source_id</th>\n",
       "      <th>abs_mag_bol</th>\n",
       "      <th>abs_mag_bol_error</th>\n",
       "      <th>bolometric_corr</th>\n",
       "      <th>bolometric_corr_error</th>\n",
       "      <th>frequency</th>\n",
       "      <th>frequency_error</th>\n",
       "    </tr>\n",
       "  </thead>\n",
       "  <tbody>\n",
       "    <tr>\n",
       "      <th>count</th>\n",
       "      <td>1.870000e+02</td>\n",
       "      <td>1.870000e+02</td>\n",
       "      <td>107.000000</td>\n",
       "      <td>107.000000</td>\n",
       "      <td>187.000000</td>\n",
       "      <td>187.000000</td>\n",
       "      <td>187.000000</td>\n",
       "      <td>187.000000</td>\n",
       "    </tr>\n",
       "    <tr>\n",
       "      <th>mean</th>\n",
       "      <td>3.692956e+17</td>\n",
       "      <td>1.033265e+18</td>\n",
       "      <td>-2.954830</td>\n",
       "      <td>2.801512</td>\n",
       "      <td>-2.384381</td>\n",
       "      <td>0.032544</td>\n",
       "      <td>0.003597</td>\n",
       "      <td>0.002165</td>\n",
       "    </tr>\n",
       "    <tr>\n",
       "      <th>std</th>\n",
       "      <td>8.984054e+02</td>\n",
       "      <td>1.843049e+18</td>\n",
       "      <td>2.897323</td>\n",
       "      <td>3.055150</td>\n",
       "      <td>1.266054</td>\n",
       "      <td>0.061912</td>\n",
       "      <td>0.002423</td>\n",
       "      <td>0.003522</td>\n",
       "    </tr>\n",
       "    <tr>\n",
       "      <th>min</th>\n",
       "      <td>3.692956e+17</td>\n",
       "      <td>4.253877e+15</td>\n",
       "      <td>-7.340385</td>\n",
       "      <td>0.102277</td>\n",
       "      <td>-6.782524</td>\n",
       "      <td>0.005000</td>\n",
       "      <td>0.001029</td>\n",
       "      <td>0.000113</td>\n",
       "    </tr>\n",
       "    <tr>\n",
       "      <th>25%</th>\n",
       "      <td>3.692956e+17</td>\n",
       "      <td>1.820803e+17</td>\n",
       "      <td>-4.634606</td>\n",
       "      <td>0.977383</td>\n",
       "      <td>-3.048373</td>\n",
       "      <td>0.008241</td>\n",
       "      <td>0.002081</td>\n",
       "      <td>0.000564</td>\n",
       "    </tr>\n",
       "    <tr>\n",
       "      <th>50%</th>\n",
       "      <td>3.692956e+17</td>\n",
       "      <td>2.058826e+17</td>\n",
       "      <td>-3.566010</td>\n",
       "      <td>1.730368</td>\n",
       "      <td>-2.200000</td>\n",
       "      <td>0.011530</td>\n",
       "      <td>0.002849</td>\n",
       "      <td>0.001252</td>\n",
       "    </tr>\n",
       "    <tr>\n",
       "      <th>75%</th>\n",
       "      <td>3.692956e+17</td>\n",
       "      <td>3.806439e+17</td>\n",
       "      <td>-2.375913</td>\n",
       "      <td>3.648419</td>\n",
       "      <td>-1.364699</td>\n",
       "      <td>0.024090</td>\n",
       "      <td>0.004000</td>\n",
       "      <td>0.002631</td>\n",
       "    </tr>\n",
       "    <tr>\n",
       "      <th>max</th>\n",
       "      <td>3.692956e+17</td>\n",
       "      <td>5.311474e+18</td>\n",
       "      <td>7.993489</td>\n",
       "      <td>19.483364</td>\n",
       "      <td>-0.480505</td>\n",
       "      <td>0.300000</td>\n",
       "      <td>0.014861</td>\n",
       "      <td>0.027886</td>\n",
       "    </tr>\n",
       "  </tbody>\n",
       "</table>\n",
       "</div>"
      ],
      "text/plain": [
       "        solution_id     source_id  abs_mag_bol  abs_mag_bol_error  \\\n",
       "count  1.870000e+02  1.870000e+02   107.000000         107.000000   \n",
       "mean   3.692956e+17  1.033265e+18    -2.954830           2.801512   \n",
       "std    8.984054e+02  1.843049e+18     2.897323           3.055150   \n",
       "min    3.692956e+17  4.253877e+15    -7.340385           0.102277   \n",
       "25%    3.692956e+17  1.820803e+17    -4.634606           0.977383   \n",
       "50%    3.692956e+17  2.058826e+17    -3.566010           1.730368   \n",
       "75%    3.692956e+17  3.806439e+17    -2.375913           3.648419   \n",
       "max    3.692956e+17  5.311474e+18     7.993489          19.483364   \n",
       "\n",
       "       bolometric_corr  bolometric_corr_error   frequency  frequency_error  \n",
       "count       187.000000             187.000000  187.000000       187.000000  \n",
       "mean         -2.384381               0.032544    0.003597         0.002165  \n",
       "std           1.266054               0.061912    0.002423         0.003522  \n",
       "min          -6.782524               0.005000    0.001029         0.000113  \n",
       "25%          -3.048373               0.008241    0.002081         0.000564  \n",
       "50%          -2.200000               0.011530    0.002849         0.001252  \n",
       "75%          -1.364699               0.024090    0.004000         0.002631  \n",
       "max          -0.480505               0.300000    0.014861         0.027886  "
      ]
     },
     "metadata": {},
     "output_type": "display_data"
    },
    {
     "data": {
      "text/html": [
       "<div>\n",
       "<style scoped>\n",
       "    .dataframe tbody tr th:only-of-type {\n",
       "        vertical-align: middle;\n",
       "    }\n",
       "\n",
       "    .dataframe tbody tr th {\n",
       "        vertical-align: top;\n",
       "    }\n",
       "\n",
       "    .dataframe thead th {\n",
       "        text-align: right;\n",
       "    }\n",
       "</style>\n",
       "<table border=\"1\" class=\"dataframe\">\n",
       "  <thead>\n",
       "    <tr style=\"text-align: right;\">\n",
       "      <th></th>\n",
       "      <th>solution_id</th>\n",
       "      <th>source_id</th>\n",
       "      <th>abs_mag_bol</th>\n",
       "      <th>abs_mag_bol_error</th>\n",
       "      <th>rsg_flag</th>\n",
       "      <th>bolometric_corr</th>\n",
       "      <th>bolometric_corr_error</th>\n",
       "      <th>frequency</th>\n",
       "      <th>frequency_error</th>\n",
       "    </tr>\n",
       "  </thead>\n",
       "  <tbody>\n",
       "    <tr>\n",
       "      <th>0</th>\n",
       "      <td>369295551293819386</td>\n",
       "      <td>510724735957954432</td>\n",
       "      <td>6.292393</td>\n",
       "      <td>0.201454</td>\n",
       "      <td>False</td>\n",
       "      <td>-1.102037</td>\n",
       "      <td>0.060625</td>\n",
       "      <td>0.001820</td>\n",
       "      <td>0.001306</td>\n",
       "    </tr>\n",
       "    <tr>\n",
       "      <th>1</th>\n",
       "      <td>369295551293819386</td>\n",
       "      <td>253302984844047488</td>\n",
       "      <td>NaN</td>\n",
       "      <td>NaN</td>\n",
       "      <td>False</td>\n",
       "      <td>-3.647977</td>\n",
       "      <td>0.010804</td>\n",
       "      <td>0.014861</td>\n",
       "      <td>0.003040</td>\n",
       "    </tr>\n",
       "    <tr>\n",
       "      <th>2</th>\n",
       "      <td>369295551293819386</td>\n",
       "      <td>259151115391212160</td>\n",
       "      <td>-4.782367</td>\n",
       "      <td>4.843391</td>\n",
       "      <td>False</td>\n",
       "      <td>-1.922698</td>\n",
       "      <td>0.006859</td>\n",
       "      <td>0.002222</td>\n",
       "      <td>0.001128</td>\n",
       "    </tr>\n",
       "    <tr>\n",
       "      <th>3</th>\n",
       "      <td>369295551293819386</td>\n",
       "      <td>337504203774031360</td>\n",
       "      <td>-5.918660</td>\n",
       "      <td>7.211837</td>\n",
       "      <td>False</td>\n",
       "      <td>-1.366279</td>\n",
       "      <td>0.006723</td>\n",
       "      <td>0.002633</td>\n",
       "      <td>0.002113</td>\n",
       "    </tr>\n",
       "    <tr>\n",
       "      <th>4</th>\n",
       "      <td>369295551293819386</td>\n",
       "      <td>359993202292935424</td>\n",
       "      <td>-2.063592</td>\n",
       "      <td>0.670098</td>\n",
       "      <td>False</td>\n",
       "      <td>-2.645123</td>\n",
       "      <td>0.010083</td>\n",
       "      <td>0.003596</td>\n",
       "      <td>0.000276</td>\n",
       "    </tr>\n",
       "  </tbody>\n",
       "</table>\n",
       "</div>"
      ],
      "text/plain": [
       "          solution_id           source_id  abs_mag_bol  abs_mag_bol_error  \\\n",
       "0  369295551293819386  510724735957954432     6.292393           0.201454   \n",
       "1  369295551293819386  253302984844047488          NaN                NaN   \n",
       "2  369295551293819386  259151115391212160    -4.782367           4.843391   \n",
       "3  369295551293819386  337504203774031360    -5.918660           7.211837   \n",
       "4  369295551293819386  359993202292935424    -2.063592           0.670098   \n",
       "\n",
       "   rsg_flag  bolometric_corr  bolometric_corr_error  frequency  \\\n",
       "0     False        -1.102037               0.060625   0.001820   \n",
       "1     False        -3.647977               0.010804   0.014861   \n",
       "2     False        -1.922698               0.006859   0.002222   \n",
       "3     False        -1.366279               0.006723   0.002633   \n",
       "4     False        -2.645123               0.010083   0.003596   \n",
       "\n",
       "   frequency_error  \n",
       "0         0.001306  \n",
       "1         0.003040  \n",
       "2         0.001128  \n",
       "3         0.002113  \n",
       "4         0.000276  "
      ]
     },
     "metadata": {},
     "output_type": "display_data"
    }
   ],
   "source": [
    "stats('VariLongPeriodVariable_0.csv')"
   ]
  },
  {
   "cell_type": "code",
   "execution_count": 17,
   "metadata": {},
   "outputs": [
    {
     "data": {
      "text/html": [
       "<div>\n",
       "<style scoped>\n",
       "    .dataframe tbody tr th:only-of-type {\n",
       "        vertical-align: middle;\n",
       "    }\n",
       "\n",
       "    .dataframe tbody tr th {\n",
       "        vertical-align: top;\n",
       "    }\n",
       "\n",
       "    .dataframe thead th {\n",
       "        text-align: right;\n",
       "    }\n",
       "</style>\n",
       "<table border=\"1\" class=\"dataframe\">\n",
       "  <thead>\n",
       "    <tr style=\"text-align: right;\">\n",
       "      <th></th>\n",
       "      <th>solution_id</th>\n",
       "      <th>source_id</th>\n",
       "      <th>abs_mag_bol</th>\n",
       "      <th>abs_mag_bol_error</th>\n",
       "      <th>bolometric_corr</th>\n",
       "      <th>bolometric_corr_error</th>\n",
       "      <th>frequency</th>\n",
       "      <th>frequency_error</th>\n",
       "    </tr>\n",
       "  </thead>\n",
       "  <tbody>\n",
       "    <tr>\n",
       "      <th>count</th>\n",
       "      <td>4.940000e+02</td>\n",
       "      <td>4.940000e+02</td>\n",
       "      <td>269.000000</td>\n",
       "      <td>269.000000</td>\n",
       "      <td>494.000000</td>\n",
       "      <td>494.000000</td>\n",
       "      <td>494.000000</td>\n",
       "      <td>494.000000</td>\n",
       "    </tr>\n",
       "    <tr>\n",
       "      <th>mean</th>\n",
       "      <td>3.692956e+17</td>\n",
       "      <td>4.158541e+18</td>\n",
       "      <td>-3.024541</td>\n",
       "      <td>10.652903</td>\n",
       "      <td>-4.144984</td>\n",
       "      <td>0.316709</td>\n",
       "      <td>0.003969</td>\n",
       "      <td>0.001520</td>\n",
       "    </tr>\n",
       "    <tr>\n",
       "      <th>std</th>\n",
       "      <td>1.921946e+03</td>\n",
       "      <td>2.042128e+15</td>\n",
       "      <td>2.390571</td>\n",
       "      <td>67.560407</td>\n",
       "      <td>1.629221</td>\n",
       "      <td>0.470126</td>\n",
       "      <td>0.002339</td>\n",
       "      <td>0.001680</td>\n",
       "    </tr>\n",
       "    <tr>\n",
       "      <th>min</th>\n",
       "      <td>3.692956e+17</td>\n",
       "      <td>4.154727e+18</td>\n",
       "      <td>-11.677458</td>\n",
       "      <td>0.349542</td>\n",
       "      <td>-8.803375</td>\n",
       "      <td>0.005000</td>\n",
       "      <td>0.001132</td>\n",
       "      <td>0.000092</td>\n",
       "    </tr>\n",
       "    <tr>\n",
       "      <th>25%</th>\n",
       "      <td>3.692956e+17</td>\n",
       "      <td>4.157164e+18</td>\n",
       "      <td>-4.830106</td>\n",
       "      <td>1.271183</td>\n",
       "      <td>-5.377520</td>\n",
       "      <td>0.058164</td>\n",
       "      <td>0.002436</td>\n",
       "      <td>0.000408</td>\n",
       "    </tr>\n",
       "    <tr>\n",
       "      <th>50%</th>\n",
       "      <td>3.692956e+17</td>\n",
       "      <td>4.158583e+18</td>\n",
       "      <td>-2.948226</td>\n",
       "      <td>2.428936</td>\n",
       "      <td>-4.348092</td>\n",
       "      <td>0.156057</td>\n",
       "      <td>0.003135</td>\n",
       "      <td>0.000927</td>\n",
       "    </tr>\n",
       "    <tr>\n",
       "      <th>75%</th>\n",
       "      <td>3.692956e+17</td>\n",
       "      <td>4.160519e+18</td>\n",
       "      <td>-1.581716</td>\n",
       "      <td>5.127720</td>\n",
       "      <td>-3.087564</td>\n",
       "      <td>0.362844</td>\n",
       "      <td>0.004511</td>\n",
       "      <td>0.002211</td>\n",
       "    </tr>\n",
       "    <tr>\n",
       "      <th>max</th>\n",
       "      <td>3.692956e+17</td>\n",
       "      <td>4.161658e+18</td>\n",
       "      <td>5.321647</td>\n",
       "      <td>1075.060565</td>\n",
       "      <td>-0.710000</td>\n",
       "      <td>3.511995</td>\n",
       "      <td>0.016546</td>\n",
       "      <td>0.014905</td>\n",
       "    </tr>\n",
       "  </tbody>\n",
       "</table>\n",
       "</div>"
      ],
      "text/plain": [
       "        solution_id     source_id  abs_mag_bol  abs_mag_bol_error  \\\n",
       "count  4.940000e+02  4.940000e+02   269.000000         269.000000   \n",
       "mean   3.692956e+17  4.158541e+18    -3.024541          10.652903   \n",
       "std    1.921946e+03  2.042128e+15     2.390571          67.560407   \n",
       "min    3.692956e+17  4.154727e+18   -11.677458           0.349542   \n",
       "25%    3.692956e+17  4.157164e+18    -4.830106           1.271183   \n",
       "50%    3.692956e+17  4.158583e+18    -2.948226           2.428936   \n",
       "75%    3.692956e+17  4.160519e+18    -1.581716           5.127720   \n",
       "max    3.692956e+17  4.161658e+18     5.321647        1075.060565   \n",
       "\n",
       "       bolometric_corr  bolometric_corr_error   frequency  frequency_error  \n",
       "count       494.000000             494.000000  494.000000       494.000000  \n",
       "mean         -4.144984               0.316709    0.003969         0.001520  \n",
       "std           1.629221               0.470126    0.002339         0.001680  \n",
       "min          -8.803375               0.005000    0.001132         0.000092  \n",
       "25%          -5.377520               0.058164    0.002436         0.000408  \n",
       "50%          -4.348092               0.156057    0.003135         0.000927  \n",
       "75%          -3.087564               0.362844    0.004511         0.002211  \n",
       "max          -0.710000               3.511995    0.016546         0.014905  "
      ]
     },
     "metadata": {},
     "output_type": "display_data"
    },
    {
     "data": {
      "text/html": [
       "<div>\n",
       "<style scoped>\n",
       "    .dataframe tbody tr th:only-of-type {\n",
       "        vertical-align: middle;\n",
       "    }\n",
       "\n",
       "    .dataframe tbody tr th {\n",
       "        vertical-align: top;\n",
       "    }\n",
       "\n",
       "    .dataframe thead th {\n",
       "        text-align: right;\n",
       "    }\n",
       "</style>\n",
       "<table border=\"1\" class=\"dataframe\">\n",
       "  <thead>\n",
       "    <tr style=\"text-align: right;\">\n",
       "      <th></th>\n",
       "      <th>solution_id</th>\n",
       "      <th>source_id</th>\n",
       "      <th>abs_mag_bol</th>\n",
       "      <th>abs_mag_bol_error</th>\n",
       "      <th>rsg_flag</th>\n",
       "      <th>bolometric_corr</th>\n",
       "      <th>bolometric_corr_error</th>\n",
       "      <th>frequency</th>\n",
       "      <th>frequency_error</th>\n",
       "    </tr>\n",
       "  </thead>\n",
       "  <tbody>\n",
       "    <tr>\n",
       "      <th>0</th>\n",
       "      <td>369295551293819386</td>\n",
       "      <td>4154732632393909888</td>\n",
       "      <td>-1.933550</td>\n",
       "      <td>1.268047</td>\n",
       "      <td>False</td>\n",
       "      <td>-3.999809</td>\n",
       "      <td>0.041409</td>\n",
       "      <td>0.001859</td>\n",
       "      <td>0.000992</td>\n",
       "    </tr>\n",
       "    <tr>\n",
       "      <th>1</th>\n",
       "      <td>369295551293819386</td>\n",
       "      <td>4155202433128406656</td>\n",
       "      <td>-4.057782</td>\n",
       "      <td>1.642422</td>\n",
       "      <td>False</td>\n",
       "      <td>-5.303237</td>\n",
       "      <td>0.103421</td>\n",
       "      <td>0.002994</td>\n",
       "      <td>0.001100</td>\n",
       "    </tr>\n",
       "    <tr>\n",
       "      <th>2</th>\n",
       "      <td>369295551293819386</td>\n",
       "      <td>4155249364167882752</td>\n",
       "      <td>NaN</td>\n",
       "      <td>NaN</td>\n",
       "      <td>False</td>\n",
       "      <td>-5.749463</td>\n",
       "      <td>0.149562</td>\n",
       "      <td>0.003224</td>\n",
       "      <td>0.000616</td>\n",
       "    </tr>\n",
       "    <tr>\n",
       "      <th>3</th>\n",
       "      <td>369295551293819386</td>\n",
       "      <td>4155304236665114240</td>\n",
       "      <td>NaN</td>\n",
       "      <td>NaN</td>\n",
       "      <td>False</td>\n",
       "      <td>-6.296397</td>\n",
       "      <td>0.214869</td>\n",
       "      <td>0.002256</td>\n",
       "      <td>0.000276</td>\n",
       "    </tr>\n",
       "    <tr>\n",
       "      <th>4</th>\n",
       "      <td>369295551293819386</td>\n",
       "      <td>4155320454462481792</td>\n",
       "      <td>-2.917126</td>\n",
       "      <td>1.678627</td>\n",
       "      <td>False</td>\n",
       "      <td>-5.480107</td>\n",
       "      <td>0.064176</td>\n",
       "      <td>0.002480</td>\n",
       "      <td>0.000475</td>\n",
       "    </tr>\n",
       "  </tbody>\n",
       "</table>\n",
       "</div>"
      ],
      "text/plain": [
       "          solution_id            source_id  abs_mag_bol  abs_mag_bol_error  \\\n",
       "0  369295551293819386  4154732632393909888    -1.933550           1.268047   \n",
       "1  369295551293819386  4155202433128406656    -4.057782           1.642422   \n",
       "2  369295551293819386  4155249364167882752          NaN                NaN   \n",
       "3  369295551293819386  4155304236665114240          NaN                NaN   \n",
       "4  369295551293819386  4155320454462481792    -2.917126           1.678627   \n",
       "\n",
       "   rsg_flag  bolometric_corr  bolometric_corr_error  frequency  \\\n",
       "0     False        -3.999809               0.041409   0.001859   \n",
       "1     False        -5.303237               0.103421   0.002994   \n",
       "2     False        -5.749463               0.149562   0.003224   \n",
       "3     False        -6.296397               0.214869   0.002256   \n",
       "4     False        -5.480107               0.064176   0.002480   \n",
       "\n",
       "   frequency_error  \n",
       "0         0.000992  \n",
       "1         0.001100  \n",
       "2         0.000616  \n",
       "3         0.000276  \n",
       "4         0.000475  "
      ]
     },
     "metadata": {},
     "output_type": "display_data"
    }
   ],
   "source": [
    "stats('VariLongPeriodVariable_1.csv')"
   ]
  },
  {
   "cell_type": "code",
   "execution_count": 18,
   "metadata": {},
   "outputs": [
    {
     "data": {
      "text/html": [
       "<div>\n",
       "<style scoped>\n",
       "    .dataframe tbody tr th:only-of-type {\n",
       "        vertical-align: middle;\n",
       "    }\n",
       "\n",
       "    .dataframe tbody tr th {\n",
       "        vertical-align: top;\n",
       "    }\n",
       "\n",
       "    .dataframe thead th {\n",
       "        text-align: right;\n",
       "    }\n",
       "</style>\n",
       "<table border=\"1\" class=\"dataframe\">\n",
       "  <thead>\n",
       "    <tr style=\"text-align: right;\">\n",
       "      <th></th>\n",
       "      <th>solution_id</th>\n",
       "      <th>source_id</th>\n",
       "      <th>num_segments</th>\n",
       "      <th>num_outliers</th>\n",
       "      <th>best_rotation_period</th>\n",
       "      <th>best_rotation_period_error</th>\n",
       "      <th>max_activity_index</th>\n",
       "      <th>max_activity_index_error</th>\n",
       "      <th>g_unspotted</th>\n",
       "      <th>g_unspotted_error</th>\n",
       "      <th>bp_unspotted</th>\n",
       "      <th>bp_unspotted_error</th>\n",
       "      <th>rp_unspotted</th>\n",
       "      <th>rp_unspotted_error</th>\n",
       "    </tr>\n",
       "  </thead>\n",
       "  <tbody>\n",
       "    <tr>\n",
       "      <th>count</th>\n",
       "      <td>8.670000e+02</td>\n",
       "      <td>8.670000e+02</td>\n",
       "      <td>867.000000</td>\n",
       "      <td>867.000000</td>\n",
       "      <td>867.000000</td>\n",
       "      <td>867.000000</td>\n",
       "      <td>867.000000</td>\n",
       "      <td>867.000000</td>\n",
       "      <td>867.000000</td>\n",
       "      <td>867.000000</td>\n",
       "      <td>818.000000</td>\n",
       "      <td>818.000000</td>\n",
       "      <td>822.000000</td>\n",
       "      <td>822.000000</td>\n",
       "    </tr>\n",
       "    <tr>\n",
       "      <th>mean</th>\n",
       "      <td>3.692955e+17</td>\n",
       "      <td>4.695934e+17</td>\n",
       "      <td>4.173010</td>\n",
       "      <td>7.377163</td>\n",
       "      <td>6.020485</td>\n",
       "      <td>0.326507</td>\n",
       "      <td>0.056685</td>\n",
       "      <td>0.006155</td>\n",
       "      <td>16.165628</td>\n",
       "      <td>0.005037</td>\n",
       "      <td>16.962536</td>\n",
       "      <td>0.055354</td>\n",
       "      <td>15.257412</td>\n",
       "      <td>0.019326</td>\n",
       "    </tr>\n",
       "    <tr>\n",
       "      <th>std</th>\n",
       "      <td>2.049182e+03</td>\n",
       "      <td>2.387687e+15</td>\n",
       "      <td>2.019549</td>\n",
       "      <td>3.310992</td>\n",
       "      <td>7.185388</td>\n",
       "      <td>0.554339</td>\n",
       "      <td>0.050528</td>\n",
       "      <td>0.005979</td>\n",
       "      <td>1.452082</td>\n",
       "      <td>0.005747</td>\n",
       "      <td>1.645779</td>\n",
       "      <td>0.081829</td>\n",
       "      <td>1.314539</td>\n",
       "      <td>0.014677</td>\n",
       "    </tr>\n",
       "    <tr>\n",
       "      <th>min</th>\n",
       "      <td>3.692955e+17</td>\n",
       "      <td>4.656095e+17</td>\n",
       "      <td>2.000000</td>\n",
       "      <td>1.000000</td>\n",
       "      <td>0.314563</td>\n",
       "      <td>0.000002</td>\n",
       "      <td>0.006721</td>\n",
       "      <td>0.000689</td>\n",
       "      <td>12.034792</td>\n",
       "      <td>0.000387</td>\n",
       "      <td>12.577415</td>\n",
       "      <td>0.002920</td>\n",
       "      <td>11.311963</td>\n",
       "      <td>0.002102</td>\n",
       "    </tr>\n",
       "    <tr>\n",
       "      <th>25%</th>\n",
       "      <td>3.692955e+17</td>\n",
       "      <td>4.676925e+17</td>\n",
       "      <td>3.000000</td>\n",
       "      <td>5.000000</td>\n",
       "      <td>1.498538</td>\n",
       "      <td>0.017123</td>\n",
       "      <td>0.025328</td>\n",
       "      <td>0.002540</td>\n",
       "      <td>15.166627</td>\n",
       "      <td>0.001731</td>\n",
       "      <td>15.827624</td>\n",
       "      <td>0.014143</td>\n",
       "      <td>14.345212</td>\n",
       "      <td>0.009010</td>\n",
       "    </tr>\n",
       "    <tr>\n",
       "      <th>50%</th>\n",
       "      <td>3.692955e+17</td>\n",
       "      <td>4.695263e+17</td>\n",
       "      <td>3.000000</td>\n",
       "      <td>7.000000</td>\n",
       "      <td>3.865407</td>\n",
       "      <td>0.115542</td>\n",
       "      <td>0.040974</td>\n",
       "      <td>0.004578</td>\n",
       "      <td>16.257925</td>\n",
       "      <td>0.003280</td>\n",
       "      <td>17.020177</td>\n",
       "      <td>0.028030</td>\n",
       "      <td>15.370629</td>\n",
       "      <td>0.015049</td>\n",
       "    </tr>\n",
       "    <tr>\n",
       "      <th>75%</th>\n",
       "      <td>3.692955e+17</td>\n",
       "      <td>4.715878e+17</td>\n",
       "      <td>5.000000</td>\n",
       "      <td>9.000000</td>\n",
       "      <td>7.123694</td>\n",
       "      <td>0.398507</td>\n",
       "      <td>0.078794</td>\n",
       "      <td>0.007455</td>\n",
       "      <td>17.285897</td>\n",
       "      <td>0.005971</td>\n",
       "      <td>18.153251</td>\n",
       "      <td>0.059982</td>\n",
       "      <td>16.278377</td>\n",
       "      <td>0.025772</td>\n",
       "    </tr>\n",
       "    <tr>\n",
       "      <th>max</th>\n",
       "      <td>3.692955e+17</td>\n",
       "      <td>4.745283e+17</td>\n",
       "      <td>11.000000</td>\n",
       "      <td>17.000000</td>\n",
       "      <td>47.603681</td>\n",
       "      <td>4.440393</td>\n",
       "      <td>0.762577</td>\n",
       "      <td>0.066150</td>\n",
       "      <td>19.551565</td>\n",
       "      <td>0.067965</td>\n",
       "      <td>21.433594</td>\n",
       "      <td>0.999663</td>\n",
       "      <td>18.378522</td>\n",
       "      <td>0.101176</td>\n",
       "    </tr>\n",
       "  </tbody>\n",
       "</table>\n",
       "</div>"
      ],
      "text/plain": [
       "        solution_id     source_id  num_segments  num_outliers  \\\n",
       "count  8.670000e+02  8.670000e+02    867.000000    867.000000   \n",
       "mean   3.692955e+17  4.695934e+17      4.173010      7.377163   \n",
       "std    2.049182e+03  2.387687e+15      2.019549      3.310992   \n",
       "min    3.692955e+17  4.656095e+17      2.000000      1.000000   \n",
       "25%    3.692955e+17  4.676925e+17      3.000000      5.000000   \n",
       "50%    3.692955e+17  4.695263e+17      3.000000      7.000000   \n",
       "75%    3.692955e+17  4.715878e+17      5.000000      9.000000   \n",
       "max    3.692955e+17  4.745283e+17     11.000000     17.000000   \n",
       "\n",
       "       best_rotation_period  best_rotation_period_error  max_activity_index  \\\n",
       "count            867.000000                  867.000000          867.000000   \n",
       "mean               6.020485                    0.326507            0.056685   \n",
       "std                7.185388                    0.554339            0.050528   \n",
       "min                0.314563                    0.000002            0.006721   \n",
       "25%                1.498538                    0.017123            0.025328   \n",
       "50%                3.865407                    0.115542            0.040974   \n",
       "75%                7.123694                    0.398507            0.078794   \n",
       "max               47.603681                    4.440393            0.762577   \n",
       "\n",
       "       max_activity_index_error  g_unspotted  g_unspotted_error  bp_unspotted  \\\n",
       "count                867.000000   867.000000         867.000000    818.000000   \n",
       "mean                   0.006155    16.165628           0.005037     16.962536   \n",
       "std                    0.005979     1.452082           0.005747      1.645779   \n",
       "min                    0.000689    12.034792           0.000387     12.577415   \n",
       "25%                    0.002540    15.166627           0.001731     15.827624   \n",
       "50%                    0.004578    16.257925           0.003280     17.020177   \n",
       "75%                    0.007455    17.285897           0.005971     18.153251   \n",
       "max                    0.066150    19.551565           0.067965     21.433594   \n",
       "\n",
       "       bp_unspotted_error  rp_unspotted  rp_unspotted_error  \n",
       "count          818.000000    822.000000          822.000000  \n",
       "mean             0.055354     15.257412            0.019326  \n",
       "std              0.081829      1.314539            0.014677  \n",
       "min              0.002920     11.311963            0.002102  \n",
       "25%              0.014143     14.345212            0.009010  \n",
       "50%              0.028030     15.370629            0.015049  \n",
       "75%              0.059982     16.278377            0.025772  \n",
       "max              0.999663     18.378522            0.101176  "
      ]
     },
     "metadata": {},
     "output_type": "display_data"
    },
    {
     "data": {
      "text/html": [
       "<div>\n",
       "<style scoped>\n",
       "    .dataframe tbody tr th:only-of-type {\n",
       "        vertical-align: middle;\n",
       "    }\n",
       "\n",
       "    .dataframe tbody tr th {\n",
       "        vertical-align: top;\n",
       "    }\n",
       "\n",
       "    .dataframe thead th {\n",
       "        text-align: right;\n",
       "    }\n",
       "</style>\n",
       "<table border=\"1\" class=\"dataframe\">\n",
       "  <thead>\n",
       "    <tr style=\"text-align: right;\">\n",
       "      <th></th>\n",
       "      <th>solution_id</th>\n",
       "      <th>source_id</th>\n",
       "      <th>num_segments</th>\n",
       "      <th>segments_start_time</th>\n",
       "      <th>segments_end_time</th>\n",
       "      <th>segments_colour_mag_intercept</th>\n",
       "      <th>segments_colour_mag_intercept_error</th>\n",
       "      <th>segments_colour_mag_slope</th>\n",
       "      <th>segments_colour_mag_slope_error</th>\n",
       "      <th>segments_correlation_coefficient</th>\n",
       "      <th>...</th>\n",
       "      <th>segments_bp_unspotted</th>\n",
       "      <th>segments_bp_unspotted_error</th>\n",
       "      <th>segments_rp_unspotted</th>\n",
       "      <th>segments_rp_unspotted_error</th>\n",
       "      <th>g_unspotted</th>\n",
       "      <th>g_unspotted_error</th>\n",
       "      <th>bp_unspotted</th>\n",
       "      <th>bp_unspotted_error</th>\n",
       "      <th>rp_unspotted</th>\n",
       "      <th>rp_unspotted_error</th>\n",
       "    </tr>\n",
       "  </thead>\n",
       "  <tbody>\n",
       "    <tr>\n",
       "      <th>0</th>\n",
       "      <td>369295549951641967</td>\n",
       "      <td>465609536182815360</td>\n",
       "      <td>2</td>\n",
       "      <td>(2207.3683886533745, 1702.9001414350496)</td>\n",
       "      <td>(2315.9040815273543, 2315.9040815273543)</td>\n",
       "      <td>(-22.682331069991935, -23.819469341736625)</td>\n",
       "      <td>(15.172141935692052, 11.702667043557165)</td>\n",
       "      <td>(1.378470441093909, 1.4418569907040673)</td>\n",
       "      <td>(0.8511787424543886, 0.6563471485912852)</td>\n",
       "      <td>(0.3752796631208172, 0.3722523858013472)</td>\n",
       "      <td>...</td>\n",
       "      <td>(18.65059331159953, 18.65059331159953)</td>\n",
       "      <td>(0.08755568705314526, 0.08755568705314526)</td>\n",
       "      <td>(16.829171890800346, 16.829171890800346)</td>\n",
       "      <td>(0.037171595698350185, 0.037171595698350185)</td>\n",
       "      <td>17.773779</td>\n",
       "      <td>0.008035</td>\n",
       "      <td>18.650593</td>\n",
       "      <td>0.087556</td>\n",
       "      <td>16.829172</td>\n",
       "      <td>0.037172</td>\n",
       "    </tr>\n",
       "    <tr>\n",
       "      <th>1</th>\n",
       "      <td>369295549951641967</td>\n",
       "      <td>465678461815126784</td>\n",
       "      <td>2</td>\n",
       "      <td>(2207.368642951862, 1702.825995034191)</td>\n",
       "      <td>(2316.4045885307028, 2316.4045885307028)</td>\n",
       "      <td>(-50.094787274038154, -36.16323154910394)</td>\n",
       "      <td>(34.55610214479653, 17.249166642259794)</td>\n",
       "      <td>(2.8918922153964335, 2.1154336243891634)</td>\n",
       "      <td>(1.9194992883441295, 0.95817078987832)</td>\n",
       "      <td>(0.3432064980018941, 0.3635754393410782)</td>\n",
       "      <td>...</td>\n",
       "      <td>(16.566937661127213, 16.566937661127213)</td>\n",
       "      <td>(0.019605674707414474, 0.019605674707414474)</td>\n",
       "      <td>(16.965031996266656, 16.965031996266656)</td>\n",
       "      <td>(0.03487408382630188, 0.03487408382630188)</td>\n",
       "      <td>17.931216</td>\n",
       "      <td>0.004103</td>\n",
       "      <td>16.566938</td>\n",
       "      <td>0.019606</td>\n",
       "      <td>16.965032</td>\n",
       "      <td>0.034874</td>\n",
       "    </tr>\n",
       "    <tr>\n",
       "      <th>2</th>\n",
       "      <td>369295549951641967</td>\n",
       "      <td>465713409972558080</td>\n",
       "      <td>2</td>\n",
       "      <td>(2207.442476763177, 1703.075891674743)</td>\n",
       "      <td>(2316.404105753336, 2316.404105753336)</td>\n",
       "      <td>(11.333308793198398, 1.582903329626966)</td>\n",
       "      <td>(2.894281447274563, 3.4243862560210596)</td>\n",
       "      <td>(-0.6964927325061107, 0.01382514050639164)</td>\n",
       "      <td>(0.210859461010667, 0.2494964956880064)</td>\n",
       "      <td>(-0.722338358171403, 0.010471340374940099)</td>\n",
       "      <td>...</td>\n",
       "      <td>(14.591443066002356, 14.56836997622469)</td>\n",
       "      <td>(0.007629569347918632, 0.00733284969106842)</td>\n",
       "      <td>(12.817522265237852, 12.813800317950605)</td>\n",
       "      <td>(0.004352269694640317, 0.00428065072493323)</td>\n",
       "      <td>13.718540</td>\n",
       "      <td>0.001223</td>\n",
       "      <td>14.568370</td>\n",
       "      <td>0.007333</td>\n",
       "      <td>12.813800</td>\n",
       "      <td>0.004281</td>\n",
       "    </tr>\n",
       "    <tr>\n",
       "      <th>3</th>\n",
       "      <td>369295549951641967</td>\n",
       "      <td>465916785263949056</td>\n",
       "      <td>2</td>\n",
       "      <td>(2207.118981959737, 1702.5758760960593)</td>\n",
       "      <td>(2317.1557228270417, 2317.1557228270417)</td>\n",
       "      <td>(37.94751588429654, -9.859884401982612)</td>\n",
       "      <td>(14.170753784933053, 5.519982271563861)</td>\n",
       "      <td>(-2.1690399810082224, 0.7006066526080089)</td>\n",
       "      <td>(0.8504634455097543, 0.33107069143607154)</td>\n",
       "      <td>(-0.6095863203747385, 0.33680198920942117)</td>\n",
       "      <td>...</td>\n",
       "      <td>(17.564851186252564, 17.529288876353988)</td>\n",
       "      <td>(0.052694025671497086, 0.039912911087548436)</td>\n",
       "      <td>(15.662225511280658, 15.690428911706226)</td>\n",
       "      <td>(0.020810251525230528, 0.018099888659390967)</td>\n",
       "      <td>16.639351</td>\n",
       "      <td>0.011710</td>\n",
       "      <td>17.529289</td>\n",
       "      <td>0.039913</td>\n",
       "      <td>15.690429</td>\n",
       "      <td>0.018100</td>\n",
       "    </tr>\n",
       "    <tr>\n",
       "      <th>4</th>\n",
       "      <td>369295549951641967</td>\n",
       "      <td>465980763097401344</td>\n",
       "      <td>5</td>\n",
       "      <td>(2059.594222984022, 2112.993832966294, 2160.17...</td>\n",
       "      <td>(2162.9290002421835, 2207.443485473842, 2260.6...</td>\n",
       "      <td>(-5.5112068011570905, -4.094160885947163, -4.3...</td>\n",
       "      <td>(4.505125649507433, 4.8995075172237454, 5.0857...</td>\n",
       "      <td>(0.45250105961859927, 0.35964008425769295, 0.3...</td>\n",
       "      <td>(0.2950423293770487, 0.3208865779162278, 0.333...</td>\n",
       "      <td>(0.3580069377154992, 0.2698018305860862, 0.271...</td>\n",
       "      <td>...</td>\n",
       "      <td>(15.861872157864939, 15.861872157864939, 15.86...</td>\n",
       "      <td>(0.013722650842348093, 0.013722650842348093, 0...</td>\n",
       "      <td>(14.479001142935667, 14.479001142935667, 14.47...</td>\n",
       "      <td>(0.009437489518496794, 0.009437489518496794, 0...</td>\n",
       "      <td>15.256970</td>\n",
       "      <td>0.001702</td>\n",
       "      <td>15.861872</td>\n",
       "      <td>0.013723</td>\n",
       "      <td>14.479001</td>\n",
       "      <td>0.009437</td>\n",
       "    </tr>\n",
       "  </tbody>\n",
       "</table>\n",
       "<p>5 rows × 40 columns</p>\n",
       "</div>"
      ],
      "text/plain": [
       "          solution_id           source_id  num_segments  \\\n",
       "0  369295549951641967  465609536182815360             2   \n",
       "1  369295549951641967  465678461815126784             2   \n",
       "2  369295549951641967  465713409972558080             2   \n",
       "3  369295549951641967  465916785263949056             2   \n",
       "4  369295549951641967  465980763097401344             5   \n",
       "\n",
       "                                 segments_start_time  \\\n",
       "0           (2207.3683886533745, 1702.9001414350496)   \n",
       "1             (2207.368642951862, 1702.825995034191)   \n",
       "2             (2207.442476763177, 1703.075891674743)   \n",
       "3            (2207.118981959737, 1702.5758760960593)   \n",
       "4  (2059.594222984022, 2112.993832966294, 2160.17...   \n",
       "\n",
       "                                   segments_end_time  \\\n",
       "0           (2315.9040815273543, 2315.9040815273543)   \n",
       "1           (2316.4045885307028, 2316.4045885307028)   \n",
       "2             (2316.404105753336, 2316.404105753336)   \n",
       "3           (2317.1557228270417, 2317.1557228270417)   \n",
       "4  (2162.9290002421835, 2207.443485473842, 2260.6...   \n",
       "\n",
       "                       segments_colour_mag_intercept  \\\n",
       "0         (-22.682331069991935, -23.819469341736625)   \n",
       "1          (-50.094787274038154, -36.16323154910394)   \n",
       "2            (11.333308793198398, 1.582903329626966)   \n",
       "3            (37.94751588429654, -9.859884401982612)   \n",
       "4  (-5.5112068011570905, -4.094160885947163, -4.3...   \n",
       "\n",
       "                 segments_colour_mag_intercept_error  \\\n",
       "0           (15.172141935692052, 11.702667043557165)   \n",
       "1            (34.55610214479653, 17.249166642259794)   \n",
       "2            (2.894281447274563, 3.4243862560210596)   \n",
       "3            (14.170753784933053, 5.519982271563861)   \n",
       "4  (4.505125649507433, 4.8995075172237454, 5.0857...   \n",
       "\n",
       "                           segments_colour_mag_slope  \\\n",
       "0            (1.378470441093909, 1.4418569907040673)   \n",
       "1           (2.8918922153964335, 2.1154336243891634)   \n",
       "2         (-0.6964927325061107, 0.01382514050639164)   \n",
       "3          (-2.1690399810082224, 0.7006066526080089)   \n",
       "4  (0.45250105961859927, 0.35964008425769295, 0.3...   \n",
       "\n",
       "                     segments_colour_mag_slope_error  \\\n",
       "0           (0.8511787424543886, 0.6563471485912852)   \n",
       "1             (1.9194992883441295, 0.95817078987832)   \n",
       "2            (0.210859461010667, 0.2494964956880064)   \n",
       "3          (0.8504634455097543, 0.33107069143607154)   \n",
       "4  (0.2950423293770487, 0.3208865779162278, 0.333...   \n",
       "\n",
       "                    segments_correlation_coefficient        ...          \\\n",
       "0           (0.3752796631208172, 0.3722523858013472)        ...           \n",
       "1           (0.3432064980018941, 0.3635754393410782)        ...           \n",
       "2         (-0.722338358171403, 0.010471340374940099)        ...           \n",
       "3         (-0.6095863203747385, 0.33680198920942117)        ...           \n",
       "4  (0.3580069377154992, 0.2698018305860862, 0.271...        ...           \n",
       "\n",
       "                               segments_bp_unspotted  \\\n",
       "0             (18.65059331159953, 18.65059331159953)   \n",
       "1           (16.566937661127213, 16.566937661127213)   \n",
       "2            (14.591443066002356, 14.56836997622469)   \n",
       "3           (17.564851186252564, 17.529288876353988)   \n",
       "4  (15.861872157864939, 15.861872157864939, 15.86...   \n",
       "\n",
       "                         segments_bp_unspotted_error  \\\n",
       "0         (0.08755568705314526, 0.08755568705314526)   \n",
       "1       (0.019605674707414474, 0.019605674707414474)   \n",
       "2        (0.007629569347918632, 0.00733284969106842)   \n",
       "3       (0.052694025671497086, 0.039912911087548436)   \n",
       "4  (0.013722650842348093, 0.013722650842348093, 0...   \n",
       "\n",
       "                               segments_rp_unspotted  \\\n",
       "0           (16.829171890800346, 16.829171890800346)   \n",
       "1           (16.965031996266656, 16.965031996266656)   \n",
       "2           (12.817522265237852, 12.813800317950605)   \n",
       "3           (15.662225511280658, 15.690428911706226)   \n",
       "4  (14.479001142935667, 14.479001142935667, 14.47...   \n",
       "\n",
       "                         segments_rp_unspotted_error g_unspotted  \\\n",
       "0       (0.037171595698350185, 0.037171595698350185)   17.773779   \n",
       "1         (0.03487408382630188, 0.03487408382630188)   17.931216   \n",
       "2        (0.004352269694640317, 0.00428065072493323)   13.718540   \n",
       "3       (0.020810251525230528, 0.018099888659390967)   16.639351   \n",
       "4  (0.009437489518496794, 0.009437489518496794, 0...   15.256970   \n",
       "\n",
       "  g_unspotted_error bp_unspotted bp_unspotted_error rp_unspotted  \\\n",
       "0          0.008035    18.650593           0.087556    16.829172   \n",
       "1          0.004103    16.566938           0.019606    16.965032   \n",
       "2          0.001223    14.568370           0.007333    12.813800   \n",
       "3          0.011710    17.529289           0.039913    15.690429   \n",
       "4          0.001702    15.861872           0.013723    14.479001   \n",
       "\n",
       "  rp_unspotted_error  \n",
       "0           0.037172  \n",
       "1           0.034874  \n",
       "2           0.004281  \n",
       "3           0.018100  \n",
       "4           0.009437  \n",
       "\n",
       "[5 rows x 40 columns]"
      ]
     },
     "metadata": {},
     "output_type": "display_data"
    }
   ],
   "source": [
    "stats('VariRotationModulation_0.csv')"
   ]
  },
  {
   "cell_type": "code",
   "execution_count": 19,
   "metadata": {},
   "outputs": [
    {
     "ename": "ParserError",
     "evalue": "Error tokenizing data. C error: Expected 2 fields in line 228, saw 5\n",
     "output_type": "error",
     "traceback": [
      "\u001b[0;31m---------------------------------------------------------------------------\u001b[0m",
      "\u001b[0;31mParserError\u001b[0m                               Traceback (most recent call last)",
      "\u001b[0;32m<ipython-input-19-5eb274d6ff53>\u001b[0m in \u001b[0;36m<module>\u001b[0;34m()\u001b[0m\n\u001b[0;32m----> 1\u001b[0;31m \u001b[0mstats\u001b[0m\u001b[0;34m(\u001b[0m\u001b[0;34m'VariRotationModulation_0.fits'\u001b[0m\u001b[0;34m)\u001b[0m\u001b[0;34m\u001b[0m\u001b[0m\n\u001b[0m",
      "\u001b[0;32m<ipython-input-2-abcbae013f27>\u001b[0m in \u001b[0;36mstats\u001b[0;34m(filename)\u001b[0m\n\u001b[1;32m      4\u001b[0m \u001b[0;34m\u001b[0m\u001b[0m\n\u001b[1;32m      5\u001b[0m \u001b[0;32mdef\u001b[0m \u001b[0mstats\u001b[0m\u001b[0;34m(\u001b[0m\u001b[0mfilename\u001b[0m\u001b[0;34m)\u001b[0m\u001b[0;34m:\u001b[0m\u001b[0;34m\u001b[0m\u001b[0m\n\u001b[0;32m----> 6\u001b[0;31m     \u001b[0mdf\u001b[0m \u001b[0;34m=\u001b[0m \u001b[0mread_data\u001b[0m\u001b[0;34m(\u001b[0m\u001b[0mfilename\u001b[0m\u001b[0;34m)\u001b[0m\u001b[0;34m\u001b[0m\u001b[0m\n\u001b[0m\u001b[1;32m      7\u001b[0m     \u001b[0mdisplay\u001b[0m\u001b[0;34m(\u001b[0m\u001b[0mdf\u001b[0m\u001b[0;34m.\u001b[0m\u001b[0mdescribe\u001b[0m\u001b[0;34m(\u001b[0m\u001b[0;34m)\u001b[0m\u001b[0;34m)\u001b[0m\u001b[0;34m\u001b[0m\u001b[0m\n\u001b[1;32m      8\u001b[0m     \u001b[0mdisplay\u001b[0m\u001b[0;34m(\u001b[0m\u001b[0mdf\u001b[0m\u001b[0;34m.\u001b[0m\u001b[0mhead\u001b[0m\u001b[0;34m(\u001b[0m\u001b[0;34m)\u001b[0m\u001b[0;34m)\u001b[0m\u001b[0;34m\u001b[0m\u001b[0m\n",
      "\u001b[0;32m<ipython-input-2-abcbae013f27>\u001b[0m in \u001b[0;36mread_data\u001b[0;34m(filename)\u001b[0m\n\u001b[1;32m      1\u001b[0m \u001b[0;32mdef\u001b[0m \u001b[0mread_data\u001b[0m\u001b[0;34m(\u001b[0m\u001b[0mfilename\u001b[0m\u001b[0;34m)\u001b[0m\u001b[0;34m:\u001b[0m\u001b[0;34m\u001b[0m\u001b[0m\n\u001b[1;32m      2\u001b[0m     \u001b[0;31m#print(\"./unzipped-sample-data/\" + str(filename))\u001b[0m\u001b[0;34m\u001b[0m\u001b[0;34m\u001b[0m\u001b[0m\n\u001b[0;32m----> 3\u001b[0;31m     \u001b[0;32mreturn\u001b[0m \u001b[0mpd\u001b[0m\u001b[0;34m.\u001b[0m\u001b[0mread_csv\u001b[0m\u001b[0;34m(\u001b[0m\u001b[0;34m\"./unzipped-sample-data/\"\u001b[0m \u001b[0;34m+\u001b[0m \u001b[0mstr\u001b[0m\u001b[0;34m(\u001b[0m\u001b[0mfilename\u001b[0m\u001b[0;34m)\u001b[0m\u001b[0;34m)\u001b[0m\u001b[0;34m\u001b[0m\u001b[0m\n\u001b[0m\u001b[1;32m      4\u001b[0m \u001b[0;34m\u001b[0m\u001b[0m\n\u001b[1;32m      5\u001b[0m \u001b[0;32mdef\u001b[0m \u001b[0mstats\u001b[0m\u001b[0;34m(\u001b[0m\u001b[0mfilename\u001b[0m\u001b[0;34m)\u001b[0m\u001b[0;34m:\u001b[0m\u001b[0;34m\u001b[0m\u001b[0m\n",
      "\u001b[0;32m/anaconda3/lib/python3.6/site-packages/pandas/io/parsers.py\u001b[0m in \u001b[0;36mparser_f\u001b[0;34m(filepath_or_buffer, sep, delimiter, header, names, index_col, usecols, squeeze, prefix, mangle_dupe_cols, dtype, engine, converters, true_values, false_values, skipinitialspace, skiprows, nrows, na_values, keep_default_na, na_filter, verbose, skip_blank_lines, parse_dates, infer_datetime_format, keep_date_col, date_parser, dayfirst, iterator, chunksize, compression, thousands, decimal, lineterminator, quotechar, quoting, escapechar, comment, encoding, dialect, tupleize_cols, error_bad_lines, warn_bad_lines, skipfooter, doublequote, delim_whitespace, low_memory, memory_map, float_precision)\u001b[0m\n\u001b[1;32m    676\u001b[0m                     skip_blank_lines=skip_blank_lines)\n\u001b[1;32m    677\u001b[0m \u001b[0;34m\u001b[0m\u001b[0m\n\u001b[0;32m--> 678\u001b[0;31m         \u001b[0;32mreturn\u001b[0m \u001b[0m_read\u001b[0m\u001b[0;34m(\u001b[0m\u001b[0mfilepath_or_buffer\u001b[0m\u001b[0;34m,\u001b[0m \u001b[0mkwds\u001b[0m\u001b[0;34m)\u001b[0m\u001b[0;34m\u001b[0m\u001b[0m\n\u001b[0m\u001b[1;32m    679\u001b[0m \u001b[0;34m\u001b[0m\u001b[0m\n\u001b[1;32m    680\u001b[0m     \u001b[0mparser_f\u001b[0m\u001b[0;34m.\u001b[0m\u001b[0m__name__\u001b[0m \u001b[0;34m=\u001b[0m \u001b[0mname\u001b[0m\u001b[0;34m\u001b[0m\u001b[0m\n",
      "\u001b[0;32m/anaconda3/lib/python3.6/site-packages/pandas/io/parsers.py\u001b[0m in \u001b[0;36m_read\u001b[0;34m(filepath_or_buffer, kwds)\u001b[0m\n\u001b[1;32m    444\u001b[0m \u001b[0;34m\u001b[0m\u001b[0m\n\u001b[1;32m    445\u001b[0m     \u001b[0;32mtry\u001b[0m\u001b[0;34m:\u001b[0m\u001b[0;34m\u001b[0m\u001b[0m\n\u001b[0;32m--> 446\u001b[0;31m         \u001b[0mdata\u001b[0m \u001b[0;34m=\u001b[0m \u001b[0mparser\u001b[0m\u001b[0;34m.\u001b[0m\u001b[0mread\u001b[0m\u001b[0;34m(\u001b[0m\u001b[0mnrows\u001b[0m\u001b[0;34m)\u001b[0m\u001b[0;34m\u001b[0m\u001b[0m\n\u001b[0m\u001b[1;32m    447\u001b[0m     \u001b[0;32mfinally\u001b[0m\u001b[0;34m:\u001b[0m\u001b[0;34m\u001b[0m\u001b[0m\n\u001b[1;32m    448\u001b[0m         \u001b[0mparser\u001b[0m\u001b[0;34m.\u001b[0m\u001b[0mclose\u001b[0m\u001b[0;34m(\u001b[0m\u001b[0;34m)\u001b[0m\u001b[0;34m\u001b[0m\u001b[0m\n",
      "\u001b[0;32m/anaconda3/lib/python3.6/site-packages/pandas/io/parsers.py\u001b[0m in \u001b[0;36mread\u001b[0;34m(self, nrows)\u001b[0m\n\u001b[1;32m   1034\u001b[0m                 \u001b[0;32mraise\u001b[0m \u001b[0mValueError\u001b[0m\u001b[0;34m(\u001b[0m\u001b[0;34m'skipfooter not supported for iteration'\u001b[0m\u001b[0;34m)\u001b[0m\u001b[0;34m\u001b[0m\u001b[0m\n\u001b[1;32m   1035\u001b[0m \u001b[0;34m\u001b[0m\u001b[0m\n\u001b[0;32m-> 1036\u001b[0;31m         \u001b[0mret\u001b[0m \u001b[0;34m=\u001b[0m \u001b[0mself\u001b[0m\u001b[0;34m.\u001b[0m\u001b[0m_engine\u001b[0m\u001b[0;34m.\u001b[0m\u001b[0mread\u001b[0m\u001b[0;34m(\u001b[0m\u001b[0mnrows\u001b[0m\u001b[0;34m)\u001b[0m\u001b[0;34m\u001b[0m\u001b[0m\n\u001b[0m\u001b[1;32m   1037\u001b[0m \u001b[0;34m\u001b[0m\u001b[0m\n\u001b[1;32m   1038\u001b[0m         \u001b[0;31m# May alter columns / col_dict\u001b[0m\u001b[0;34m\u001b[0m\u001b[0;34m\u001b[0m\u001b[0m\n",
      "\u001b[0;32m/anaconda3/lib/python3.6/site-packages/pandas/io/parsers.py\u001b[0m in \u001b[0;36mread\u001b[0;34m(self, nrows)\u001b[0m\n\u001b[1;32m   1846\u001b[0m     \u001b[0;32mdef\u001b[0m \u001b[0mread\u001b[0m\u001b[0;34m(\u001b[0m\u001b[0mself\u001b[0m\u001b[0;34m,\u001b[0m \u001b[0mnrows\u001b[0m\u001b[0;34m=\u001b[0m\u001b[0;32mNone\u001b[0m\u001b[0;34m)\u001b[0m\u001b[0;34m:\u001b[0m\u001b[0;34m\u001b[0m\u001b[0m\n\u001b[1;32m   1847\u001b[0m         \u001b[0;32mtry\u001b[0m\u001b[0;34m:\u001b[0m\u001b[0;34m\u001b[0m\u001b[0m\n\u001b[0;32m-> 1848\u001b[0;31m             \u001b[0mdata\u001b[0m \u001b[0;34m=\u001b[0m \u001b[0mself\u001b[0m\u001b[0;34m.\u001b[0m\u001b[0m_reader\u001b[0m\u001b[0;34m.\u001b[0m\u001b[0mread\u001b[0m\u001b[0;34m(\u001b[0m\u001b[0mnrows\u001b[0m\u001b[0;34m)\u001b[0m\u001b[0;34m\u001b[0m\u001b[0m\n\u001b[0m\u001b[1;32m   1849\u001b[0m         \u001b[0;32mexcept\u001b[0m \u001b[0mStopIteration\u001b[0m\u001b[0;34m:\u001b[0m\u001b[0;34m\u001b[0m\u001b[0m\n\u001b[1;32m   1850\u001b[0m             \u001b[0;32mif\u001b[0m \u001b[0mself\u001b[0m\u001b[0;34m.\u001b[0m\u001b[0m_first_chunk\u001b[0m\u001b[0;34m:\u001b[0m\u001b[0;34m\u001b[0m\u001b[0m\n",
      "\u001b[0;32mpandas/_libs/parsers.pyx\u001b[0m in \u001b[0;36mpandas._libs.parsers.TextReader.read\u001b[0;34m()\u001b[0m\n",
      "\u001b[0;32mpandas/_libs/parsers.pyx\u001b[0m in \u001b[0;36mpandas._libs.parsers.TextReader._read_low_memory\u001b[0;34m()\u001b[0m\n",
      "\u001b[0;32mpandas/_libs/parsers.pyx\u001b[0m in \u001b[0;36mpandas._libs.parsers.TextReader._read_rows\u001b[0;34m()\u001b[0m\n",
      "\u001b[0;32mpandas/_libs/parsers.pyx\u001b[0m in \u001b[0;36mpandas._libs.parsers.TextReader._tokenize_rows\u001b[0;34m()\u001b[0m\n",
      "\u001b[0;32mpandas/_libs/parsers.pyx\u001b[0m in \u001b[0;36mpandas._libs.parsers.raise_parser_error\u001b[0;34m()\u001b[0m\n",
      "\u001b[0;31mParserError\u001b[0m: Error tokenizing data. C error: Expected 2 fields in line 228, saw 5\n"
     ]
    }
   ],
   "source": [
    "stats('VariRotationModulation_0.fits')"
   ]
  },
  {
   "cell_type": "code",
   "execution_count": 20,
   "metadata": {},
   "outputs": [
    {
     "data": {
      "text/html": [
       "<div>\n",
       "<style scoped>\n",
       "    .dataframe tbody tr th:only-of-type {\n",
       "        vertical-align: middle;\n",
       "    }\n",
       "\n",
       "    .dataframe tbody tr th {\n",
       "        vertical-align: top;\n",
       "    }\n",
       "\n",
       "    .dataframe thead th {\n",
       "        text-align: right;\n",
       "    }\n",
       "</style>\n",
       "<table border=\"1\" class=\"dataframe\">\n",
       "  <thead>\n",
       "    <tr style=\"text-align: right;\">\n",
       "      <th></th>\n",
       "      <th>solution_id</th>\n",
       "      <th>source_id</th>\n",
       "      <th>amplitude_estimate</th>\n",
       "      <th>number_of_fov_transits</th>\n",
       "      <th>mean_of_fov_abbe_values</th>\n",
       "      <th>variogram_num_points</th>\n",
       "      <th>frequency</th>\n",
       "    </tr>\n",
       "  </thead>\n",
       "  <tbody>\n",
       "    <tr>\n",
       "      <th>count</th>\n",
       "      <td>1.600000e+01</td>\n",
       "      <td>1.600000e+01</td>\n",
       "      <td>16.000000</td>\n",
       "      <td>16.000000</td>\n",
       "      <td>16.000000</td>\n",
       "      <td>16.0</td>\n",
       "      <td>16.000000</td>\n",
       "    </tr>\n",
       "    <tr>\n",
       "      <th>mean</th>\n",
       "      <td>3.692955e+17</td>\n",
       "      <td>5.713498e+18</td>\n",
       "      <td>0.434395</td>\n",
       "      <td>35.562500</td>\n",
       "      <td>0.709994</td>\n",
       "      <td>1.0</td>\n",
       "      <td>38.642552</td>\n",
       "    </tr>\n",
       "    <tr>\n",
       "      <th>std</th>\n",
       "      <td>0.000000e+00</td>\n",
       "      <td>4.093030e+15</td>\n",
       "      <td>0.185132</td>\n",
       "      <td>6.642979</td>\n",
       "      <td>0.066162</td>\n",
       "      <td>0.0</td>\n",
       "      <td>49.176468</td>\n",
       "    </tr>\n",
       "    <tr>\n",
       "      <th>min</th>\n",
       "      <td>3.692955e+17</td>\n",
       "      <td>5.707250e+18</td>\n",
       "      <td>0.144182</td>\n",
       "      <td>26.000000</td>\n",
       "      <td>0.602852</td>\n",
       "      <td>1.0</td>\n",
       "      <td>2.325174</td>\n",
       "    </tr>\n",
       "    <tr>\n",
       "      <th>25%</th>\n",
       "      <td>3.692955e+17</td>\n",
       "      <td>5.710672e+18</td>\n",
       "      <td>0.293716</td>\n",
       "      <td>31.000000</td>\n",
       "      <td>0.652540</td>\n",
       "      <td>1.0</td>\n",
       "      <td>6.529017</td>\n",
       "    </tr>\n",
       "    <tr>\n",
       "      <th>50%</th>\n",
       "      <td>3.692955e+17</td>\n",
       "      <td>5.714055e+18</td>\n",
       "      <td>0.414825</td>\n",
       "      <td>34.000000</td>\n",
       "      <td>0.716719</td>\n",
       "      <td>1.0</td>\n",
       "      <td>8.541519</td>\n",
       "    </tr>\n",
       "    <tr>\n",
       "      <th>75%</th>\n",
       "      <td>3.692955e+17</td>\n",
       "      <td>5.717089e+18</td>\n",
       "      <td>0.533396</td>\n",
       "      <td>38.250000</td>\n",
       "      <td>0.762617</td>\n",
       "      <td>1.0</td>\n",
       "      <td>50.438746</td>\n",
       "    </tr>\n",
       "    <tr>\n",
       "      <th>max</th>\n",
       "      <td>3.692955e+17</td>\n",
       "      <td>5.718381e+18</td>\n",
       "      <td>0.828931</td>\n",
       "      <td>51.000000</td>\n",
       "      <td>0.814696</td>\n",
       "      <td>1.0</td>\n",
       "      <td>139.686785</td>\n",
       "    </tr>\n",
       "  </tbody>\n",
       "</table>\n",
       "</div>"
      ],
      "text/plain": [
       "        solution_id     source_id  amplitude_estimate  number_of_fov_transits  \\\n",
       "count  1.600000e+01  1.600000e+01           16.000000               16.000000   \n",
       "mean   3.692955e+17  5.713498e+18            0.434395               35.562500   \n",
       "std    0.000000e+00  4.093030e+15            0.185132                6.642979   \n",
       "min    3.692955e+17  5.707250e+18            0.144182               26.000000   \n",
       "25%    3.692955e+17  5.710672e+18            0.293716               31.000000   \n",
       "50%    3.692955e+17  5.714055e+18            0.414825               34.000000   \n",
       "75%    3.692955e+17  5.717089e+18            0.533396               38.250000   \n",
       "max    3.692955e+17  5.718381e+18            0.828931               51.000000   \n",
       "\n",
       "       mean_of_fov_abbe_values  variogram_num_points   frequency  \n",
       "count                16.000000                  16.0   16.000000  \n",
       "mean                  0.709994                   1.0   38.642552  \n",
       "std                   0.066162                   0.0   49.176468  \n",
       "min                   0.602852                   1.0    2.325174  \n",
       "25%                   0.652540                   1.0    6.529017  \n",
       "50%                   0.716719                   1.0    8.541519  \n",
       "75%                   0.762617                   1.0   50.438746  \n",
       "max                   0.814696                   1.0  139.686785  "
      ]
     },
     "metadata": {},
     "output_type": "display_data"
    },
    {
     "data": {
      "text/html": [
       "<div>\n",
       "<style scoped>\n",
       "    .dataframe tbody tr th:only-of-type {\n",
       "        vertical-align: middle;\n",
       "    }\n",
       "\n",
       "    .dataframe tbody tr th {\n",
       "        vertical-align: top;\n",
       "    }\n",
       "\n",
       "    .dataframe thead th {\n",
       "        text-align: right;\n",
       "    }\n",
       "</style>\n",
       "<table border=\"1\" class=\"dataframe\">\n",
       "  <thead>\n",
       "    <tr style=\"text-align: right;\">\n",
       "      <th></th>\n",
       "      <th>solution_id</th>\n",
       "      <th>source_id</th>\n",
       "      <th>amplitude_estimate</th>\n",
       "      <th>number_of_fov_transits</th>\n",
       "      <th>mean_of_fov_abbe_values</th>\n",
       "      <th>variogram_num_points</th>\n",
       "      <th>variogram_char_timescales</th>\n",
       "      <th>variogram_values</th>\n",
       "      <th>frequency</th>\n",
       "    </tr>\n",
       "  </thead>\n",
       "  <tbody>\n",
       "    <tr>\n",
       "      <th>0</th>\n",
       "      <td>369295549951641967</td>\n",
       "      <td>5707249819640074752</td>\n",
       "      <td>0.378352</td>\n",
       "      <td>26</td>\n",
       "      <td>0.778979</td>\n",
       "      <td>1</td>\n",
       "      <td>(3.935E-4)</td>\n",
       "      <td>(0.0028688570521095452)</td>\n",
       "      <td>81.232828</td>\n",
       "    </tr>\n",
       "    <tr>\n",
       "      <th>1</th>\n",
       "      <td>369295549951641967</td>\n",
       "      <td>5707282530115076224</td>\n",
       "      <td>0.210361</td>\n",
       "      <td>51</td>\n",
       "      <td>0.645447</td>\n",
       "      <td>1</td>\n",
       "      <td>(0.074)</td>\n",
       "      <td>(0.00891448997876036)</td>\n",
       "      <td>36.149953</td>\n",
       "    </tr>\n",
       "    <tr>\n",
       "      <th>2</th>\n",
       "      <td>369295549951641967</td>\n",
       "      <td>5707309085894861056</td>\n",
       "      <td>0.354742</td>\n",
       "      <td>27</td>\n",
       "      <td>0.602852</td>\n",
       "      <td>1</td>\n",
       "      <td>(3.375E-4)</td>\n",
       "      <td>(0.006101621964684221)</td>\n",
       "      <td>139.686785</td>\n",
       "    </tr>\n",
       "    <tr>\n",
       "      <th>3</th>\n",
       "      <td>369295549951641967</td>\n",
       "      <td>5708590570992182528</td>\n",
       "      <td>0.597970</td>\n",
       "      <td>31</td>\n",
       "      <td>0.706283</td>\n",
       "      <td>1</td>\n",
       "      <td>(0.074)</td>\n",
       "      <td>(0.04899318992208193)</td>\n",
       "      <td>2.325174</td>\n",
       "    </tr>\n",
       "    <tr>\n",
       "      <th>4</th>\n",
       "      <td>369295549951641967</td>\n",
       "      <td>5711365772709417856</td>\n",
       "      <td>0.745405</td>\n",
       "      <td>33</td>\n",
       "      <td>0.768482</td>\n",
       "      <td>1</td>\n",
       "      <td>(4.495E-4)</td>\n",
       "      <td>(0.011989450680034864)</td>\n",
       "      <td>8.886555</td>\n",
       "    </tr>\n",
       "  </tbody>\n",
       "</table>\n",
       "</div>"
      ],
      "text/plain": [
       "          solution_id            source_id  amplitude_estimate  \\\n",
       "0  369295549951641967  5707249819640074752            0.378352   \n",
       "1  369295549951641967  5707282530115076224            0.210361   \n",
       "2  369295549951641967  5707309085894861056            0.354742   \n",
       "3  369295549951641967  5708590570992182528            0.597970   \n",
       "4  369295549951641967  5711365772709417856            0.745405   \n",
       "\n",
       "   number_of_fov_transits  mean_of_fov_abbe_values  variogram_num_points  \\\n",
       "0                      26                 0.778979                     1   \n",
       "1                      51                 0.645447                     1   \n",
       "2                      27                 0.602852                     1   \n",
       "3                      31                 0.706283                     1   \n",
       "4                      33                 0.768482                     1   \n",
       "\n",
       "  variogram_char_timescales         variogram_values   frequency  \n",
       "0                (3.935E-4)  (0.0028688570521095452)   81.232828  \n",
       "1                   (0.074)    (0.00891448997876036)   36.149953  \n",
       "2                (3.375E-4)   (0.006101621964684221)  139.686785  \n",
       "3                   (0.074)    (0.04899318992208193)    2.325174  \n",
       "4                (4.495E-4)   (0.011989450680034864)    8.886555  "
      ]
     },
     "metadata": {},
     "output_type": "display_data"
    }
   ],
   "source": [
    "stats('VariShortTimescale_10.csv')"
   ]
  },
  {
   "cell_type": "code",
   "execution_count": null,
   "metadata": {
    "collapsed": true
   },
   "outputs": [],
   "source": []
  }
 ],
 "metadata": {
  "kernelspec": {
   "display_name": "Python 3",
   "language": "python",
   "name": "python3"
  },
  "language_info": {
   "codemirror_mode": {
    "name": "ipython",
    "version": 3
   },
   "file_extension": ".py",
   "mimetype": "text/x-python",
   "name": "python",
   "nbconvert_exporter": "python",
   "pygments_lexer": "ipython3",
   "version": "3.6.3"
  }
 },
 "nbformat": 4,
 "nbformat_minor": 2
}
