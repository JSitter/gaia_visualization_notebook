{
 "cells": [
  {
   "cell_type": "code",
   "execution_count": 6,
   "metadata": {
    "collapsed": true
   },
   "outputs": [],
   "source": [
    "import pandas as pd\n",
    "import plotly.plotly as py\n",
    "import plotly.graph_objs as go\n",
    "import numpy as np"
   ]
  },
  {
   "cell_type": "code",
   "execution_count": 7,
   "metadata": {
    "collapsed": true
   },
   "outputs": [],
   "source": [
    "def read_data(filename):\n",
    "    return pd.read_csv(\"./Datasets/\" + str(filename))\n",
    "\n"
   ]
  },
  {
   "cell_type": "code",
   "execution_count": 8,
   "metadata": {},
   "outputs": [],
   "source": [
    "df = read_data('m22-result.csv')"
   ]
  },
  {
   "cell_type": "code",
   "execution_count": 9,
   "metadata": {},
   "outputs": [
    {
     "data": {
      "text/html": [
       "<div>\n",
       "<style scoped>\n",
       "    .dataframe tbody tr th:only-of-type {\n",
       "        vertical-align: middle;\n",
       "    }\n",
       "\n",
       "    .dataframe tbody tr th {\n",
       "        vertical-align: top;\n",
       "    }\n",
       "\n",
       "    .dataframe thead th {\n",
       "        text-align: right;\n",
       "    }\n",
       "</style>\n",
       "<table border=\"1\" class=\"dataframe\">\n",
       "  <thead>\n",
       "    <tr style=\"text-align: right;\">\n",
       "      <th></th>\n",
       "      <th>source_id</th>\n",
       "      <th>ra</th>\n",
       "      <th>ra_error</th>\n",
       "      <th>dec</th>\n",
       "      <th>dec_error</th>\n",
       "      <th>parallax</th>\n",
       "      <th>parallax_error</th>\n",
       "      <th>phot_g_mean_mag</th>\n",
       "      <th>bp_rp</th>\n",
       "      <th>radial_velocity</th>\n",
       "      <th>radial_velocity_error</th>\n",
       "      <th>phot_variable_flag</th>\n",
       "      <th>teff_val</th>\n",
       "      <th>a_g_val</th>\n",
       "    </tr>\n",
       "  </thead>\n",
       "  <tbody>\n",
       "    <tr>\n",
       "      <th>0</th>\n",
       "      <td>293142272550422144</td>\n",
       "      <td>18.828735</td>\n",
       "      <td>1.059145</td>\n",
       "      <td>23.657928</td>\n",
       "      <td>1.004165</td>\n",
       "      <td>-0.742299</td>\n",
       "      <td>1.303872</td>\n",
       "      <td>19.522093</td>\n",
       "      <td>2.781448</td>\n",
       "      <td>NaN</td>\n",
       "      <td>NaN</td>\n",
       "      <td>NOT_AVAILABLE</td>\n",
       "      <td>NaN</td>\n",
       "      <td>NaN</td>\n",
       "    </tr>\n",
       "    <tr>\n",
       "      <th>1</th>\n",
       "      <td>293154779497736576</td>\n",
       "      <td>19.048133</td>\n",
       "      <td>7.035013</td>\n",
       "      <td>23.890264</td>\n",
       "      <td>4.245816</td>\n",
       "      <td>NaN</td>\n",
       "      <td>NaN</td>\n",
       "      <td>20.814266</td>\n",
       "      <td>1.839504</td>\n",
       "      <td>NaN</td>\n",
       "      <td>NaN</td>\n",
       "      <td>NOT_AVAILABLE</td>\n",
       "      <td>NaN</td>\n",
       "      <td>NaN</td>\n",
       "    </tr>\n",
       "    <tr>\n",
       "      <th>2</th>\n",
       "      <td>293119698203855872</td>\n",
       "      <td>18.642833</td>\n",
       "      <td>0.753666</td>\n",
       "      <td>23.564642</td>\n",
       "      <td>0.803801</td>\n",
       "      <td>1.928671</td>\n",
       "      <td>0.942664</td>\n",
       "      <td>20.257034</td>\n",
       "      <td>1.377119</td>\n",
       "      <td>NaN</td>\n",
       "      <td>NaN</td>\n",
       "      <td>NOT_AVAILABLE</td>\n",
       "      <td>NaN</td>\n",
       "      <td>NaN</td>\n",
       "    </tr>\n",
       "    <tr>\n",
       "      <th>3</th>\n",
       "      <td>293143784378909056</td>\n",
       "      <td>18.782794</td>\n",
       "      <td>0.640238</td>\n",
       "      <td>23.652893</td>\n",
       "      <td>0.571532</td>\n",
       "      <td>0.934840</td>\n",
       "      <td>0.735278</td>\n",
       "      <td>20.247559</td>\n",
       "      <td>1.548111</td>\n",
       "      <td>NaN</td>\n",
       "      <td>NaN</td>\n",
       "      <td>NOT_AVAILABLE</td>\n",
       "      <td>NaN</td>\n",
       "      <td>NaN</td>\n",
       "    </tr>\n",
       "    <tr>\n",
       "      <th>4</th>\n",
       "      <td>293110764670929792</td>\n",
       "      <td>18.514460</td>\n",
       "      <td>0.848885</td>\n",
       "      <td>23.405879</td>\n",
       "      <td>0.521026</td>\n",
       "      <td>0.282508</td>\n",
       "      <td>0.937850</td>\n",
       "      <td>19.905382</td>\n",
       "      <td>0.893349</td>\n",
       "      <td>NaN</td>\n",
       "      <td>NaN</td>\n",
       "      <td>NOT_AVAILABLE</td>\n",
       "      <td>NaN</td>\n",
       "      <td>NaN</td>\n",
       "    </tr>\n",
       "  </tbody>\n",
       "</table>\n",
       "</div>"
      ],
      "text/plain": [
       "            source_id         ra  ra_error        dec  dec_error  parallax  \\\n",
       "0  293142272550422144  18.828735  1.059145  23.657928   1.004165 -0.742299   \n",
       "1  293154779497736576  19.048133  7.035013  23.890264   4.245816       NaN   \n",
       "2  293119698203855872  18.642833  0.753666  23.564642   0.803801  1.928671   \n",
       "3  293143784378909056  18.782794  0.640238  23.652893   0.571532  0.934840   \n",
       "4  293110764670929792  18.514460  0.848885  23.405879   0.521026  0.282508   \n",
       "\n",
       "   parallax_error  phot_g_mean_mag     bp_rp  radial_velocity  \\\n",
       "0        1.303872        19.522093  2.781448              NaN   \n",
       "1             NaN        20.814266  1.839504              NaN   \n",
       "2        0.942664        20.257034  1.377119              NaN   \n",
       "3        0.735278        20.247559  1.548111              NaN   \n",
       "4        0.937850        19.905382  0.893349              NaN   \n",
       "\n",
       "   radial_velocity_error phot_variable_flag  teff_val  a_g_val  \n",
       "0                    NaN      NOT_AVAILABLE       NaN      NaN  \n",
       "1                    NaN      NOT_AVAILABLE       NaN      NaN  \n",
       "2                    NaN      NOT_AVAILABLE       NaN      NaN  \n",
       "3                    NaN      NOT_AVAILABLE       NaN      NaN  \n",
       "4                    NaN      NOT_AVAILABLE       NaN      NaN  "
      ]
     },
     "execution_count": 9,
     "metadata": {},
     "output_type": "execute_result"
    }
   ],
   "source": [
    "df.head()"
   ]
  },
  {
   "cell_type": "code",
   "execution_count": 20,
   "metadata": {},
   "outputs": [
    {
     "data": {
      "text/plain": [
       "23.658228955248045"
      ]
     },
     "metadata": {},
     "output_type": "display_data"
    },
    {
     "data": {
      "text/html": [
       "<iframe id=\"igraph\" scrolling=\"no\" style=\"border:none;\" seamless=\"seamless\" src=\"https://plot.ly/~Globulous/46.embed\" height=\"525px\" width=\"100%\"></iframe>"
      ],
      "text/plain": [
       "<plotly.tools.PlotlyDisplay object>"
      ]
     },
     "execution_count": 20,
     "metadata": {},
     "output_type": "execute_result"
    }
   ],
   "source": [
    "# distance in parsecs  is d=1/p\n",
    "df = df[(df['parallax_error'] < .25)]\n",
    "len(df)\n",
    "x = list()\n",
    "y = []\n",
    "z = []\n",
    "for index, row in df.iterrows():\n",
    "    parsecs = 1/float(row['parallax'])\n",
    "    if parsecs > 1000:\n",
    "        continue\n",
    "    z.append(parsecs)\n",
    "    x.append(float(row['ra']))\n",
    "    y.append(float(row['dec']))\n",
    "\n",
    "display(y[0])\n",
    "trace = go.Scatter3d(\n",
    "    x=x,\n",
    "    y=y,\n",
    "    z=z,\n",
    "    mode='markers',\n",
    "    marker=dict(\n",
    "        size=2,\n",
    "        line=dict(\n",
    "            color='rgba(217, 217, 217, 0.14)',\n",
    "            width=0.5\n",
    "        ),\n",
    "        opacity=0.8\n",
    "    )\n",
    ")\n",
    "\n",
    "layout = go.Layout(\n",
    "    margin=dict(\n",
    "        l=0,\n",
    "        r=0,\n",
    "        b=0,\n",
    "        t=0\n",
    "    ),\n",
    "    paper_bgcolor='rgba(1,1,1,1)',\n",
    "    plot_bgcolor='rgba(0,0,0,1)'\n",
    ")\n",
    "fig = go.Figure(data=[trace], layout=layout)\n",
    "py.iplot(fig, filename='m22')"
   ]
  },
  {
   "cell_type": "code",
   "execution_count": null,
   "metadata": {
    "collapsed": true
   },
   "outputs": [],
   "source": []
  },
  {
   "cell_type": "code",
   "execution_count": null,
   "metadata": {},
   "outputs": [],
   "source": [
    "\n"
   ]
  },
  {
   "cell_type": "code",
   "execution_count": null,
   "metadata": {
    "collapsed": true
   },
   "outputs": [],
   "source": []
  }
 ],
 "metadata": {
  "kernelspec": {
   "display_name": "Python 3",
   "language": "python",
   "name": "python3"
  },
  "language_info": {
   "codemirror_mode": {
    "name": "ipython",
    "version": 3
   },
   "file_extension": ".py",
   "mimetype": "text/x-python",
   "name": "python",
   "nbconvert_exporter": "python",
   "pygments_lexer": "ipython3",
   "version": "3.6.3"
  }
 },
 "nbformat": 4,
 "nbformat_minor": 2
}
